{
  "nbformat": 4,
  "nbformat_minor": 0,
  "metadata": {
    "colab": {
      "name": "AyVD-G17-TP2.ipynb",
      "provenance": [],
      "collapsed_sections": []
    },
    "kernelspec": {
      "name": "python3",
      "display_name": "Python 3"
    }
  },
  "cells": [
    {
      "cell_type": "markdown",
      "metadata": {
        "id": "LYvAOR2VzHmW"
      },
      "source": [
        "\n",
        "**Diplomatura en Ciencia de Datos, Aprendizaje Automático y sus Aplicaciones**\n",
        "\n",
        "**Edición 2022**\n",
        "\n",
        "---\n",
        "## Trabajo práctico entregable - Parte 2\n",
        "---\n",
        "\n",
        "##**GRUPO 17**\n",
        "\n",
        "**Balbuena, Florencia**\n",
        "\n",
        "**Conrrero, Agustina**\n",
        "\n",
        "**Sanchez Herrera, Carlos**\n",
        "\n",
        "**Serrantes, Sebastian**\n",
        "\n",
        "---"
      ]
    },
    {
      "cell_type": "code",
      "metadata": {
        "id": "Xwdfo7z20TUK"
      },
      "source": [
        "import io\n",
        "import matplotlib\n",
        "import matplotlib.pyplot as plt\n",
        "import numpy\n",
        "import math \n",
        "import pandas as pd\n",
        "import seaborn as sns\n",
        "\n",
        "sns.set_context('talk')"
      ],
      "execution_count": null,
      "outputs": []
    },
    {
      "cell_type": "markdown",
      "metadata": {
        "id": "XY2Hl-Ma07Nn"
      },
      "source": [
        "## Lectura del dataset\n",
        "\n",
        "En la notebook 00 se explican los detalles de la siguiente sección."
      ]
    },
    {
      "cell_type": "code",
      "metadata": {
        "id": "Vviv_sqXdR5W"
      },
      "source": [
        "url = 'https://cs.famaf.unc.edu.ar/~mteruel/datasets/diplodatos/sysarmy_survey_2020_processed.csv'\n",
        "df = pd.read_csv(url)"
      ],
      "execution_count": null,
      "outputs": []
    },
    {
      "cell_type": "code",
      "metadata": {
        "id": "gckNHXXLktJ4",
        "colab": {
          "base_uri": "https://localhost:8080/",
          "height": 324
        },
        "outputId": "bf9d1476-1438-4671-b0b7-e09136787523"
      },
      "source": [
        "df[:3]"
      ],
      "execution_count": null,
      "outputs": [
        {
          "output_type": "execute_result",
          "data": {
            "text/plain": [
              "  profile_gender  profile_age work_country                    work_province  \\\n",
              "0          Mujer           26    Argentina  Ciudad Autónoma de Buenos Aires   \n",
              "1         Hombre           29    Argentina                       Corrientes   \n",
              "2          Mujer           22    Argentina  Ciudad Autónoma de Buenos Aires   \n",
              "\n",
              "   profile_years_experience  work_years_in_company  \\\n",
              "0                       3.0                    3.0   \n",
              "1                       5.0                    2.0   \n",
              "2                       2.0                    0.0   \n",
              "\n",
              "   work_years_in_current_position  work_people_in_charge_of  \\\n",
              "0                             3.0                         0   \n",
              "1                             2.0                         4   \n",
              "2                             0.0                         0   \n",
              "\n",
              "  profile_studies_level profile_studies_level_state  ...  \\\n",
              "0         Universitario                    En curso  ...   \n",
              "1         Universitario                    En curso  ...   \n",
              "2            Secundario                  Completado  ...   \n",
              "\n",
              "  work_has_violence_situations profile_sexual_orientation  \\\n",
              "0         En mi trabajo actual                 Homosexual   \n",
              "1                        Jamás               Heterosexual   \n",
              "2       En un trabajo anterior           Bisexual o queer   \n",
              "\n",
              "  profile_has_disabilities profile_has_disabilities_hiring_difficulties  \\\n",
              "0                      NaN                                          NaN   \n",
              "1                   Visual                                           No   \n",
              "2                      NaN                                           No   \n",
              "\n",
              "  company_employee_number                          company_main_activity  \\\n",
              "0                501-1000  Servicios / Consultoría de Software / Digital   \n",
              "1                 201-500                               Otras industrias   \n",
              "2               2001-5000                               Otras industrias   \n",
              "\n",
              "  company_recommended company_diversity_policies  \\\n",
              "0                   7                          2   \n",
              "1                   8                          9   \n",
              "2                   6                          9   \n",
              "\n",
              "                              company_extra_benefits  \\\n",
              "0  Capacitaciones y/o cursos, Comidas pagas / sub...   \n",
              "1  Horarios flexibles, Stock options / RSUs, Viát...   \n",
              "2  Clases de gimnasia online, Comidas pagas / sub...   \n",
              "\n",
              "  company_best_companies_city  \n",
              "0                         NaN  \n",
              "1                         NaN  \n",
              "2                         NaN  \n",
              "\n",
              "[3 rows x 48 columns]"
            ],
            "text/html": [
              "\n",
              "  <div id=\"df-6dd94d95-32ef-4f89-bc5a-aef435440d4a\">\n",
              "    <div class=\"colab-df-container\">\n",
              "      <div>\n",
              "<style scoped>\n",
              "    .dataframe tbody tr th:only-of-type {\n",
              "        vertical-align: middle;\n",
              "    }\n",
              "\n",
              "    .dataframe tbody tr th {\n",
              "        vertical-align: top;\n",
              "    }\n",
              "\n",
              "    .dataframe thead th {\n",
              "        text-align: right;\n",
              "    }\n",
              "</style>\n",
              "<table border=\"1\" class=\"dataframe\">\n",
              "  <thead>\n",
              "    <tr style=\"text-align: right;\">\n",
              "      <th></th>\n",
              "      <th>profile_gender</th>\n",
              "      <th>profile_age</th>\n",
              "      <th>work_country</th>\n",
              "      <th>work_province</th>\n",
              "      <th>profile_years_experience</th>\n",
              "      <th>work_years_in_company</th>\n",
              "      <th>work_years_in_current_position</th>\n",
              "      <th>work_people_in_charge_of</th>\n",
              "      <th>profile_studies_level</th>\n",
              "      <th>profile_studies_level_state</th>\n",
              "      <th>...</th>\n",
              "      <th>work_has_violence_situations</th>\n",
              "      <th>profile_sexual_orientation</th>\n",
              "      <th>profile_has_disabilities</th>\n",
              "      <th>profile_has_disabilities_hiring_difficulties</th>\n",
              "      <th>company_employee_number</th>\n",
              "      <th>company_main_activity</th>\n",
              "      <th>company_recommended</th>\n",
              "      <th>company_diversity_policies</th>\n",
              "      <th>company_extra_benefits</th>\n",
              "      <th>company_best_companies_city</th>\n",
              "    </tr>\n",
              "  </thead>\n",
              "  <tbody>\n",
              "    <tr>\n",
              "      <th>0</th>\n",
              "      <td>Mujer</td>\n",
              "      <td>26</td>\n",
              "      <td>Argentina</td>\n",
              "      <td>Ciudad Autónoma de Buenos Aires</td>\n",
              "      <td>3.0</td>\n",
              "      <td>3.0</td>\n",
              "      <td>3.0</td>\n",
              "      <td>0</td>\n",
              "      <td>Universitario</td>\n",
              "      <td>En curso</td>\n",
              "      <td>...</td>\n",
              "      <td>En mi trabajo actual</td>\n",
              "      <td>Homosexual</td>\n",
              "      <td>NaN</td>\n",
              "      <td>NaN</td>\n",
              "      <td>501-1000</td>\n",
              "      <td>Servicios / Consultoría de Software / Digital</td>\n",
              "      <td>7</td>\n",
              "      <td>2</td>\n",
              "      <td>Capacitaciones y/o cursos, Comidas pagas / sub...</td>\n",
              "      <td>NaN</td>\n",
              "    </tr>\n",
              "    <tr>\n",
              "      <th>1</th>\n",
              "      <td>Hombre</td>\n",
              "      <td>29</td>\n",
              "      <td>Argentina</td>\n",
              "      <td>Corrientes</td>\n",
              "      <td>5.0</td>\n",
              "      <td>2.0</td>\n",
              "      <td>2.0</td>\n",
              "      <td>4</td>\n",
              "      <td>Universitario</td>\n",
              "      <td>En curso</td>\n",
              "      <td>...</td>\n",
              "      <td>Jamás</td>\n",
              "      <td>Heterosexual</td>\n",
              "      <td>Visual</td>\n",
              "      <td>No</td>\n",
              "      <td>201-500</td>\n",
              "      <td>Otras industrias</td>\n",
              "      <td>8</td>\n",
              "      <td>9</td>\n",
              "      <td>Horarios flexibles, Stock options / RSUs, Viát...</td>\n",
              "      <td>NaN</td>\n",
              "    </tr>\n",
              "    <tr>\n",
              "      <th>2</th>\n",
              "      <td>Mujer</td>\n",
              "      <td>22</td>\n",
              "      <td>Argentina</td>\n",
              "      <td>Ciudad Autónoma de Buenos Aires</td>\n",
              "      <td>2.0</td>\n",
              "      <td>0.0</td>\n",
              "      <td>0.0</td>\n",
              "      <td>0</td>\n",
              "      <td>Secundario</td>\n",
              "      <td>Completado</td>\n",
              "      <td>...</td>\n",
              "      <td>En un trabajo anterior</td>\n",
              "      <td>Bisexual o queer</td>\n",
              "      <td>NaN</td>\n",
              "      <td>No</td>\n",
              "      <td>2001-5000</td>\n",
              "      <td>Otras industrias</td>\n",
              "      <td>6</td>\n",
              "      <td>9</td>\n",
              "      <td>Clases de gimnasia online, Comidas pagas / sub...</td>\n",
              "      <td>NaN</td>\n",
              "    </tr>\n",
              "  </tbody>\n",
              "</table>\n",
              "<p>3 rows × 48 columns</p>\n",
              "</div>\n",
              "      <button class=\"colab-df-convert\" onclick=\"convertToInteractive('df-6dd94d95-32ef-4f89-bc5a-aef435440d4a')\"\n",
              "              title=\"Convert this dataframe to an interactive table.\"\n",
              "              style=\"display:none;\">\n",
              "        \n",
              "  <svg xmlns=\"http://www.w3.org/2000/svg\" height=\"24px\"viewBox=\"0 0 24 24\"\n",
              "       width=\"24px\">\n",
              "    <path d=\"M0 0h24v24H0V0z\" fill=\"none\"/>\n",
              "    <path d=\"M18.56 5.44l.94 2.06.94-2.06 2.06-.94-2.06-.94-.94-2.06-.94 2.06-2.06.94zm-11 1L8.5 8.5l.94-2.06 2.06-.94-2.06-.94L8.5 2.5l-.94 2.06-2.06.94zm10 10l.94 2.06.94-2.06 2.06-.94-2.06-.94-.94-2.06-.94 2.06-2.06.94z\"/><path d=\"M17.41 7.96l-1.37-1.37c-.4-.4-.92-.59-1.43-.59-.52 0-1.04.2-1.43.59L10.3 9.45l-7.72 7.72c-.78.78-.78 2.05 0 2.83L4 21.41c.39.39.9.59 1.41.59.51 0 1.02-.2 1.41-.59l7.78-7.78 2.81-2.81c.8-.78.8-2.07 0-2.86zM5.41 20L4 18.59l7.72-7.72 1.47 1.35L5.41 20z\"/>\n",
              "  </svg>\n",
              "      </button>\n",
              "      \n",
              "  <style>\n",
              "    .colab-df-container {\n",
              "      display:flex;\n",
              "      flex-wrap:wrap;\n",
              "      gap: 12px;\n",
              "    }\n",
              "\n",
              "    .colab-df-convert {\n",
              "      background-color: #E8F0FE;\n",
              "      border: none;\n",
              "      border-radius: 50%;\n",
              "      cursor: pointer;\n",
              "      display: none;\n",
              "      fill: #1967D2;\n",
              "      height: 32px;\n",
              "      padding: 0 0 0 0;\n",
              "      width: 32px;\n",
              "    }\n",
              "\n",
              "    .colab-df-convert:hover {\n",
              "      background-color: #E2EBFA;\n",
              "      box-shadow: 0px 1px 2px rgba(60, 64, 67, 0.3), 0px 1px 3px 1px rgba(60, 64, 67, 0.15);\n",
              "      fill: #174EA6;\n",
              "    }\n",
              "\n",
              "    [theme=dark] .colab-df-convert {\n",
              "      background-color: #3B4455;\n",
              "      fill: #D2E3FC;\n",
              "    }\n",
              "\n",
              "    [theme=dark] .colab-df-convert:hover {\n",
              "      background-color: #434B5C;\n",
              "      box-shadow: 0px 1px 3px 1px rgba(0, 0, 0, 0.15);\n",
              "      filter: drop-shadow(0px 1px 2px rgba(0, 0, 0, 0.3));\n",
              "      fill: #FFFFFF;\n",
              "    }\n",
              "  </style>\n",
              "\n",
              "      <script>\n",
              "        const buttonEl =\n",
              "          document.querySelector('#df-6dd94d95-32ef-4f89-bc5a-aef435440d4a button.colab-df-convert');\n",
              "        buttonEl.style.display =\n",
              "          google.colab.kernel.accessAllowed ? 'block' : 'none';\n",
              "\n",
              "        async function convertToInteractive(key) {\n",
              "          const element = document.querySelector('#df-6dd94d95-32ef-4f89-bc5a-aef435440d4a');\n",
              "          const dataTable =\n",
              "            await google.colab.kernel.invokeFunction('convertToInteractive',\n",
              "                                                     [key], {});\n",
              "          if (!dataTable) return;\n",
              "\n",
              "          const docLinkHtml = 'Like what you see? Visit the ' +\n",
              "            '<a target=\"_blank\" href=https://colab.research.google.com/notebooks/data_table.ipynb>data table notebook</a>'\n",
              "            + ' to learn more about interactive tables.';\n",
              "          element.innerHTML = '';\n",
              "          dataTable['output_type'] = 'display_data';\n",
              "          await google.colab.output.renderOutput(dataTable, element);\n",
              "          const docLink = document.createElement('div');\n",
              "          docLink.innerHTML = docLinkHtml;\n",
              "          element.appendChild(docLink);\n",
              "        }\n",
              "      </script>\n",
              "    </div>\n",
              "  </div>\n",
              "  "
            ]
          },
          "metadata": {},
          "execution_count": 3
        }
      ]
    },
    {
      "cell_type": "code",
      "metadata": {
        "id": "2lzmzK1NuPNT",
        "colab": {
          "base_uri": "https://localhost:8080/",
          "height": 206
        },
        "outputId": "899f899d-1a7e-478a-96b5-b5c44b2d438d"
      },
      "source": [
        "df[['profile_gender', 'salary_monthly_NETO']].groupby('profile_gender').describe()"
      ],
      "execution_count": null,
      "outputs": [
        {
          "output_type": "execute_result",
          "data": {
            "text/plain": [
              "               salary_monthly_NETO                                     \\\n",
              "                             count          mean            std   min   \n",
              "profile_gender                                                          \n",
              "Hombre                      4944.0  98836.063558  102159.664237   1.0   \n",
              "Mujer                        908.0  73501.414465   56256.880181   2.0   \n",
              "Otros                         31.0  95441.354839   88635.674358  40.0   \n",
              "\n",
              "                                                       \n",
              "                    25%      50%       75%        max  \n",
              "profile_gender                                         \n",
              "Hombre          53285.0  80000.0  110000.0  2080000.0  \n",
              "Mujer           43818.0  65000.0   92000.0   800000.0  \n",
              "Otros           39500.0  74000.0  117500.0   380000.0  "
            ],
            "text/html": [
              "\n",
              "  <div id=\"df-98a6512e-d89c-42e2-a3b5-37d75cf61979\">\n",
              "    <div class=\"colab-df-container\">\n",
              "      <div>\n",
              "<style scoped>\n",
              "    .dataframe tbody tr th:only-of-type {\n",
              "        vertical-align: middle;\n",
              "    }\n",
              "\n",
              "    .dataframe tbody tr th {\n",
              "        vertical-align: top;\n",
              "    }\n",
              "\n",
              "    .dataframe thead tr th {\n",
              "        text-align: left;\n",
              "    }\n",
              "\n",
              "    .dataframe thead tr:last-of-type th {\n",
              "        text-align: right;\n",
              "    }\n",
              "</style>\n",
              "<table border=\"1\" class=\"dataframe\">\n",
              "  <thead>\n",
              "    <tr>\n",
              "      <th></th>\n",
              "      <th colspan=\"8\" halign=\"left\">salary_monthly_NETO</th>\n",
              "    </tr>\n",
              "    <tr>\n",
              "      <th></th>\n",
              "      <th>count</th>\n",
              "      <th>mean</th>\n",
              "      <th>std</th>\n",
              "      <th>min</th>\n",
              "      <th>25%</th>\n",
              "      <th>50%</th>\n",
              "      <th>75%</th>\n",
              "      <th>max</th>\n",
              "    </tr>\n",
              "    <tr>\n",
              "      <th>profile_gender</th>\n",
              "      <th></th>\n",
              "      <th></th>\n",
              "      <th></th>\n",
              "      <th></th>\n",
              "      <th></th>\n",
              "      <th></th>\n",
              "      <th></th>\n",
              "      <th></th>\n",
              "    </tr>\n",
              "  </thead>\n",
              "  <tbody>\n",
              "    <tr>\n",
              "      <th>Hombre</th>\n",
              "      <td>4944.0</td>\n",
              "      <td>98836.063558</td>\n",
              "      <td>102159.664237</td>\n",
              "      <td>1.0</td>\n",
              "      <td>53285.0</td>\n",
              "      <td>80000.0</td>\n",
              "      <td>110000.0</td>\n",
              "      <td>2080000.0</td>\n",
              "    </tr>\n",
              "    <tr>\n",
              "      <th>Mujer</th>\n",
              "      <td>908.0</td>\n",
              "      <td>73501.414465</td>\n",
              "      <td>56256.880181</td>\n",
              "      <td>2.0</td>\n",
              "      <td>43818.0</td>\n",
              "      <td>65000.0</td>\n",
              "      <td>92000.0</td>\n",
              "      <td>800000.0</td>\n",
              "    </tr>\n",
              "    <tr>\n",
              "      <th>Otros</th>\n",
              "      <td>31.0</td>\n",
              "      <td>95441.354839</td>\n",
              "      <td>88635.674358</td>\n",
              "      <td>40.0</td>\n",
              "      <td>39500.0</td>\n",
              "      <td>74000.0</td>\n",
              "      <td>117500.0</td>\n",
              "      <td>380000.0</td>\n",
              "    </tr>\n",
              "  </tbody>\n",
              "</table>\n",
              "</div>\n",
              "      <button class=\"colab-df-convert\" onclick=\"convertToInteractive('df-98a6512e-d89c-42e2-a3b5-37d75cf61979')\"\n",
              "              title=\"Convert this dataframe to an interactive table.\"\n",
              "              style=\"display:none;\">\n",
              "        \n",
              "  <svg xmlns=\"http://www.w3.org/2000/svg\" height=\"24px\"viewBox=\"0 0 24 24\"\n",
              "       width=\"24px\">\n",
              "    <path d=\"M0 0h24v24H0V0z\" fill=\"none\"/>\n",
              "    <path d=\"M18.56 5.44l.94 2.06.94-2.06 2.06-.94-2.06-.94-.94-2.06-.94 2.06-2.06.94zm-11 1L8.5 8.5l.94-2.06 2.06-.94-2.06-.94L8.5 2.5l-.94 2.06-2.06.94zm10 10l.94 2.06.94-2.06 2.06-.94-2.06-.94-.94-2.06-.94 2.06-2.06.94z\"/><path d=\"M17.41 7.96l-1.37-1.37c-.4-.4-.92-.59-1.43-.59-.52 0-1.04.2-1.43.59L10.3 9.45l-7.72 7.72c-.78.78-.78 2.05 0 2.83L4 21.41c.39.39.9.59 1.41.59.51 0 1.02-.2 1.41-.59l7.78-7.78 2.81-2.81c.8-.78.8-2.07 0-2.86zM5.41 20L4 18.59l7.72-7.72 1.47 1.35L5.41 20z\"/>\n",
              "  </svg>\n",
              "      </button>\n",
              "      \n",
              "  <style>\n",
              "    .colab-df-container {\n",
              "      display:flex;\n",
              "      flex-wrap:wrap;\n",
              "      gap: 12px;\n",
              "    }\n",
              "\n",
              "    .colab-df-convert {\n",
              "      background-color: #E8F0FE;\n",
              "      border: none;\n",
              "      border-radius: 50%;\n",
              "      cursor: pointer;\n",
              "      display: none;\n",
              "      fill: #1967D2;\n",
              "      height: 32px;\n",
              "      padding: 0 0 0 0;\n",
              "      width: 32px;\n",
              "    }\n",
              "\n",
              "    .colab-df-convert:hover {\n",
              "      background-color: #E2EBFA;\n",
              "      box-shadow: 0px 1px 2px rgba(60, 64, 67, 0.3), 0px 1px 3px 1px rgba(60, 64, 67, 0.15);\n",
              "      fill: #174EA6;\n",
              "    }\n",
              "\n",
              "    [theme=dark] .colab-df-convert {\n",
              "      background-color: #3B4455;\n",
              "      fill: #D2E3FC;\n",
              "    }\n",
              "\n",
              "    [theme=dark] .colab-df-convert:hover {\n",
              "      background-color: #434B5C;\n",
              "      box-shadow: 0px 1px 3px 1px rgba(0, 0, 0, 0.15);\n",
              "      filter: drop-shadow(0px 1px 2px rgba(0, 0, 0, 0.3));\n",
              "      fill: #FFFFFF;\n",
              "    }\n",
              "  </style>\n",
              "\n",
              "      <script>\n",
              "        const buttonEl =\n",
              "          document.querySelector('#df-98a6512e-d89c-42e2-a3b5-37d75cf61979 button.colab-df-convert');\n",
              "        buttonEl.style.display =\n",
              "          google.colab.kernel.accessAllowed ? 'block' : 'none';\n",
              "\n",
              "        async function convertToInteractive(key) {\n",
              "          const element = document.querySelector('#df-98a6512e-d89c-42e2-a3b5-37d75cf61979');\n",
              "          const dataTable =\n",
              "            await google.colab.kernel.invokeFunction('convertToInteractive',\n",
              "                                                     [key], {});\n",
              "          if (!dataTable) return;\n",
              "\n",
              "          const docLinkHtml = 'Like what you see? Visit the ' +\n",
              "            '<a target=\"_blank\" href=https://colab.research.google.com/notebooks/data_table.ipynb>data table notebook</a>'\n",
              "            + ' to learn more about interactive tables.';\n",
              "          element.innerHTML = '';\n",
              "          dataTable['output_type'] = 'display_data';\n",
              "          await google.colab.output.renderOutput(dataTable, element);\n",
              "          const docLink = document.createElement('div');\n",
              "          docLink.innerHTML = docLinkHtml;\n",
              "          element.appendChild(docLink);\n",
              "        }\n",
              "      </script>\n",
              "    </div>\n",
              "  </div>\n",
              "  "
            ]
          },
          "metadata": {},
          "execution_count": 4
        }
      ]
    },
    {
      "cell_type": "code",
      "metadata": {
        "colab": {
          "base_uri": "https://localhost:8080/",
          "height": 206
        },
        "id": "pycKJ5jWkShW",
        "outputId": "40512dd8-3f71-4f70-db74-12da08396124"
      },
      "source": [
        "df[df.salary_monthly_NETO > 1000]\\\n",
        "  [['profile_gender', 'salary_monthly_NETO']].groupby('profile_gender').describe()"
      ],
      "execution_count": null,
      "outputs": [
        {
          "output_type": "execute_result",
          "data": {
            "text/plain": [
              "               salary_monthly_NETO                                         \\\n",
              "                             count           mean            std      min   \n",
              "profile_gender                                                              \n",
              "Hombre                      4815.0  101481.624343  102215.304684   1100.0   \n",
              "Mujer                        863.0   77328.913778   55082.760570   2000.0   \n",
              "Otros                         28.0  105660.714286   87235.710235  34000.0   \n",
              "\n",
              "                                                       \n",
              "                    25%      50%       75%        max  \n",
              "profile_gender                                         \n",
              "Hombre          55000.0  80000.0  110000.0  2080000.0  \n",
              "Mujer           47850.0  67200.0   93000.0   800000.0  \n",
              "Otros           43750.0  78900.0  122750.0   380000.0  "
            ],
            "text/html": [
              "\n",
              "  <div id=\"df-e7e77f9a-5012-452e-9af7-cca20acba0ba\">\n",
              "    <div class=\"colab-df-container\">\n",
              "      <div>\n",
              "<style scoped>\n",
              "    .dataframe tbody tr th:only-of-type {\n",
              "        vertical-align: middle;\n",
              "    }\n",
              "\n",
              "    .dataframe tbody tr th {\n",
              "        vertical-align: top;\n",
              "    }\n",
              "\n",
              "    .dataframe thead tr th {\n",
              "        text-align: left;\n",
              "    }\n",
              "\n",
              "    .dataframe thead tr:last-of-type th {\n",
              "        text-align: right;\n",
              "    }\n",
              "</style>\n",
              "<table border=\"1\" class=\"dataframe\">\n",
              "  <thead>\n",
              "    <tr>\n",
              "      <th></th>\n",
              "      <th colspan=\"8\" halign=\"left\">salary_monthly_NETO</th>\n",
              "    </tr>\n",
              "    <tr>\n",
              "      <th></th>\n",
              "      <th>count</th>\n",
              "      <th>mean</th>\n",
              "      <th>std</th>\n",
              "      <th>min</th>\n",
              "      <th>25%</th>\n",
              "      <th>50%</th>\n",
              "      <th>75%</th>\n",
              "      <th>max</th>\n",
              "    </tr>\n",
              "    <tr>\n",
              "      <th>profile_gender</th>\n",
              "      <th></th>\n",
              "      <th></th>\n",
              "      <th></th>\n",
              "      <th></th>\n",
              "      <th></th>\n",
              "      <th></th>\n",
              "      <th></th>\n",
              "      <th></th>\n",
              "    </tr>\n",
              "  </thead>\n",
              "  <tbody>\n",
              "    <tr>\n",
              "      <th>Hombre</th>\n",
              "      <td>4815.0</td>\n",
              "      <td>101481.624343</td>\n",
              "      <td>102215.304684</td>\n",
              "      <td>1100.0</td>\n",
              "      <td>55000.0</td>\n",
              "      <td>80000.0</td>\n",
              "      <td>110000.0</td>\n",
              "      <td>2080000.0</td>\n",
              "    </tr>\n",
              "    <tr>\n",
              "      <th>Mujer</th>\n",
              "      <td>863.0</td>\n",
              "      <td>77328.913778</td>\n",
              "      <td>55082.760570</td>\n",
              "      <td>2000.0</td>\n",
              "      <td>47850.0</td>\n",
              "      <td>67200.0</td>\n",
              "      <td>93000.0</td>\n",
              "      <td>800000.0</td>\n",
              "    </tr>\n",
              "    <tr>\n",
              "      <th>Otros</th>\n",
              "      <td>28.0</td>\n",
              "      <td>105660.714286</td>\n",
              "      <td>87235.710235</td>\n",
              "      <td>34000.0</td>\n",
              "      <td>43750.0</td>\n",
              "      <td>78900.0</td>\n",
              "      <td>122750.0</td>\n",
              "      <td>380000.0</td>\n",
              "    </tr>\n",
              "  </tbody>\n",
              "</table>\n",
              "</div>\n",
              "      <button class=\"colab-df-convert\" onclick=\"convertToInteractive('df-e7e77f9a-5012-452e-9af7-cca20acba0ba')\"\n",
              "              title=\"Convert this dataframe to an interactive table.\"\n",
              "              style=\"display:none;\">\n",
              "        \n",
              "  <svg xmlns=\"http://www.w3.org/2000/svg\" height=\"24px\"viewBox=\"0 0 24 24\"\n",
              "       width=\"24px\">\n",
              "    <path d=\"M0 0h24v24H0V0z\" fill=\"none\"/>\n",
              "    <path d=\"M18.56 5.44l.94 2.06.94-2.06 2.06-.94-2.06-.94-.94-2.06-.94 2.06-2.06.94zm-11 1L8.5 8.5l.94-2.06 2.06-.94-2.06-.94L8.5 2.5l-.94 2.06-2.06.94zm10 10l.94 2.06.94-2.06 2.06-.94-2.06-.94-.94-2.06-.94 2.06-2.06.94z\"/><path d=\"M17.41 7.96l-1.37-1.37c-.4-.4-.92-.59-1.43-.59-.52 0-1.04.2-1.43.59L10.3 9.45l-7.72 7.72c-.78.78-.78 2.05 0 2.83L4 21.41c.39.39.9.59 1.41.59.51 0 1.02-.2 1.41-.59l7.78-7.78 2.81-2.81c.8-.78.8-2.07 0-2.86zM5.41 20L4 18.59l7.72-7.72 1.47 1.35L5.41 20z\"/>\n",
              "  </svg>\n",
              "      </button>\n",
              "      \n",
              "  <style>\n",
              "    .colab-df-container {\n",
              "      display:flex;\n",
              "      flex-wrap:wrap;\n",
              "      gap: 12px;\n",
              "    }\n",
              "\n",
              "    .colab-df-convert {\n",
              "      background-color: #E8F0FE;\n",
              "      border: none;\n",
              "      border-radius: 50%;\n",
              "      cursor: pointer;\n",
              "      display: none;\n",
              "      fill: #1967D2;\n",
              "      height: 32px;\n",
              "      padding: 0 0 0 0;\n",
              "      width: 32px;\n",
              "    }\n",
              "\n",
              "    .colab-df-convert:hover {\n",
              "      background-color: #E2EBFA;\n",
              "      box-shadow: 0px 1px 2px rgba(60, 64, 67, 0.3), 0px 1px 3px 1px rgba(60, 64, 67, 0.15);\n",
              "      fill: #174EA6;\n",
              "    }\n",
              "\n",
              "    [theme=dark] .colab-df-convert {\n",
              "      background-color: #3B4455;\n",
              "      fill: #D2E3FC;\n",
              "    }\n",
              "\n",
              "    [theme=dark] .colab-df-convert:hover {\n",
              "      background-color: #434B5C;\n",
              "      box-shadow: 0px 1px 3px 1px rgba(0, 0, 0, 0.15);\n",
              "      filter: drop-shadow(0px 1px 2px rgba(0, 0, 0, 0.3));\n",
              "      fill: #FFFFFF;\n",
              "    }\n",
              "  </style>\n",
              "\n",
              "      <script>\n",
              "        const buttonEl =\n",
              "          document.querySelector('#df-e7e77f9a-5012-452e-9af7-cca20acba0ba button.colab-df-convert');\n",
              "        buttonEl.style.display =\n",
              "          google.colab.kernel.accessAllowed ? 'block' : 'none';\n",
              "\n",
              "        async function convertToInteractive(key) {\n",
              "          const element = document.querySelector('#df-e7e77f9a-5012-452e-9af7-cca20acba0ba');\n",
              "          const dataTable =\n",
              "            await google.colab.kernel.invokeFunction('convertToInteractive',\n",
              "                                                     [key], {});\n",
              "          if (!dataTable) return;\n",
              "\n",
              "          const docLinkHtml = 'Like what you see? Visit the ' +\n",
              "            '<a target=\"_blank\" href=https://colab.research.google.com/notebooks/data_table.ipynb>data table notebook</a>'\n",
              "            + ' to learn more about interactive tables.';\n",
              "          element.innerHTML = '';\n",
              "          dataTable['output_type'] = 'display_data';\n",
              "          await google.colab.output.renderOutput(dataTable, element);\n",
              "          const docLink = document.createElement('div');\n",
              "          docLink.innerHTML = docLinkHtml;\n",
              "          element.appendChild(docLink);\n",
              "        }\n",
              "      </script>\n",
              "    </div>\n",
              "  </div>\n",
              "  "
            ]
          },
          "metadata": {},
          "execution_count": 5
        }
      ]
    },
    {
      "cell_type": "code",
      "metadata": {
        "id": "uZ1GxkLylHx0"
      },
      "source": [
        "#Nivel de significancia\n",
        "alpha = 0.05"
      ],
      "execution_count": null,
      "outputs": []
    },
    {
      "cell_type": "code",
      "metadata": {
        "id": "OfzFpDO-lYxk",
        "colab": {
          "base_uri": "https://localhost:8080/",
          "height": 300
        },
        "outputId": "19f7d188-446d-43e0-ce6d-3b5a754d78c8"
      },
      "source": [
        "is_man = df.profile_gender == 'Hombre'\n",
        "\n",
        "groupA = df[(df.salary_monthly_NETO > 1000) & is_man].salary_monthly_NETO\n",
        "groupB = df[(df.salary_monthly_NETO > 1000) & ~is_man].salary_monthly_NETO\n",
        "\n",
        "groupC = df[(df.salary_monthly_NETO > 1000) & is_man]\n",
        "groupD = df[(df.salary_monthly_NETO > 1000) & ~is_man]\n",
        "\n",
        "\n",
        "groups_concat = pd.concat([groupC, groupD], axis=1).salary_monthly_NETO\n",
        "groups_concat.columns = ['NETO_A', 'NETO_B']\n",
        "groups_concat.describe()"
      ],
      "execution_count": null,
      "outputs": [
        {
          "output_type": "execute_result",
          "data": {
            "text/plain": [
              "             NETO_A         NETO_B\n",
              "count  4.815000e+03     891.000000\n",
              "mean   1.014816e+05   78219.250943\n",
              "std    1.022153e+05   56515.327324\n",
              "min    1.100000e+03    2000.000000\n",
              "25%    5.500000e+04   47600.000000\n",
              "50%    8.000000e+04   67310.000000\n",
              "75%    1.100000e+05   94000.000000\n",
              "max    2.080000e+06  800000.000000"
            ],
            "text/html": [
              "\n",
              "  <div id=\"df-5727fbfe-bc5b-48ba-b098-e926bb387b21\">\n",
              "    <div class=\"colab-df-container\">\n",
              "      <div>\n",
              "<style scoped>\n",
              "    .dataframe tbody tr th:only-of-type {\n",
              "        vertical-align: middle;\n",
              "    }\n",
              "\n",
              "    .dataframe tbody tr th {\n",
              "        vertical-align: top;\n",
              "    }\n",
              "\n",
              "    .dataframe thead th {\n",
              "        text-align: right;\n",
              "    }\n",
              "</style>\n",
              "<table border=\"1\" class=\"dataframe\">\n",
              "  <thead>\n",
              "    <tr style=\"text-align: right;\">\n",
              "      <th></th>\n",
              "      <th>NETO_A</th>\n",
              "      <th>NETO_B</th>\n",
              "    </tr>\n",
              "  </thead>\n",
              "  <tbody>\n",
              "    <tr>\n",
              "      <th>count</th>\n",
              "      <td>4.815000e+03</td>\n",
              "      <td>891.000000</td>\n",
              "    </tr>\n",
              "    <tr>\n",
              "      <th>mean</th>\n",
              "      <td>1.014816e+05</td>\n",
              "      <td>78219.250943</td>\n",
              "    </tr>\n",
              "    <tr>\n",
              "      <th>std</th>\n",
              "      <td>1.022153e+05</td>\n",
              "      <td>56515.327324</td>\n",
              "    </tr>\n",
              "    <tr>\n",
              "      <th>min</th>\n",
              "      <td>1.100000e+03</td>\n",
              "      <td>2000.000000</td>\n",
              "    </tr>\n",
              "    <tr>\n",
              "      <th>25%</th>\n",
              "      <td>5.500000e+04</td>\n",
              "      <td>47600.000000</td>\n",
              "    </tr>\n",
              "    <tr>\n",
              "      <th>50%</th>\n",
              "      <td>8.000000e+04</td>\n",
              "      <td>67310.000000</td>\n",
              "    </tr>\n",
              "    <tr>\n",
              "      <th>75%</th>\n",
              "      <td>1.100000e+05</td>\n",
              "      <td>94000.000000</td>\n",
              "    </tr>\n",
              "    <tr>\n",
              "      <th>max</th>\n",
              "      <td>2.080000e+06</td>\n",
              "      <td>800000.000000</td>\n",
              "    </tr>\n",
              "  </tbody>\n",
              "</table>\n",
              "</div>\n",
              "      <button class=\"colab-df-convert\" onclick=\"convertToInteractive('df-5727fbfe-bc5b-48ba-b098-e926bb387b21')\"\n",
              "              title=\"Convert this dataframe to an interactive table.\"\n",
              "              style=\"display:none;\">\n",
              "        \n",
              "  <svg xmlns=\"http://www.w3.org/2000/svg\" height=\"24px\"viewBox=\"0 0 24 24\"\n",
              "       width=\"24px\">\n",
              "    <path d=\"M0 0h24v24H0V0z\" fill=\"none\"/>\n",
              "    <path d=\"M18.56 5.44l.94 2.06.94-2.06 2.06-.94-2.06-.94-.94-2.06-.94 2.06-2.06.94zm-11 1L8.5 8.5l.94-2.06 2.06-.94-2.06-.94L8.5 2.5l-.94 2.06-2.06.94zm10 10l.94 2.06.94-2.06 2.06-.94-2.06-.94-.94-2.06-.94 2.06-2.06.94z\"/><path d=\"M17.41 7.96l-1.37-1.37c-.4-.4-.92-.59-1.43-.59-.52 0-1.04.2-1.43.59L10.3 9.45l-7.72 7.72c-.78.78-.78 2.05 0 2.83L4 21.41c.39.39.9.59 1.41.59.51 0 1.02-.2 1.41-.59l7.78-7.78 2.81-2.81c.8-.78.8-2.07 0-2.86zM5.41 20L4 18.59l7.72-7.72 1.47 1.35L5.41 20z\"/>\n",
              "  </svg>\n",
              "      </button>\n",
              "      \n",
              "  <style>\n",
              "    .colab-df-container {\n",
              "      display:flex;\n",
              "      flex-wrap:wrap;\n",
              "      gap: 12px;\n",
              "    }\n",
              "\n",
              "    .colab-df-convert {\n",
              "      background-color: #E8F0FE;\n",
              "      border: none;\n",
              "      border-radius: 50%;\n",
              "      cursor: pointer;\n",
              "      display: none;\n",
              "      fill: #1967D2;\n",
              "      height: 32px;\n",
              "      padding: 0 0 0 0;\n",
              "      width: 32px;\n",
              "    }\n",
              "\n",
              "    .colab-df-convert:hover {\n",
              "      background-color: #E2EBFA;\n",
              "      box-shadow: 0px 1px 2px rgba(60, 64, 67, 0.3), 0px 1px 3px 1px rgba(60, 64, 67, 0.15);\n",
              "      fill: #174EA6;\n",
              "    }\n",
              "\n",
              "    [theme=dark] .colab-df-convert {\n",
              "      background-color: #3B4455;\n",
              "      fill: #D2E3FC;\n",
              "    }\n",
              "\n",
              "    [theme=dark] .colab-df-convert:hover {\n",
              "      background-color: #434B5C;\n",
              "      box-shadow: 0px 1px 3px 1px rgba(0, 0, 0, 0.15);\n",
              "      filter: drop-shadow(0px 1px 2px rgba(0, 0, 0, 0.3));\n",
              "      fill: #FFFFFF;\n",
              "    }\n",
              "  </style>\n",
              "\n",
              "      <script>\n",
              "        const buttonEl =\n",
              "          document.querySelector('#df-5727fbfe-bc5b-48ba-b098-e926bb387b21 button.colab-df-convert');\n",
              "        buttonEl.style.display =\n",
              "          google.colab.kernel.accessAllowed ? 'block' : 'none';\n",
              "\n",
              "        async function convertToInteractive(key) {\n",
              "          const element = document.querySelector('#df-5727fbfe-bc5b-48ba-b098-e926bb387b21');\n",
              "          const dataTable =\n",
              "            await google.colab.kernel.invokeFunction('convertToInteractive',\n",
              "                                                     [key], {});\n",
              "          if (!dataTable) return;\n",
              "\n",
              "          const docLinkHtml = 'Like what you see? Visit the ' +\n",
              "            '<a target=\"_blank\" href=https://colab.research.google.com/notebooks/data_table.ipynb>data table notebook</a>'\n",
              "            + ' to learn more about interactive tables.';\n",
              "          element.innerHTML = '';\n",
              "          dataTable['output_type'] = 'display_data';\n",
              "          await google.colab.output.renderOutput(dataTable, element);\n",
              "          const docLink = document.createElement('div');\n",
              "          docLink.innerHTML = docLinkHtml;\n",
              "          element.appendChild(docLink);\n",
              "        }\n",
              "      </script>\n",
              "    </div>\n",
              "  </div>\n",
              "  "
            ]
          },
          "metadata": {},
          "execution_count": 7
        }
      ]
    },
    {
      "cell_type": "markdown",
      "metadata": {
        "id": "co_0M_ojtmUh"
      },
      "source": [
        "## Ejercicio 1: Estimación\n",
        "\n",
        "**Consigna:**  Calcular una estimación puntual y un intervalo de confianza de nivel (1-alpha) para la resta entre la media del salario Neto para Hombres menos la media del salario Neto para otros géneros(diferencia de las medias entre el grupoA y grupoB). \n",
        "¿Cómo se relaciona este intervalo de confianza con el test de hipótesis?"
      ]
    },
    {
      "cell_type": "markdown",
      "source": [
        "Para calcular una estimación puntual se utilizó al estadístico media muestral que sabemos que es un buen estimador de μ. Por lo tanto, se calculó la media de ambos grupos y se restó para obtener la diferencia. "
      ],
      "metadata": {
        "id": "jKDhIP32CHTL"
      }
    },
    {
      "cell_type": "code",
      "metadata": {
        "id": "0fA1RQ0upe6N",
        "colab": {
          "base_uri": "https://localhost:8080/"
        },
        "outputId": "90c8e6a4-638a-408a-bb5d-a21b782480e4"
      },
      "source": [
        "est_media_A = groupA.mean()\n",
        "est_media_B = groupB.mean()\n",
        "media_dif = est_media_A - est_media_B\n",
        "media_dif"
      ],
      "execution_count": null,
      "outputs": [
        {
          "output_type": "execute_result",
          "data": {
            "text/plain": [
              "23262.37339991823"
            ]
          },
          "metadata": {},
          "execution_count": 8
        }
      ]
    },
    {
      "cell_type": "code",
      "source": [
        "#Calculo de varianza\n",
        "print(\"varianzaA: \", groupA.var(), \"varianza B: \", groupB.var())"
      ],
      "metadata": {
        "colab": {
          "base_uri": "https://localhost:8080/"
        },
        "id": "p8WC6WdyCqXP",
        "outputId": "6bc6956b-e38c-4878-97ff-d56ebc053ef4"
      },
      "execution_count": null,
      "outputs": [
        {
          "output_type": "stream",
          "name": "stdout",
          "text": [
            "varianzaA:  10447968511.734694 varianza B:  3193982222.482429\n"
          ]
        }
      ]
    },
    {
      "cell_type": "markdown",
      "source": [
        "Se calculo el intervalo de confianza de nivel 1-0.05(alpha). Esto significa que existe una probabilidad del 95% que el verdadero parámetro se encuentre en el intervalo propuesto. En otras palabras, se trata de un intervalo del 95% de confianza.\n",
        "Este intervalo de confianza se relaciona con el test de hipótesis ya que nos permite tomar decisiones (más específicamente, aceptar o rechazar una hipótesis). "
      ],
      "metadata": {
        "id": "UNQBQh6CDaFV"
      }
    },
    {
      "cell_type": "markdown",
      "source": [
        "Se graficó un histográma con las medias y distribuciones para ambos grupos, y se identificó que se trata de una muestra con distribucion normal."
      ],
      "metadata": {
        "id": "M1iMN4HrDfn0"
      }
    },
    {
      "cell_type": "code",
      "source": [
        "#Grafica de distribucion de ambos grupos\n",
        "fig = plt.figure(figsize=(16,9))\n",
        "sns.histplot(data=groups_concat, kde=True, log_scale=True, )"
      ],
      "metadata": {
        "colab": {
          "base_uri": "https://localhost:8080/",
          "height": 570
        },
        "id": "Bm6abSgQ8D8j",
        "outputId": "2abe6eaa-2721-4403-d3bc-c70a0411fa82"
      },
      "execution_count": null,
      "outputs": [
        {
          "output_type": "execute_result",
          "data": {
            "text/plain": [
              "<matplotlib.axes._subplots.AxesSubplot at 0x7f0c90e7b090>"
            ]
          },
          "metadata": {},
          "execution_count": 12
        },
        {
          "output_type": "display_data",
          "data": {
            "text/plain": [
              "<Figure size 1152x648 with 1 Axes>"
            ],
            "image/png": "[encoded data removed]"
          },
          "metadata": {
            "needs_background": "light"
          }
        }
      ]
    },
    {
      "cell_type": "markdown",
      "source": [
        "Para el cálulo del intervalo de confianza se usó el Test de Welch debido a que las varianzas son diferentes. Para el cálculo de la diferencia entre medias se utilizó la siguiente fórmula.\n",
        "![gfa.png](data:image/png;base64,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)"
      ],
      "metadata": {
        "id": "x4ksuNgmIo7e"
      }
    },
    {
      "cell_type": "markdown",
      "source": [
        "Para ello, necesito calcular la media, varianza y N de cada grupo:"
      ],
      "metadata": {
        "id": "oduqIFGxK0vr"
      }
    },
    {
      "cell_type": "code",
      "source": [
        "var_A = groupA.var()\n",
        "var_B = groupB.var()\n",
        "N_A = groupA.count() \n",
        "N_B = groupB.count()\n",
        "\n",
        "print(\"estadisticos grupo A: \", est_media_A, var_A, N_A)\n",
        "print(\"estadisticos grupo B: \", est_media_B, var_B, N_B)\n"
      ],
      "metadata": {
        "colab": {
          "base_uri": "https://localhost:8080/"
        },
        "id": "R-9UNZqhFvhn",
        "outputId": "7440985e-a020-4dec-9bf8-5be10dbe07b9"
      },
      "execution_count": null,
      "outputs": [
        {
          "output_type": "stream",
          "name": "stdout",
          "text": [
            "estadisticos grupo A:  101481.62434267918 10447968511.734694 4815\n",
            "estadisticos grupo B:  78219.25094276095 3193982222.482429 891\n"
          ]
        }
      ]
    },
    {
      "cell_type": "markdown",
      "source": [
        ""
      ],
      "metadata": {
        "id": "IRlb3NKs2cBe"
      }
    },
    {
      "cell_type": "markdown",
      "source": [
        "Además, se necesita calcular la cantidad de grados de libertad. Para ello, se utilizó la siguiente fórmula:\n",
        "\n",
        "![libe.png](data:image/png;base64,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)"
      ],
      "metadata": {
        "id": "PtZPiu0WMUHw"
      }
    },
    {
      "cell_type": "code",
      "source": [
        "v = (((var_A/N_A)+(var_B/N_B))**2)/((((var_A/N_A)**2)/(N_A-1))+(((var_B/N_B)**2)/(N_B-1)))\n",
        "v"
      ],
      "metadata": {
        "colab": {
          "base_uri": "https://localhost:8080/"
        },
        "id": "seyOJe2SMXwe",
        "outputId": "7423e262-63f7-4f92-f486-71b181ce1a02"
      },
      "execution_count": null,
      "outputs": [
        {
          "output_type": "execute_result",
          "data": {
            "text/plain": [
              "2148.0505828160885"
            ]
          },
          "metadata": {},
          "execution_count": 14
        }
      ]
    },
    {
      "cell_type": "markdown",
      "source": [
        "Los grados de libertad son 2148, por lo que utilizamos Z = 1.645 según la tabla de t de student para un intervalo de 95% de confianza (alpha=0.05)."
      ],
      "metadata": {
        "id": "WIIBcVVfNtI9"
      }
    },
    {
      "cell_type": "code",
      "source": [
        "z = 1.645"
      ],
      "metadata": {
        "id": "SsYmvlvQN4cI"
      },
      "execution_count": null,
      "outputs": []
    },
    {
      "cell_type": "markdown",
      "source": [
        "Para calcular el intervalo de confianza para la diferencia entre las medias utilizo la primer fórmula presentada en este entregable:"
      ],
      "metadata": {
        "id": "w6P_072KOQLl"
      }
    },
    {
      "cell_type": "code",
      "source": [
        "lim_inf = (est_media_A - est_media_B) - (z * math.sqrt((var_A/N_A)+(var_B/N_B)))\n",
        "lim_inf"
      ],
      "metadata": {
        "colab": {
          "base_uri": "https://localhost:8080/"
        },
        "id": "9_qGR3QXOZuv",
        "outputId": "f42e202e-1917-4781-b0a5-8b75eeb04b28"
      },
      "execution_count": null,
      "outputs": [
        {
          "output_type": "execute_result",
          "data": {
            "text/plain": [
              "19316.22599042841"
            ]
          },
          "metadata": {},
          "execution_count": 16
        }
      ]
    },
    {
      "cell_type": "code",
      "source": [
        "lim_sup = (est_media_A - est_media_B) + (z * math.sqrt((var_A/N_A)+(var_B/N_B)))\n",
        "lim_sup"
      ],
      "metadata": {
        "colab": {
          "base_uri": "https://localhost:8080/"
        },
        "id": "RmiPsVHdPUJV",
        "outputId": "9b22058e-0ace-4f38-f850-a8d86a7df05d"
      },
      "execution_count": null,
      "outputs": [
        {
          "output_type": "execute_result",
          "data": {
            "text/plain": [
              "27208.520809408048"
            ]
          },
          "metadata": {},
          "execution_count": 17
        }
      ]
    },
    {
      "cell_type": "markdown",
      "source": [
        "El intervalo del 95% de confianza para la diferencia entre medias de grupo A y B es:"
      ],
      "metadata": {
        "id": "k-hf2ftUPwWv"
      }
    },
    {
      "cell_type": "code",
      "source": [
        "print(lim_inf, \">\", \"(media_grupo_A - media_grupo_B)\", \"<\", lim_sup)"
      ],
      "metadata": {
        "colab": {
          "base_uri": "https://localhost:8080/"
        },
        "id": "hpjutTqzPYqZ",
        "outputId": "af8be00b-3d30-4b6c-b461-bba500e215dc"
      },
      "execution_count": null,
      "outputs": [
        {
          "output_type": "stream",
          "name": "stdout",
          "text": [
            "19316.22599042841 > (media_grupo_A - media_grupo_B) < 27208.520809408048\n"
          ]
        }
      ]
    },
    {
      "cell_type": "markdown",
      "source": [
        "La relación entre el intervalo de confianza y el test de hipótesis es que, si el intervalo de confianza no contiene el valor de la hipótesis nula, los resultados son estadísticamente significativos. Si el valor de P es menor que alfa, el intervalo de confianza no contendrá el valor de hipótesis nula."
      ],
      "metadata": {
        "id": "KFMZrb3WbHlG"
      }
    },
    {
      "cell_type": "markdown",
      "metadata": {
        "id": "IFi2T7Y6nM92"
      },
      "source": [
        "## Ejercicio 2: Test de hipótesis\n"
      ]
    },
    {
      "cell_type": "markdown",
      "metadata": {
        "id": "Rzxe8UYU6EfJ"
      },
      "source": [
        "\n",
        "### 2.1 Formalización\n",
        "\n",
        "Describir formalmente los distintos componentes de un test de hipótesis para comprobar si la distribución de los salarios es distinta entre los grupos A y B.\n",
        "\n",
        "**Hipótesis Nula**\n",
        "\n",
        "$H_0$= la diferencia entre las medias de los salarios del Grupo A y B es igual a 0.\n",
        "\n",
        "**Hipótesis Alternativa**\n",
        "\n",
        "$H_1$= la diferencia entre las medias de los salarios del Grupo A y B es distinta de 0.\n",
        "\n",
        "**Nivel de significancia alfa**\n",
        "* alfa = 0.05\n",
        "\n",
        "\n",
        "  * El estadístico es la diferencia entre medias. El dataset posee una distribución normal, de acuerdo a lo calculado en el punto anterior (media y desviación)."
      ]
    },
    {
      "cell_type": "markdown",
      "metadata": {
        "id": "3Ip_5YdenC8u"
      },
      "source": [
        "### 2.2 P-valor\n",
        "\n",
        "1. Calcule el p-valor y decida si rechazar o no la hipótesis nula.\n",
        "2. Interprete el resultado.\n",
        "\n",
        "Links útiles:\n",
        "* [Test de hipótesis usando scipy](https://docs.scipy.org/doc/scipy/reference/generated/scipy.stats.ttest_ind.html)\n",
        "* [Test de Welch](http://daniellakens.blogspot.com/2015/01/always-use-welchs-t-test-instead-of.html)"
      ]
    },
    {
      "cell_type": "code",
      "source": [
        "#Cálculo de pvalor usando ttest_ind\n",
        "from scipy.stats import ttest_ind\n",
        "\n",
        "t_stat,pvalue = ttest_ind(groupA, groupB, equal_var = False)\n",
        "print('t-statistics:', t_stat, '\\np-value:', pvalue)"
      ],
      "metadata": {
        "id": "x9Y5XhuA2wLu"
      },
      "execution_count": null,
      "outputs": []
    },
    {
      "cell_type": "markdown",
      "source": [
        "Debido a que el pvalor es menor que el alfa y que el intervalo de confianza no incluye al 0, podemos rechazar Ho. Por lo tanto, podemos afirmar que la diferencua entre las medias de ambos grupos evaluados es distinta de cero (aceptación de la hipótesis alternativa)."
      ],
      "metadata": {
        "id": "SQPd4MPi3JqR"
      }
    },
    {
      "cell_type": "markdown",
      "metadata": {
        "id": "8VxiQr5YrQYR"
      },
      "source": [
        "### [Opcional] 2.3 Potencia del test\n",
        "\n",
        "Nuestra muestra, ¿era lo suficientemente grande para detectar si existe o no una diferencia entre los grupos?\n",
        "\n",
        "1. Utilice la función `tt_ind_solve_power` para calcular el tamaño necesario de la muestra para un poder estadístico de 0.8, 0.9 y 0.95, asumiendo una significancia estadística de 0.05.\n",
        "2. ¿Cómo intepretan el poder estadístico de un test? Dado su conocimiento de dominio sobre los datos, ¿les parece que esta muestra es lo suficientemente grande para ser representativo de la tendencia general? ¿y para utilizarlo en un juicio penal contra una empresa XX por una causa de discriminación?\n",
        "\n",
        "[Documentación](https://www.statsmodels.org/stable/generated/statsmodels.stats.power.tt_ind_solve_power.html)\n",
        "\n",
        "NOTA: este análisis debería hacerse ANTES de recolectar los datos."
      ]
    },
    {
      "cell_type": "code",
      "metadata": {
        "id": "_IiqGfo4t6Db"
      },
      "source": [
        "from statsmodels.stats.power import tt_ind_solve_power"
      ],
      "execution_count": null,
      "outputs": []
    },
    {
      "cell_type": "code",
      "metadata": {
        "id": "LUQ7MA2Apj9x"
      },
      "source": [
        "effect_size = (groupA.mean() - groupB.mean()) / groupB.std()\n",
        "# nobs1=None  - What we want to know\n",
        "alpha = 0.05\n",
        "ratio = len(groupB) / len(groupA)\n",
        "power = 0.8"
      ],
      "execution_count": null,
      "outputs": []
    },
    {
      "cell_type": "code",
      "metadata": {
        "id": "cvHcpY-3ty8Q"
      },
      "source": [
        "tt_ind_solve_power(effect_size=effect_size, alpha=alpha, power=power, ratio=ratio)"
      ],
      "execution_count": null,
      "outputs": []
    },
    {
      "cell_type": "markdown",
      "metadata": {
        "id": "useKMdPyMod5"
      },
      "source": [
        "## Ejercicio 3: Comunicación y visualización\n",
        "\n",
        "**Consigna:** Seleccionen un resultado que les parezca relevante a partir de alguno de los ejercicios del entregable. Diseñe e implemente una comunicación en base a este mensaje, en un archivo PDF.\n",
        "\n",
        "Elija las palabras y visualización más adecuada para que la comunicación sea entendible, efectiva y se dapte a UNA de las siguientes situaciones:\n",
        "\n",
        "1. Una sección en un artículo de difusión a presentar como parte de una organización sin fines de lucro.\n",
        "No más de 1 página A4 (o dos si los gráficos son muy grandes).\n",
        "  1. Ejemplo: Alguna de las secciones [Los ecosistemas de emprendimiento de América Latina y el Caribe frente al COVID-19: Impactos, necesidades y recomendaciones](https://publications.iadb.org/es/los-ecosistemas-de-emprendimiento-de-america-latina-y-el-caribe-frente-al-covid-19-impactos-necesidades-y-recomendaciones), por ejemplo la sección *2.2. Reacciones de los emprendedores*.\n",
        "  2. Ejemplo: Alguna de las secciones de [The state of gender pay gap in 2021](https://www.payscale.com/data/gender-pay-gap?tk=carousel-ps-rc-job)\n",
        "  3. Puntos clave: \n",
        "    1. Simpleza de los gráficos.\n",
        "    2. Comunicación en lenguaje simple a personas que no son necesariamente expertos de dominio.\n",
        "    2. Selección de UNA oración sobre la que se hace énfasis.\n",
        "    3. No es necesario que mencionen objetivos ni descripciones del conjunto de datos, se supone que eso ya estaría explicado en otras secciones del informe.\n",
        "\n",
        "2. Una publicación científica o reporte técnico interno. No más de una página A4:\n",
        "  2. Ejemplo: La sección de resultados de [IZA DP No. 12914: The Impact of a Minimum Wage Change on the Distribution of Wages and Household Income](https://www.iza.org/publications/dp/12914/the-impact-of-a-minimum-wage-change-on-the-distribution-of-wages-and-household-income).\n",
        "  2. Ejemplo: Alguna de las secciones de [Temporary reduction in daily global CO2 emissions during the COVID-19 forced confinement](https://www.nature.com/articles/s41558-020-0797-x)\n",
        "  3. Puntos clave:\n",
        "    3. Nivel de detalle técnico requerido. Es necesario justificar la validez del análisis.\n",
        "    4. La idea presentada puede ser más compleja. Pueden asumir que la audiencia tiene conocimiento técnico y va a analizar las visualizaciones en detalle. \n",
        "    5. Pueden presentar más en detalle las limitaciones del análisis (significancia estadística, etc.)\n",
        "    2. No es necesario que mencionen objetivos ni descripciones del conjunto de datos, se supone que eso ya estaría explicado en otras secciones del informe.\n",
        "\n",
        "3. Un tweet (o post de LinkedIn) para la cuenta de su empresa consultora que hace análisis de datos. El objetivo es promocionar un análisis de datos abiertos que van a incluir en su portfolio:\n",
        "  1. Ejemplo: [Comparación vacunas covid](https://twitter.com/infobeautiful/status/1381577746527236098?s=20)\n",
        "  2. Ejemplo: [Tweet del BID](https://twitter.com/el_BID/status/1388508583944507396?s=20). Lo valioso de este tweet es que usaron un único número para transmitir un mensaje. Puede ser algo así, o con un gráfico muy simple.\n",
        "  3. Ejemplo: [Cambio climático](https://twitter.com/UNFCCC/status/1387732156190011394?s=20) Es un muy buen ejemplo, excepto que el gráfico no se lee nada y hay que entrar a la publicación original.\n",
        "  3. Ejemplo: [¿Cuánto están los programadores en las empresas?](https://www.linkedin.com/posts/denis-rothman-0b034043_tech-career-work-activity-6793861923269054464-gS6y) (No verificamos la veracidad o seriedad de la fuente).\n",
        "  4. Puntos clave:\n",
        "    1. Su audiencia no va a mirar la visualización por más de unos segundos, y no tiene conocimiento técnico.\n",
        "  3. Tienen que incluir además una *breve* descripción de cómo obtuvieron los datos que están presentando, que no entraría en el tweet.\n"
      ]
    },
    {
      "cell_type": "markdown",
      "source": [
        "* El tweet se encuentra en el PDF que acompaña este archivo."
      ],
      "metadata": {
        "id": "tY8GgjMTGwJY"
      }
    }
  ]
}