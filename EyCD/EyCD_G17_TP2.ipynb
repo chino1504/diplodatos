{
  "cells": [
    {
      "cell_type": "markdown",
      "metadata": {
        "id": "view-in-github"
      },
      "source": [
        "<a href=\"https://colab.research.google.com/github/DiploDatos/AnalisisYCuracion/blob/master/Entregable_Parte_2.ipynb\" target=\"_parent\"><img src=\"https://colab.research.google.com/assets/colab-badge.svg\" alt=\"Open In Colab\"/></a>"
      ]
    },
    {
      "cell_type": "markdown",
      "metadata": {
        "id": "zO4bRoxr2Apy"
      },
      "source": [
        "**Diplomatura en Ciencia de Datos, Aprendizaje Automático y sus Aplicaciones**\n",
        "\n",
        "**Exploración y Curación de Datos**\n",
        "\n",
        "*Edición 2021*\n",
        "\n",
        "----\n",
        "\n",
        "# Trabajo práctico entregable - parte 2\n",
        "\n",
        "\n",
        "En el ejercicio 1 de la parte 1 del entregable seleccionaron las filas y columnas relevantes al problema de predicción de precios de una propiedad. Además de ello, tuvieron que reducir el número de valores posibles para las variables categóricas utilizando información de dominio.\n",
        "\n",
        "En el ejercicio 2 de la parte 1 del entregable imputaron los valores faltantes de las columnas `Suburb` y las columnas obtenidas a partir del conjunto de datos `airbnb`.\n",
        "\n",
        "En esta notebook, **se utilizará resultado de dichas operaciones.**\n"
      ]
    },
    {
      "cell_type": "code",
      "execution_count": null,
      "metadata": {
        "id": "4udjxjk1EtVU"
      },
      "outputs": [],
      "source": [
        "import matplotlib.pyplot as plt\n",
        "import numpy\n",
        "import pandas as pd\n",
        "\n",
        "import seaborn\n",
        "seaborn.set_context('talk')\n",
        "\n",
        "from sklearn.feature_extraction import DictVectorizer"
      ]
    },
    {
      "cell_type": "code",
      "execution_count": null,
      "metadata": {
        "colab": {
          "base_uri": "https://localhost:8080/",
          "height": 488
        },
        "id": "_qeFN3GnEvMk",
        "outputId": "d0a001d3-f44d-4804-d49f-cfb917e73d50"
      },
      "outputs": [
        {
          "output_type": "execute_result",
          "data": {
            "text/plain": [
              "              Suburb  Rooms Type      Price  Postcode  Car  Landsize  \\\n",
              "0         Abbotsford      2    h  1480000.0    3067.0  1.0     202.0   \n",
              "1         Abbotsford      2    h  1035000.0    3067.0  0.0     156.0   \n",
              "2         Abbotsford      3    h  1465000.0    3067.0  0.0     134.0   \n",
              "3         Abbotsford      3    h   850000.0    3067.0  1.0      94.0   \n",
              "4         Abbotsford      4    h  1600000.0    3067.0  2.0     120.0   \n",
              "...              ...    ...  ...        ...       ...  ...       ...   \n",
              "11703       Werribee      4    h   635000.0    3030.0  1.0     662.0   \n",
              "11704    Westmeadows      3    h   582000.0    3049.0  2.0     256.0   \n",
              "11705  Wheelers Hill      4    h  1245000.0    3150.0  2.0     652.0   \n",
              "11706   Williamstown      3    h  1031000.0    3016.0  2.0     333.0   \n",
              "11707     Yarraville      4    h  1285000.0    3013.0  1.0     362.0   \n",
              "\n",
              "       BuildingArea  YearBuilt  Lattitude  Longtitude  zipcode  \\\n",
              "0               NaN        NaN  -37.79960   144.99840   3067.0   \n",
              "1              79.0     1900.0  -37.80790   144.99340   3067.0   \n",
              "2             150.0     1900.0  -37.80930   144.99440   3067.0   \n",
              "3               NaN        NaN  -37.79690   144.99690   3067.0   \n",
              "4             142.0     2014.0  -37.80720   144.99410   3067.0   \n",
              "...             ...        ...        ...         ...      ...   \n",
              "11703         172.0     1980.0  -37.89327   144.64789   3030.0   \n",
              "11704           NaN        NaN  -37.67917   144.89390   3049.0   \n",
              "11705           NaN     1981.0  -37.90562   145.16761   3150.0   \n",
              "11706         133.0     1995.0  -37.85927   144.87904   3016.0   \n",
              "11707         112.0     1920.0  -37.81188   144.88449   3013.0   \n",
              "\n",
              "       airbnb_record_count  airbnb_price_mean  airbnb_price_max  \n",
              "0                    247.0         111.295547             336.0  \n",
              "1                    247.0         111.295547             336.0  \n",
              "2                    247.0         111.295547             336.0  \n",
              "3                    247.0         111.295547             336.0  \n",
              "4                    247.0         111.295547             336.0  \n",
              "...                    ...                ...               ...  \n",
              "11703                246.0          99.626016             350.0  \n",
              "11704                 21.0          92.285714             281.0  \n",
              "11705                183.0         111.863388             300.0  \n",
              "11706                 70.0         168.800000             350.0  \n",
              "11707                 80.0         126.750000             300.0  \n",
              "\n",
              "[11708 rows x 15 columns]"
            ],
            "text/html": [
              "\n",
              "  <div id=\"df-09221c64-33ce-4c85-90f4-43ba4a210aab\">\n",
              "    <div class=\"colab-df-container\">\n",
              "      <div>\n",
              "<style scoped>\n",
              "    .dataframe tbody tr th:only-of-type {\n",
              "        vertical-align: middle;\n",
              "    }\n",
              "\n",
              "    .dataframe tbody tr th {\n",
              "        vertical-align: top;\n",
              "    }\n",
              "\n",
              "    .dataframe thead th {\n",
              "        text-align: right;\n",
              "    }\n",
              "</style>\n",
              "<table border=\"1\" class=\"dataframe\">\n",
              "  <thead>\n",
              "    <tr style=\"text-align: right;\">\n",
              "      <th></th>\n",
              "      <th>Suburb</th>\n",
              "      <th>Rooms</th>\n",
              "      <th>Type</th>\n",
              "      <th>Price</th>\n",
              "      <th>Postcode</th>\n",
              "      <th>Car</th>\n",
              "      <th>Landsize</th>\n",
              "      <th>BuildingArea</th>\n",
              "      <th>YearBuilt</th>\n",
              "      <th>Lattitude</th>\n",
              "      <th>Longtitude</th>\n",
              "      <th>zipcode</th>\n",
              "      <th>airbnb_record_count</th>\n",
              "      <th>airbnb_price_mean</th>\n",
              "      <th>airbnb_price_max</th>\n",
              "    </tr>\n",
              "  </thead>\n",
              "  <tbody>\n",
              "    <tr>\n",
              "      <th>0</th>\n",
              "      <td>Abbotsford</td>\n",
              "      <td>2</td>\n",
              "      <td>h</td>\n",
              "      <td>1480000.0</td>\n",
              "      <td>3067.0</td>\n",
              "      <td>1.0</td>\n",
              "      <td>202.0</td>\n",
              "      <td>NaN</td>\n",
              "      <td>NaN</td>\n",
              "      <td>-37.79960</td>\n",
              "      <td>144.99840</td>\n",
              "      <td>3067.0</td>\n",
              "      <td>247.0</td>\n",
              "      <td>111.295547</td>\n",
              "      <td>336.0</td>\n",
              "    </tr>\n",
              "    <tr>\n",
              "      <th>1</th>\n",
              "      <td>Abbotsford</td>\n",
              "      <td>2</td>\n",
              "      <td>h</td>\n",
              "      <td>1035000.0</td>\n",
              "      <td>3067.0</td>\n",
              "      <td>0.0</td>\n",
              "      <td>156.0</td>\n",
              "      <td>79.0</td>\n",
              "      <td>1900.0</td>\n",
              "      <td>-37.80790</td>\n",
              "      <td>144.99340</td>\n",
              "      <td>3067.0</td>\n",
              "      <td>247.0</td>\n",
              "      <td>111.295547</td>\n",
              "      <td>336.0</td>\n",
              "    </tr>\n",
              "    <tr>\n",
              "      <th>2</th>\n",
              "      <td>Abbotsford</td>\n",
              "      <td>3</td>\n",
              "      <td>h</td>\n",
              "      <td>1465000.0</td>\n",
              "      <td>3067.0</td>\n",
              "      <td>0.0</td>\n",
              "      <td>134.0</td>\n",
              "      <td>150.0</td>\n",
              "      <td>1900.0</td>\n",
              "      <td>-37.80930</td>\n",
              "      <td>144.99440</td>\n",
              "      <td>3067.0</td>\n",
              "      <td>247.0</td>\n",
              "      <td>111.295547</td>\n",
              "      <td>336.0</td>\n",
              "    </tr>\n",
              "    <tr>\n",
              "      <th>3</th>\n",
              "      <td>Abbotsford</td>\n",
              "      <td>3</td>\n",
              "      <td>h</td>\n",
              "      <td>850000.0</td>\n",
              "      <td>3067.0</td>\n",
              "      <td>1.0</td>\n",
              "      <td>94.0</td>\n",
              "      <td>NaN</td>\n",
              "      <td>NaN</td>\n",
              "      <td>-37.79690</td>\n",
              "      <td>144.99690</td>\n",
              "      <td>3067.0</td>\n",
              "      <td>247.0</td>\n",
              "      <td>111.295547</td>\n",
              "      <td>336.0</td>\n",
              "    </tr>\n",
              "    <tr>\n",
              "      <th>4</th>\n",
              "      <td>Abbotsford</td>\n",
              "      <td>4</td>\n",
              "      <td>h</td>\n",
              "      <td>1600000.0</td>\n",
              "      <td>3067.0</td>\n",
              "      <td>2.0</td>\n",
              "      <td>120.0</td>\n",
              "      <td>142.0</td>\n",
              "      <td>2014.0</td>\n",
              "      <td>-37.80720</td>\n",
              "      <td>144.99410</td>\n",
              "      <td>3067.0</td>\n",
              "      <td>247.0</td>\n",
              "      <td>111.295547</td>\n",
              "      <td>336.0</td>\n",
              "    </tr>\n",
              "    <tr>\n",
              "      <th>...</th>\n",
              "      <td>...</td>\n",
              "      <td>...</td>\n",
              "      <td>...</td>\n",
              "      <td>...</td>\n",
              "      <td>...</td>\n",
              "      <td>...</td>\n",
              "      <td>...</td>\n",
              "      <td>...</td>\n",
              "      <td>...</td>\n",
              "      <td>...</td>\n",
              "      <td>...</td>\n",
              "      <td>...</td>\n",
              "      <td>...</td>\n",
              "      <td>...</td>\n",
              "      <td>...</td>\n",
              "    </tr>\n",
              "    <tr>\n",
              "      <th>11703</th>\n",
              "      <td>Werribee</td>\n",
              "      <td>4</td>\n",
              "      <td>h</td>\n",
              "      <td>635000.0</td>\n",
              "      <td>3030.0</td>\n",
              "      <td>1.0</td>\n",
              "      <td>662.0</td>\n",
              "      <td>172.0</td>\n",
              "      <td>1980.0</td>\n",
              "      <td>-37.89327</td>\n",
              "      <td>144.64789</td>\n",
              "      <td>3030.0</td>\n",
              "      <td>246.0</td>\n",
              "      <td>99.626016</td>\n",
              "      <td>350.0</td>\n",
              "    </tr>\n",
              "    <tr>\n",
              "      <th>11704</th>\n",
              "      <td>Westmeadows</td>\n",
              "      <td>3</td>\n",
              "      <td>h</td>\n",
              "      <td>582000.0</td>\n",
              "      <td>3049.0</td>\n",
              "      <td>2.0</td>\n",
              "      <td>256.0</td>\n",
              "      <td>NaN</td>\n",
              "      <td>NaN</td>\n",
              "      <td>-37.67917</td>\n",
              "      <td>144.89390</td>\n",
              "      <td>3049.0</td>\n",
              "      <td>21.0</td>\n",
              "      <td>92.285714</td>\n",
              "      <td>281.0</td>\n",
              "    </tr>\n",
              "    <tr>\n",
              "      <th>11705</th>\n",
              "      <td>Wheelers Hill</td>\n",
              "      <td>4</td>\n",
              "      <td>h</td>\n",
              "      <td>1245000.0</td>\n",
              "      <td>3150.0</td>\n",
              "      <td>2.0</td>\n",
              "      <td>652.0</td>\n",
              "      <td>NaN</td>\n",
              "      <td>1981.0</td>\n",
              "      <td>-37.90562</td>\n",
              "      <td>145.16761</td>\n",
              "      <td>3150.0</td>\n",
              "      <td>183.0</td>\n",
              "      <td>111.863388</td>\n",
              "      <td>300.0</td>\n",
              "    </tr>\n",
              "    <tr>\n",
              "      <th>11706</th>\n",
              "      <td>Williamstown</td>\n",
              "      <td>3</td>\n",
              "      <td>h</td>\n",
              "      <td>1031000.0</td>\n",
              "      <td>3016.0</td>\n",
              "      <td>2.0</td>\n",
              "      <td>333.0</td>\n",
              "      <td>133.0</td>\n",
              "      <td>1995.0</td>\n",
              "      <td>-37.85927</td>\n",
              "      <td>144.87904</td>\n",
              "      <td>3016.0</td>\n",
              "      <td>70.0</td>\n",
              "      <td>168.800000</td>\n",
              "      <td>350.0</td>\n",
              "    </tr>\n",
              "    <tr>\n",
              "      <th>11707</th>\n",
              "      <td>Yarraville</td>\n",
              "      <td>4</td>\n",
              "      <td>h</td>\n",
              "      <td>1285000.0</td>\n",
              "      <td>3013.0</td>\n",
              "      <td>1.0</td>\n",
              "      <td>362.0</td>\n",
              "      <td>112.0</td>\n",
              "      <td>1920.0</td>\n",
              "      <td>-37.81188</td>\n",
              "      <td>144.88449</td>\n",
              "      <td>3013.0</td>\n",
              "      <td>80.0</td>\n",
              "      <td>126.750000</td>\n",
              "      <td>300.0</td>\n",
              "    </tr>\n",
              "  </tbody>\n",
              "</table>\n",
              "<p>11708 rows × 15 columns</p>\n",
              "</div>\n",
              "      <button class=\"colab-df-convert\" onclick=\"convertToInteractive('df-09221c64-33ce-4c85-90f4-43ba4a210aab')\"\n",
              "              title=\"Convert this dataframe to an interactive table.\"\n",
              "              style=\"display:none;\">\n",
              "        \n",
              "  <svg xmlns=\"http://www.w3.org/2000/svg\" height=\"24px\"viewBox=\"0 0 24 24\"\n",
              "       width=\"24px\">\n",
              "    <path d=\"M0 0h24v24H0V0z\" fill=\"none\"/>\n",
              "    <path d=\"M18.56 5.44l.94 2.06.94-2.06 2.06-.94-2.06-.94-.94-2.06-.94 2.06-2.06.94zm-11 1L8.5 8.5l.94-2.06 2.06-.94-2.06-.94L8.5 2.5l-.94 2.06-2.06.94zm10 10l.94 2.06.94-2.06 2.06-.94-2.06-.94-.94-2.06-.94 2.06-2.06.94z\"/><path d=\"M17.41 7.96l-1.37-1.37c-.4-.4-.92-.59-1.43-.59-.52 0-1.04.2-1.43.59L10.3 9.45l-7.72 7.72c-.78.78-.78 2.05 0 2.83L4 21.41c.39.39.9.59 1.41.59.51 0 1.02-.2 1.41-.59l7.78-7.78 2.81-2.81c.8-.78.8-2.07 0-2.86zM5.41 20L4 18.59l7.72-7.72 1.47 1.35L5.41 20z\"/>\n",
              "  </svg>\n",
              "      </button>\n",
              "      \n",
              "  <style>\n",
              "    .colab-df-container {\n",
              "      display:flex;\n",
              "      flex-wrap:wrap;\n",
              "      gap: 12px;\n",
              "    }\n",
              "\n",
              "    .colab-df-convert {\n",
              "      background-color: #E8F0FE;\n",
              "      border: none;\n",
              "      border-radius: 50%;\n",
              "      cursor: pointer;\n",
              "      display: none;\n",
              "      fill: #1967D2;\n",
              "      height: 32px;\n",
              "      padding: 0 0 0 0;\n",
              "      width: 32px;\n",
              "    }\n",
              "\n",
              "    .colab-df-convert:hover {\n",
              "      background-color: #E2EBFA;\n",
              "      box-shadow: 0px 1px 2px rgba(60, 64, 67, 0.3), 0px 1px 3px 1px rgba(60, 64, 67, 0.15);\n",
              "      fill: #174EA6;\n",
              "    }\n",
              "\n",
              "    [theme=dark] .colab-df-convert {\n",
              "      background-color: #3B4455;\n",
              "      fill: #D2E3FC;\n",
              "    }\n",
              "\n",
              "    [theme=dark] .colab-df-convert:hover {\n",
              "      background-color: #434B5C;\n",
              "      box-shadow: 0px 1px 3px 1px rgba(0, 0, 0, 0.15);\n",
              "      filter: drop-shadow(0px 1px 2px rgba(0, 0, 0, 0.3));\n",
              "      fill: #FFFFFF;\n",
              "    }\n",
              "  </style>\n",
              "\n",
              "      <script>\n",
              "        const buttonEl =\n",
              "          document.querySelector('#df-09221c64-33ce-4c85-90f4-43ba4a210aab button.colab-df-convert');\n",
              "        buttonEl.style.display =\n",
              "          google.colab.kernel.accessAllowed ? 'block' : 'none';\n",
              "\n",
              "        async function convertToInteractive(key) {\n",
              "          const element = document.querySelector('#df-09221c64-33ce-4c85-90f4-43ba4a210aab');\n",
              "          const dataTable =\n",
              "            await google.colab.kernel.invokeFunction('convertToInteractive',\n",
              "                                                     [key], {});\n",
              "          if (!dataTable) return;\n",
              "\n",
              "          const docLinkHtml = 'Like what you see? Visit the ' +\n",
              "            '<a target=\"_blank\" href=https://colab.research.google.com/notebooks/data_table.ipynb>data table notebook</a>'\n",
              "            + ' to learn more about interactive tables.';\n",
              "          element.innerHTML = '';\n",
              "          dataTable['output_type'] = 'display_data';\n",
              "          await google.colab.output.renderOutput(dataTable, element);\n",
              "          const docLink = document.createElement('div');\n",
              "          docLink.innerHTML = docLinkHtml;\n",
              "          element.appendChild(docLink);\n",
              "        }\n",
              "      </script>\n",
              "    </div>\n",
              "  </div>\n",
              "  "
            ]
          },
          "metadata": {},
          "execution_count": 2
        }
      ],
      "source": [
        "# Acá deberían leer el conjunto de datos que ya tienen.\n",
        "melb_df = pd.read_csv(\n",
        "    'https://github.com/chino1504/diplodatos/blob/main/EyCD/melb_df_final.csv?raw=true')\n",
        "melb_df"
      ]
    },
    {
      "cell_type": "markdown",
      "metadata": {
        "id": "s-mixICN22kA"
      },
      "source": [
        "## Ejercicio 1: Encoding\n",
        "\n",
        "1. Seleccionar todas las filas y columnas del conjunto de datos obtenido en la parte 1 del entregable, **excepto** `BuildingArea` y `YearBuilt`, que volveremos a imputar más adelante.\n",
        "\n",
        "2. Aplicar una codificación One-hot encoding a cada fila, tanto para variables numéricas como categóricas. Si lo consideran necesario, pueden volver a reducir el número de categorías únicas.\n",
        "\n",
        "Algunas opciones:\n",
        "  1. Utilizar `OneHotEncoder` junto con el parámetro `categories` para las variables categóricas y luego usar `numpy.hstack` para concatenar el resultado con las variables numéricas. \n",
        "  2. `DictVectorizer` con algunos pasos de pre-proceso previo.\n",
        "\n",
        "Recordar también que el atributo `pandas.DataFrame.values` permite acceder a la matriz de numpy subyacente a un DataFrame.\n"
      ]
    },
    {
      "cell_type": "markdown",
      "metadata": {
        "id": "l5H3dySL5_Qu"
      },
      "source": [
        "#Desarrollo\n",
        "##1.1 Primero convertimos el conjunto de datos en una lista de diccionarios."
      ]
    },
    {
      "cell_type": "code",
      "execution_count": null,
      "metadata": {
        "colab": {
          "base_uri": "https://localhost:8080/"
        },
        "id": "F5LysaWh7Us1",
        "outputId": "eadbad81-3d85-4d60-cf06-df335dde68a4"
      },
      "outputs": [
        {
          "output_type": "execute_result",
          "data": {
            "text/plain": [
              "[{'Suburb': 'Abbotsford',\n",
              "  'Rooms': 2,\n",
              "  'Type': 'h',\n",
              "  'Price': 1480000.0,\n",
              "  'Postcode': 3067.0,\n",
              "  'Car': 1.0,\n",
              "  'Landsize': 202.0,\n",
              "  'BuildingArea': nan,\n",
              "  'YearBuilt': nan,\n",
              "  'Lattitude': -37.7996,\n",
              "  'Longtitude': 144.9984,\n",
              "  'zipcode': 3067.0,\n",
              "  'airbnb_record_count': 247.0,\n",
              "  'airbnb_price_mean': 111.29554655870446,\n",
              "  'airbnb_price_max': 336.0}]"
            ]
          },
          "metadata": {},
          "execution_count": 3
        }
      ],
      "source": [
        "melb_df_fea = melb_df.copy()\n",
        "melb_dict = list(melb_df_fea.T.to_dict().values())\n",
        "melb_dict[:1]"
      ]
    },
    {
      "cell_type": "code",
      "execution_count": null,
      "metadata": {
        "colab": {
          "base_uri": "https://localhost:8080/"
        },
        "id": "T_pYUeDL95VH",
        "outputId": "75b77436-1881-4d07-cbac-a80cb70acb46"
      },
      "outputs": [
        {
          "output_type": "execute_result",
          "data": {
            "text/plain": [
              "array([[           nan, 1.00000000e+00, 2.02000000e+02, ...,\n",
              "        1.11295547e+02, 2.47000000e+02, 3.06700000e+03],\n",
              "       [7.90000000e+01, 0.00000000e+00, 1.56000000e+02, ...,\n",
              "        1.11295547e+02, 2.47000000e+02, 3.06700000e+03],\n",
              "       [1.50000000e+02, 0.00000000e+00, 1.34000000e+02, ...,\n",
              "        1.11295547e+02, 2.47000000e+02, 3.06700000e+03],\n",
              "       ...,\n",
              "       [           nan, 2.00000000e+00, 6.52000000e+02, ...,\n",
              "        1.11863388e+02, 1.83000000e+02, 3.15000000e+03],\n",
              "       [1.33000000e+02, 2.00000000e+00, 3.33000000e+02, ...,\n",
              "        1.68800000e+02, 7.00000000e+01, 3.01600000e+03],\n",
              "       [1.12000000e+02, 1.00000000e+00, 3.62000000e+02, ...,\n",
              "        1.26750000e+02, 8.00000000e+01, 3.01300000e+03]])"
            ]
          },
          "metadata": {},
          "execution_count": 4
        }
      ],
      "source": [
        "vec = DictVectorizer(sparse=False)\n",
        "melb_matrix = vec.fit_transform(melb_dict)\n",
        "melb_matrix"
      ]
    },
    {
      "cell_type": "code",
      "execution_count": null,
      "metadata": {
        "colab": {
          "base_uri": "https://localhost:8080/"
        },
        "id": "NPq-ZwDhdio4",
        "outputId": "80952c21-1f53-4821-b496-416539094e96"
      },
      "outputs": [
        {
          "output_type": "stream",
          "name": "stderr",
          "text": [
            "/usr/local/lib/python3.7/dist-packages/sklearn/utils/deprecation.py:87: FutureWarning: Function get_feature_names is deprecated; get_feature_names is deprecated in 1.0 and will be removed in 1.2. Please use get_feature_names_out instead.\n",
            "  warnings.warn(msg, category=FutureWarning)\n"
          ]
        },
        {
          "output_type": "execute_result",
          "data": {
            "text/plain": [
              "['BuildingArea',\n",
              " 'Car',\n",
              " 'Landsize',\n",
              " 'Lattitude',\n",
              " 'Longtitude',\n",
              " 'Postcode',\n",
              " 'Price',\n",
              " 'Rooms',\n",
              " 'Suburb=Abbotsford',\n",
              " 'Suburb=Aberfeldie',\n",
              " 'Suburb=Airport West',\n",
              " 'Suburb=Albanvale',\n",
              " 'Suburb=Albert Park',\n",
              " 'Suburb=Albion',\n",
              " 'Suburb=Alphington',\n",
              " 'Suburb=Altona',\n",
              " 'Suburb=Altona Meadows',\n",
              " 'Suburb=Altona North',\n",
              " 'Suburb=Ardeer',\n",
              " 'Suburb=Armadale',\n",
              " 'Suburb=Ascot Vale',\n",
              " 'Suburb=Ashburton',\n",
              " 'Suburb=Ashwood',\n",
              " 'Suburb=Aspendale',\n",
              " 'Suburb=Aspendale Gardens',\n",
              " 'Suburb=Attwood',\n",
              " 'Suburb=Avondale Heights',\n",
              " 'Suburb=Balaclava',\n",
              " 'Suburb=Balwyn',\n",
              " 'Suburb=Balwyn North',\n",
              " 'Suburb=Bayswater',\n",
              " 'Suburb=Bayswater North',\n",
              " 'Suburb=Beaconsfield',\n",
              " 'Suburb=Beaconsfield Upper',\n",
              " 'Suburb=Beaumaris',\n",
              " 'Suburb=Bellfield',\n",
              " 'Suburb=Bentleigh',\n",
              " 'Suburb=Bentleigh East',\n",
              " 'Suburb=Berwick',\n",
              " 'Suburb=Black Rock',\n",
              " 'Suburb=Blackburn',\n",
              " 'Suburb=Blackburn North',\n",
              " 'Suburb=Blackburn South',\n",
              " 'Suburb=Bonbeach',\n",
              " 'Suburb=Boronia',\n",
              " 'Suburb=Box Hill',\n",
              " 'Suburb=Braybrook',\n",
              " 'Suburb=Briar Hill',\n",
              " 'Suburb=Brighton',\n",
              " 'Suburb=Brighton East',\n",
              " 'Suburb=Broadmeadows',\n",
              " 'Suburb=Brookfield',\n",
              " 'Suburb=Brooklyn',\n",
              " 'Suburb=Brunswick',\n",
              " 'Suburb=Brunswick East',\n",
              " 'Suburb=Brunswick West',\n",
              " 'Suburb=Bulleen',\n",
              " 'Suburb=Bullengarook',\n",
              " 'Suburb=Bundoora',\n",
              " 'Suburb=Burnley',\n",
              " 'Suburb=Burnside',\n",
              " 'Suburb=Burnside Heights',\n",
              " 'Suburb=Burwood',\n",
              " 'Suburb=Burwood East',\n",
              " 'Suburb=Cairnlea',\n",
              " 'Suburb=Camberwell',\n",
              " 'Suburb=Campbellfield',\n",
              " 'Suburb=Canterbury',\n",
              " 'Suburb=Carlton',\n",
              " 'Suburb=Carlton North',\n",
              " 'Suburb=Carnegie',\n",
              " 'Suburb=Caroline Springs',\n",
              " 'Suburb=Carrum',\n",
              " 'Suburb=Carrum Downs',\n",
              " 'Suburb=Caulfield',\n",
              " 'Suburb=Caulfield East',\n",
              " 'Suburb=Caulfield North',\n",
              " 'Suburb=Caulfield South',\n",
              " 'Suburb=Chadstone',\n",
              " 'Suburb=Chelsea',\n",
              " 'Suburb=Chelsea Heights',\n",
              " 'Suburb=Cheltenham',\n",
              " 'Suburb=Chirnside Park',\n",
              " 'Suburb=Clarinda',\n",
              " 'Suburb=Clayton',\n",
              " 'Suburb=Clayton South',\n",
              " 'Suburb=Clifton Hill',\n",
              " 'Suburb=Coburg',\n",
              " 'Suburb=Coburg North',\n",
              " 'Suburb=Collingwood',\n",
              " 'Suburb=Coolaroo',\n",
              " 'Suburb=Craigieburn',\n",
              " 'Suburb=Cranbourne',\n",
              " 'Suburb=Cranbourne North',\n",
              " 'Suburb=Cremorne',\n",
              " 'Suburb=Croydon',\n",
              " 'Suburb=Croydon Hills',\n",
              " 'Suburb=Croydon North',\n",
              " 'Suburb=Croydon South',\n",
              " 'Suburb=Dallas',\n",
              " 'Suburb=Dandenong',\n",
              " 'Suburb=Dandenong North',\n",
              " 'Suburb=Deepdene',\n",
              " 'Suburb=Deer Park',\n",
              " 'Suburb=Delahey',\n",
              " 'Suburb=Derrimut',\n",
              " 'Suburb=Diamond Creek',\n",
              " 'Suburb=Diggers Rest',\n",
              " 'Suburb=Dingley Village',\n",
              " 'Suburb=Docklands',\n",
              " 'Suburb=Doncaster',\n",
              " 'Suburb=Doncaster East',\n",
              " 'Suburb=Donvale',\n",
              " 'Suburb=Doreen',\n",
              " 'Suburb=Doveton',\n",
              " 'Suburb=Eaglemont',\n",
              " 'Suburb=East Melbourne',\n",
              " 'Suburb=Edithvale',\n",
              " 'Suburb=Elsternwick',\n",
              " 'Suburb=Eltham',\n",
              " 'Suburb=Eltham North',\n",
              " 'Suburb=Elwood',\n",
              " 'Suburb=Emerald',\n",
              " 'Suburb=Endeavour Hills',\n",
              " 'Suburb=Epping',\n",
              " 'Suburb=Essendon',\n",
              " 'Suburb=Essendon North',\n",
              " 'Suburb=Essendon West',\n",
              " 'Suburb=Fairfield',\n",
              " 'Suburb=Fawkner',\n",
              " 'Suburb=Ferntree Gully',\n",
              " 'Suburb=Fitzroy',\n",
              " 'Suburb=Fitzroy North',\n",
              " 'Suburb=Flemington',\n",
              " 'Suburb=Footscray',\n",
              " 'Suburb=Forest Hill',\n",
              " 'Suburb=Frankston',\n",
              " 'Suburb=Frankston North',\n",
              " 'Suburb=Frankston South',\n",
              " 'Suburb=Gardenvale',\n",
              " 'Suburb=Gisborne',\n",
              " 'Suburb=Gladstone Park',\n",
              " 'Suburb=Glen Huntly',\n",
              " 'Suburb=Glen Iris',\n",
              " 'Suburb=Glen Waverley',\n",
              " 'Suburb=Glenroy',\n",
              " 'Suburb=Gowanbrae',\n",
              " 'Suburb=Greensborough',\n",
              " 'Suburb=Greenvale',\n",
              " 'Suburb=Hadfield',\n",
              " 'Suburb=Hallam',\n",
              " 'Suburb=Hampton',\n",
              " 'Suburb=Hampton East',\n",
              " 'Suburb=Hampton Park',\n",
              " 'Suburb=Hawthorn',\n",
              " 'Suburb=Hawthorn East',\n",
              " 'Suburb=Heathmont',\n",
              " 'Suburb=Heidelberg',\n",
              " 'Suburb=Heidelberg Heights',\n",
              " 'Suburb=Heidelberg West',\n",
              " 'Suburb=Highett',\n",
              " 'Suburb=Hillside',\n",
              " 'Suburb=Hoppers Crossing',\n",
              " 'Suburb=Hughesdale',\n",
              " 'Suburb=Huntingdale',\n",
              " 'Suburb=Ivanhoe',\n",
              " 'Suburb=Ivanhoe East',\n",
              " 'Suburb=Jacana',\n",
              " 'Suburb=Kealba',\n",
              " 'Suburb=Keilor',\n",
              " 'Suburb=Keilor Downs',\n",
              " 'Suburb=Keilor East',\n",
              " 'Suburb=Keilor Lodge',\n",
              " 'Suburb=Keilor Park',\n",
              " 'Suburb=Kensington',\n",
              " 'Suburb=Kew',\n",
              " 'Suburb=Kew East',\n",
              " 'Suburb=Keysborough',\n",
              " 'Suburb=Kilsyth',\n",
              " 'Suburb=Kings Park',\n",
              " 'Suburb=Kingsbury',\n",
              " 'Suburb=Kingsville',\n",
              " 'Suburb=Knoxfield',\n",
              " 'Suburb=Kooyong',\n",
              " 'Suburb=Kurunjang',\n",
              " 'Suburb=Lalor',\n",
              " 'Suburb=Langwarrin',\n",
              " 'Suburb=Lower Plenty',\n",
              " 'Suburb=Maidstone',\n",
              " 'Suburb=Malvern',\n",
              " 'Suburb=Malvern East',\n",
              " 'Suburb=Maribyrnong',\n",
              " 'Suburb=McKinnon',\n",
              " 'Suburb=Meadow Heights',\n",
              " 'Suburb=Melbourne',\n",
              " 'Suburb=Melton',\n",
              " 'Suburb=Melton South',\n",
              " 'Suburb=Melton West',\n",
              " 'Suburb=Mentone',\n",
              " 'Suburb=Mernda',\n",
              " 'Suburb=Middle Park',\n",
              " 'Suburb=Mill Park',\n",
              " 'Suburb=Mitcham',\n",
              " 'Suburb=Monbulk',\n",
              " 'Suburb=Mont Albert',\n",
              " 'Suburb=Montmorency',\n",
              " 'Suburb=Montrose',\n",
              " 'Suburb=Moonee Ponds',\n",
              " 'Suburb=Moorabbin',\n",
              " 'Suburb=Mooroolbark',\n",
              " 'Suburb=Mordialloc',\n",
              " 'Suburb=Mount Evelyn',\n",
              " 'Suburb=Mount Waverley',\n",
              " 'Suburb=Mulgrave',\n",
              " 'Suburb=Murrumbeena',\n",
              " 'Suburb=Narre Warren',\n",
              " 'Suburb=Newport',\n",
              " 'Suburb=Niddrie',\n",
              " 'Suburb=Noble Park',\n",
              " 'Suburb=North Melbourne',\n",
              " 'Suburb=North Warrandyte',\n",
              " 'Suburb=Northcote',\n",
              " 'Suburb=Notting Hill',\n",
              " 'Suburb=Nunawading',\n",
              " 'Suburb=Oak Park',\n",
              " 'Suburb=Oakleigh',\n",
              " 'Suburb=Oakleigh East',\n",
              " 'Suburb=Oakleigh South',\n",
              " 'Suburb=Officer',\n",
              " 'Suburb=Ormond',\n",
              " 'Suburb=Pakenham',\n",
              " 'Suburb=Parkdale',\n",
              " 'Suburb=Parkville',\n",
              " 'Suburb=Pascoe Vale',\n",
              " 'Suburb=Plumpton',\n",
              " 'Suburb=Point Cook',\n",
              " 'Suburb=Port Melbourne',\n",
              " 'Suburb=Prahran',\n",
              " 'Suburb=Preston',\n",
              " 'Suburb=Princes Hill',\n",
              " 'Suburb=Reservoir',\n",
              " 'Suburb=Richmond',\n",
              " 'Suburb=Ringwood',\n",
              " 'Suburb=Ringwood East',\n",
              " 'Suburb=Ringwood North',\n",
              " 'Suburb=Ripponlea',\n",
              " 'Suburb=Rockbank',\n",
              " 'Suburb=Rosanna',\n",
              " 'Suburb=Rowville',\n",
              " 'Suburb=Roxburgh Park',\n",
              " 'Suburb=Sandhurst',\n",
              " 'Suburb=Sandringham',\n",
              " 'Suburb=Scoresby',\n",
              " 'Suburb=Seabrook',\n",
              " 'Suburb=Seaford',\n",
              " 'Suburb=Seaholme',\n",
              " 'Suburb=Seddon',\n",
              " 'Suburb=Silvan',\n",
              " 'Suburb=Skye',\n",
              " 'Suburb=South Kingsville',\n",
              " 'Suburb=South Melbourne',\n",
              " 'Suburb=South Morang',\n",
              " 'Suburb=South Yarra',\n",
              " 'Suburb=Southbank',\n",
              " 'Suburb=Spotswood',\n",
              " 'Suburb=Springvale',\n",
              " 'Suburb=Springvale South',\n",
              " 'Suburb=St Albans',\n",
              " 'Suburb=St Helena',\n",
              " 'Suburb=St Kilda',\n",
              " 'Suburb=Strathmore',\n",
              " 'Suburb=Strathmore Heights',\n",
              " 'Suburb=Sunbury',\n",
              " 'Suburb=Sunshine',\n",
              " 'Suburb=Sunshine North',\n",
              " 'Suburb=Sunshine West',\n",
              " 'Suburb=Surrey Hills',\n",
              " 'Suburb=Sydenham',\n",
              " 'Suburb=Tarneit',\n",
              " 'Suburb=Taylors Hill',\n",
              " 'Suburb=Taylors Lakes',\n",
              " 'Suburb=Templestowe',\n",
              " 'Suburb=Templestowe Lower',\n",
              " 'Suburb=The Basin',\n",
              " 'Suburb=Thomastown',\n",
              " 'Suburb=Thornbury',\n",
              " 'Suburb=Toorak',\n",
              " 'Suburb=Travancore',\n",
              " 'Suburb=Truganina',\n",
              " 'Suburb=Tullamarine',\n",
              " 'Suburb=Upwey',\n",
              " 'Suburb=Vermont',\n",
              " 'Suburb=Vermont South',\n",
              " 'Suburb=Viewbank',\n",
              " 'Suburb=Wallan',\n",
              " 'Suburb=Wantirna',\n",
              " 'Suburb=Wantirna South',\n",
              " 'Suburb=Warrandyte',\n",
              " 'Suburb=Waterways',\n",
              " 'Suburb=Watsonia',\n",
              " 'Suburb=Watsonia North',\n",
              " 'Suburb=Werribee',\n",
              " 'Suburb=West Footscray',\n",
              " 'Suburb=West Melbourne',\n",
              " 'Suburb=Westmeadows',\n",
              " 'Suburb=Wheelers Hill',\n",
              " 'Suburb=Whittlesea',\n",
              " 'Suburb=Williams Landing',\n",
              " 'Suburb=Williamstown',\n",
              " 'Suburb=Williamstown North',\n",
              " 'Suburb=Windsor',\n",
              " 'Suburb=Wollert',\n",
              " 'Suburb=Wonga Park',\n",
              " 'Suburb=Wyndham Vale',\n",
              " 'Suburb=Yallambie',\n",
              " 'Suburb=Yarra Glen',\n",
              " 'Suburb=Yarraville',\n",
              " 'Type=h',\n",
              " 'Type=t',\n",
              " 'Type=u',\n",
              " 'YearBuilt',\n",
              " 'airbnb_price_max',\n",
              " 'airbnb_price_mean',\n",
              " 'airbnb_record_count',\n",
              " 'zipcode']"
            ]
          },
          "metadata": {},
          "execution_count": 5
        }
      ],
      "source": [
        "vec.get_feature_names()"
      ]
    },
    {
      "cell_type": "code",
      "source": [
        "melb_df_encoded = pd.DataFrame(melb_matrix, columns=vec.get_feature_names())\n",
        "melb_df_encoded.head(1)"
      ],
      "metadata": {
        "colab": {
          "base_uri": "https://localhost:8080/",
          "height": 191
        },
        "id": "r2j8_LDsJ0ZN",
        "outputId": "fd0dda69-d1d5-4dd0-f6e8-aa0e78dbcec7"
      },
      "execution_count": null,
      "outputs": [
        {
          "output_type": "execute_result",
          "data": {
            "text/plain": [
              "   BuildingArea  Car  Landsize  Lattitude  Longtitude  Postcode      Price  \\\n",
              "0           NaN  1.0     202.0   -37.7996    144.9984    3067.0  1480000.0   \n",
              "\n",
              "   Rooms  Suburb=Abbotsford  Suburb=Aberfeldie  ...  Suburb=Yarra Glen  \\\n",
              "0    2.0                1.0                0.0  ...                0.0   \n",
              "\n",
              "   Suburb=Yarraville  Type=h  Type=t  Type=u  YearBuilt  airbnb_price_max  \\\n",
              "0                0.0     1.0     0.0     0.0        NaN             336.0   \n",
              "\n",
              "   airbnb_price_mean  airbnb_record_count  zipcode  \n",
              "0         111.295547                247.0   3067.0  \n",
              "\n",
              "[1 rows x 325 columns]"
            ],
            "text/html": [
              "\n",
              "  <div id=\"df-6e5be7f6-dc3a-4650-9b40-be892f0ae414\">\n",
              "    <div class=\"colab-df-container\">\n",
              "      <div>\n",
              "<style scoped>\n",
              "    .dataframe tbody tr th:only-of-type {\n",
              "        vertical-align: middle;\n",
              "    }\n",
              "\n",
              "    .dataframe tbody tr th {\n",
              "        vertical-align: top;\n",
              "    }\n",
              "\n",
              "    .dataframe thead th {\n",
              "        text-align: right;\n",
              "    }\n",
              "</style>\n",
              "<table border=\"1\" class=\"dataframe\">\n",
              "  <thead>\n",
              "    <tr style=\"text-align: right;\">\n",
              "      <th></th>\n",
              "      <th>BuildingArea</th>\n",
              "      <th>Car</th>\n",
              "      <th>Landsize</th>\n",
              "      <th>Lattitude</th>\n",
              "      <th>Longtitude</th>\n",
              "      <th>Postcode</th>\n",
              "      <th>Price</th>\n",
              "      <th>Rooms</th>\n",
              "      <th>Suburb=Abbotsford</th>\n",
              "      <th>Suburb=Aberfeldie</th>\n",
              "      <th>...</th>\n",
              "      <th>Suburb=Yarra Glen</th>\n",
              "      <th>Suburb=Yarraville</th>\n",
              "      <th>Type=h</th>\n",
              "      <th>Type=t</th>\n",
              "      <th>Type=u</th>\n",
              "      <th>YearBuilt</th>\n",
              "      <th>airbnb_price_max</th>\n",
              "      <th>airbnb_price_mean</th>\n",
              "      <th>airbnb_record_count</th>\n",
              "      <th>zipcode</th>\n",
              "    </tr>\n",
              "  </thead>\n",
              "  <tbody>\n",
              "    <tr>\n",
              "      <th>0</th>\n",
              "      <td>NaN</td>\n",
              "      <td>1.0</td>\n",
              "      <td>202.0</td>\n",
              "      <td>-37.7996</td>\n",
              "      <td>144.9984</td>\n",
              "      <td>3067.0</td>\n",
              "      <td>1480000.0</td>\n",
              "      <td>2.0</td>\n",
              "      <td>1.0</td>\n",
              "      <td>0.0</td>\n",
              "      <td>...</td>\n",
              "      <td>0.0</td>\n",
              "      <td>0.0</td>\n",
              "      <td>1.0</td>\n",
              "      <td>0.0</td>\n",
              "      <td>0.0</td>\n",
              "      <td>NaN</td>\n",
              "      <td>336.0</td>\n",
              "      <td>111.295547</td>\n",
              "      <td>247.0</td>\n",
              "      <td>3067.0</td>\n",
              "    </tr>\n",
              "  </tbody>\n",
              "</table>\n",
              "<p>1 rows × 325 columns</p>\n",
              "</div>\n",
              "      <button class=\"colab-df-convert\" onclick=\"convertToInteractive('df-6e5be7f6-dc3a-4650-9b40-be892f0ae414')\"\n",
              "              title=\"Convert this dataframe to an interactive table.\"\n",
              "              style=\"display:none;\">\n",
              "        \n",
              "  <svg xmlns=\"http://www.w3.org/2000/svg\" height=\"24px\"viewBox=\"0 0 24 24\"\n",
              "       width=\"24px\">\n",
              "    <path d=\"M0 0h24v24H0V0z\" fill=\"none\"/>\n",
              "    <path d=\"M18.56 5.44l.94 2.06.94-2.06 2.06-.94-2.06-.94-.94-2.06-.94 2.06-2.06.94zm-11 1L8.5 8.5l.94-2.06 2.06-.94-2.06-.94L8.5 2.5l-.94 2.06-2.06.94zm10 10l.94 2.06.94-2.06 2.06-.94-2.06-.94-.94-2.06-.94 2.06-2.06.94z\"/><path d=\"M17.41 7.96l-1.37-1.37c-.4-.4-.92-.59-1.43-.59-.52 0-1.04.2-1.43.59L10.3 9.45l-7.72 7.72c-.78.78-.78 2.05 0 2.83L4 21.41c.39.39.9.59 1.41.59.51 0 1.02-.2 1.41-.59l7.78-7.78 2.81-2.81c.8-.78.8-2.07 0-2.86zM5.41 20L4 18.59l7.72-7.72 1.47 1.35L5.41 20z\"/>\n",
              "  </svg>\n",
              "      </button>\n",
              "      \n",
              "  <style>\n",
              "    .colab-df-container {\n",
              "      display:flex;\n",
              "      flex-wrap:wrap;\n",
              "      gap: 12px;\n",
              "    }\n",
              "\n",
              "    .colab-df-convert {\n",
              "      background-color: #E8F0FE;\n",
              "      border: none;\n",
              "      border-radius: 50%;\n",
              "      cursor: pointer;\n",
              "      display: none;\n",
              "      fill: #1967D2;\n",
              "      height: 32px;\n",
              "      padding: 0 0 0 0;\n",
              "      width: 32px;\n",
              "    }\n",
              "\n",
              "    .colab-df-convert:hover {\n",
              "      background-color: #E2EBFA;\n",
              "      box-shadow: 0px 1px 2px rgba(60, 64, 67, 0.3), 0px 1px 3px 1px rgba(60, 64, 67, 0.15);\n",
              "      fill: #174EA6;\n",
              "    }\n",
              "\n",
              "    [theme=dark] .colab-df-convert {\n",
              "      background-color: #3B4455;\n",
              "      fill: #D2E3FC;\n",
              "    }\n",
              "\n",
              "    [theme=dark] .colab-df-convert:hover {\n",
              "      background-color: #434B5C;\n",
              "      box-shadow: 0px 1px 3px 1px rgba(0, 0, 0, 0.15);\n",
              "      filter: drop-shadow(0px 1px 2px rgba(0, 0, 0, 0.3));\n",
              "      fill: #FFFFFF;\n",
              "    }\n",
              "  </style>\n",
              "\n",
              "      <script>\n",
              "        const buttonEl =\n",
              "          document.querySelector('#df-6e5be7f6-dc3a-4650-9b40-be892f0ae414 button.colab-df-convert');\n",
              "        buttonEl.style.display =\n",
              "          google.colab.kernel.accessAllowed ? 'block' : 'none';\n",
              "\n",
              "        async function convertToInteractive(key) {\n",
              "          const element = document.querySelector('#df-6e5be7f6-dc3a-4650-9b40-be892f0ae414');\n",
              "          const dataTable =\n",
              "            await google.colab.kernel.invokeFunction('convertToInteractive',\n",
              "                                                     [key], {});\n",
              "          if (!dataTable) return;\n",
              "\n",
              "          const docLinkHtml = 'Like what you see? Visit the ' +\n",
              "            '<a target=\"_blank\" href=https://colab.research.google.com/notebooks/data_table.ipynb>data table notebook</a>'\n",
              "            + ' to learn more about interactive tables.';\n",
              "          element.innerHTML = '';\n",
              "          dataTable['output_type'] = 'display_data';\n",
              "          await google.colab.output.renderOutput(dataTable, element);\n",
              "          const docLink = document.createElement('div');\n",
              "          docLink.innerHTML = docLinkHtml;\n",
              "          element.appendChild(docLink);\n",
              "        }\n",
              "      </script>\n",
              "    </div>\n",
              "  </div>\n",
              "  "
            ]
          },
          "metadata": {},
          "execution_count": 6
        }
      ]
    },
    {
      "cell_type": "markdown",
      "metadata": {
        "id": "ismngxPcfoWb"
      },
      "source": [
        "## Ejercicio 2: Imputación por KNN\n",
        "\n",
        "En el teórico se presentó el método `IterativeImputer` para imputar valores faltantes en variables numéricas. Sin embargo, los ejemplos presentados sólo utilizaban algunas variables numéricas presentes en el conjunto de datos. En este ejercicio, utilizaremos la matriz de datos codificada para imputar datos faltantes de manera más precisa.\n",
        "\n",
        "1. Agregue a la matriz obtenida en el punto anterior las columnas `YearBuilt` y `BuildingArea`.\n",
        "2. Aplique una instancia de `IterativeImputer` con un estimador `KNeighborsRegressor` para imputar los valores de las variables. ¿Es necesario estandarizar o escalar los datos previamente?\n",
        "3. Realice un gráfico mostrando la distribución de cada variable antes de ser imputada, y con ambos métodos de imputación."
      ]
    },
    {
      "cell_type": "code",
      "execution_count": null,
      "metadata": {
        "colab": {
          "base_uri": "https://localhost:8080/"
        },
        "id": "G4ClSr_JapCw",
        "outputId": "5d774590-c328-47b7-c832-a18e2d92f8be"
      },
      "outputs": [
        {
          "output_type": "stream",
          "name": "stderr",
          "text": [
            "/usr/local/lib/python3.7/dist-packages/sklearn/impute/_iterative.py:701: ConvergenceWarning: [IterativeImputer] Early stopping criterion not reached.\n",
            "  ConvergenceWarning,\n"
          ]
        }
      ],
      "source": [
        "from sklearn.experimental import enable_iterative_imputer\n",
        "from sklearn.neighbors import KNeighborsRegressor\n",
        "from sklearn.impute import IterativeImputer\n",
        "from sklearn import preprocessing \n",
        "\n",
        "\n",
        "melb_data_mice = melb_df_encoded.copy(deep=True)\n",
        "\n",
        "imputer = IterativeImputer(random_state=0, estimator=KNeighborsRegressor())\n",
        "melb_data_mice[['YearBuilt','BuildingArea']] = imputer.fit_transform(\n",
        "    melb_data_mice[['YearBuilt', 'BuildingArea']])"
      ]
    },
    {
      "cell_type": "markdown",
      "metadata": {
        "id": "ImjXQZUbVoKH"
      },
      "source": [
        "##Gráfico comparando las distribuciones de datos obtenidas al aplicar el método de imputación."
      ]
    },
    {
      "cell_type": "code",
      "execution_count": null,
      "metadata": {
        "id": "PMK1ktqYQTJK"
      },
      "outputs": [],
      "source": [
        "mice_yb = melb_data_mice.YearBuilt.to_frame()\n",
        "mice_yb['Imputation'] = 'KNN sobre YearBuilt'\n",
        "melb_yb = melb_df.YearBuilt.dropna().to_frame()\n",
        "melb_yb['Imputation'] = 'Original'\n",
        "data_yb = pd.concat([mice_yb, melb_yb])\n",
        "data_yb = data_yb.reset_index()"
      ]
    },
    {
      "cell_type": "code",
      "execution_count": null,
      "metadata": {
        "id": "EhEgoWoMsgp_"
      },
      "outputs": [],
      "source": [
        "mice_ba = melb_data_mice.BuildingArea.to_frame()\n",
        "mice_ba['Imputation'] = 'KNN sobre BuildingArea'\n",
        "melb_ba = melb_df.BuildingArea.dropna().to_frame()\n",
        "melb_ba['Imputation'] = 'Original'\n",
        "data_ba = pd.concat([mice_ba, melb_ba])\n",
        "data_ba = data_ba.reset_index()"
      ]
    },
    {
      "cell_type": "code",
      "source": [
        "fig,(ax1, ax2) = plt.subplots(ncols = 2, figsize =(18, 6)) \n",
        "seaborn.kdeplot(data=data_yb, x='YearBuilt', hue='Imputation', ax = ax1)\n",
        "seaborn.kdeplot(data=data_ba, x='BuildingArea', hue='Imputation', ax = ax2) \n",
        "ax2.set_xlim([0, 600])\n",
        "plt.show()"
      ],
      "metadata": {
        "colab": {
          "base_uri": "https://localhost:8080/",
          "height": 410
        },
        "id": "3-FwNMGpWCmt",
        "outputId": "358db99c-7198-4717-b372-4951cc1afb3f"
      },
      "execution_count": null,
      "outputs": [
        {
          "output_type": "display_data",
          "data": {
            "text/plain": [
              "<Figure size 1296x432 with 2 Axes>"
            ],
            "image/png": "[encoded data removed]"
          },
          "metadata": {
            "needs_background": "light"
          }
        }
      ]
    },
    {
      "cell_type": "markdown",
      "source": [
        "##Al observar los graficos notamos que despues de imputar los valores faltantes la curva presenta picos que se alejan mucho de la original, es por ello que decidimos scalar los datos previamente."
      ],
      "metadata": {
        "id": "htf372cUadqI"
      }
    },
    {
      "cell_type": "code",
      "source": [
        "melb_data_scaler = melb_df_encoded.copy(deep=True)\n",
        "scaler = preprocessing.StandardScaler()\n",
        "scaled_df = scaler.fit_transform(melb_data_scaler)\n",
        "scaled_df = pd.DataFrame(scaled_df, columns=vec.get_feature_names())\n",
        "\n",
        "fig,(ax1, ax2) = plt.subplots(ncols = 2, figsize =(12, 5)) \n",
        "ax1.set_title('Original - YearBuilt') \n",
        "  \n",
        "seaborn.kdeplot(melb_data_scaler['YearBuilt'], ax = ax1, color ='b') \n",
        "ax2.set_title('Aplicando StandardScaler - YearBuilt')  \n",
        "seaborn.kdeplot(scaled_df['YearBuilt'], ax = ax2, color ='b') \n",
        "\n",
        "plt.show()"
      ],
      "metadata": {
        "id": "NYBkiyCBTr1m",
        "colab": {
          "base_uri": "https://localhost:8080/",
          "height": 430
        },
        "outputId": "682d4509-a2ba-4155-e853-3718d7cbf6f1"
      },
      "execution_count": null,
      "outputs": [
        {
          "output_type": "stream",
          "name": "stderr",
          "text": [
            "/usr/local/lib/python3.7/dist-packages/sklearn/utils/deprecation.py:87: FutureWarning: Function get_feature_names is deprecated; get_feature_names is deprecated in 1.0 and will be removed in 1.2. Please use get_feature_names_out instead.\n",
            "  warnings.warn(msg, category=FutureWarning)\n"
          ]
        },
        {
          "output_type": "display_data",
          "data": {
            "text/plain": [
              "<Figure size 864x360 with 2 Axes>"
            ],
            "image/png": "[encoded data removed]"
          },
          "metadata": {
            "needs_background": "light"
          }
        }
      ]
    },
    {
      "cell_type": "code",
      "source": [
        "fig,(ax1, ax2) = plt.subplots(ncols = 2, figsize =(12, 5)) \n",
        "ax1.set_title('Original - BuildingArea')\n",
        "ax1.set_xlim([-500, 1000])\n",
        "seaborn.kdeplot(melb_data_scaler['BuildingArea'], ax = ax1, color ='c') \n",
        "ax2.set_title('Aplicando StandardScaler - BuildingArea')\n",
        "ax2.set_xlim([-5, 10])  \n",
        "seaborn.kdeplot(scaled_df['BuildingArea'], ax = ax2, color ='c') \n",
        "\n",
        "plt.show()"
      ],
      "metadata": {
        "colab": {
          "base_uri": "https://localhost:8080/",
          "height": 375
        },
        "id": "76iO6b76sEEJ",
        "outputId": "aa0cd4a9-86b8-4c6b-8f29-cc5a9940c702"
      },
      "execution_count": null,
      "outputs": [
        {
          "output_type": "display_data",
          "data": {
            "text/plain": [
              "<Figure size 864x360 with 2 Axes>"
            ],
            "image/png": "[encoded data removed]"
          },
          "metadata": {
            "needs_background": "light"
          }
        }
      ]
    },
    {
      "cell_type": "markdown",
      "source": [
        "##Aplicamos la imputacion de datos KNN sobre los datos escalados."
      ],
      "metadata": {
        "id": "fKqXy19hsD1e"
      }
    },
    {
      "cell_type": "code",
      "source": [
        "imputer = IterativeImputer(random_state=0, estimator=KNeighborsRegressor(),n_nearest_features=5)\n",
        "values = scaled_df.values.copy()\n",
        "\n",
        "imputed_scaled = imputer.fit_transform(values)\n",
        "\n",
        "inv_imputer = pd.DataFrame(scaler.inverse_transform(imputed_scaled), columns=vec.get_feature_names())\n",
        "inv_imputer['Imputation'] = 'KNN sobre StandardScaler'"
      ],
      "metadata": {
        "colab": {
          "base_uri": "https://localhost:8080/"
        },
        "id": "mCAeprFHtskT",
        "outputId": "2227a416-0a38-4002-bcc2-484a717dc190"
      },
      "execution_count": null,
      "outputs": [
        {
          "output_type": "stream",
          "name": "stderr",
          "text": [
            "/usr/local/lib/python3.7/dist-packages/sklearn/impute/_iterative.py:701: ConvergenceWarning: [IterativeImputer] Early stopping criterion not reached.\n",
            "  ConvergenceWarning,\n",
            "/usr/local/lib/python3.7/dist-packages/sklearn/utils/deprecation.py:87: FutureWarning: Function get_feature_names is deprecated; get_feature_names is deprecated in 1.0 and will be removed in 1.2. Please use get_feature_names_out instead.\n",
            "  warnings.warn(msg, category=FutureWarning)\n"
          ]
        }
      ]
    },
    {
      "cell_type": "markdown",
      "source": [
        "##Filtramos los conjuntos de datos de las columnas de interes."
      ],
      "metadata": {
        "id": "eZn62EsqY5eF"
      }
    },
    {
      "cell_type": "code",
      "source": [
        "filtr_yb = inv_imputer.loc[:,['YearBuilt','Imputation']]\n",
        "filtr_ba = inv_imputer.loc[:,['BuildingArea', 'Imputation']]\n",
        "\n",
        "melb_yb_final = pd.concat([data_yb,filtr_yb])\n",
        "melb_yb_final = melb_yb_final.reset_index()\n",
        "melb_yb_final.drop(['index'], axis=1, inplace=True)\n",
        "\n",
        "melb_ba_final = pd.concat([data_ba,filtr_ba])\n",
        "melb_ba_final = melb_ba_final.reset_index()\n",
        "melb_ba_final.drop(['index'], axis=1, inplace=True)"
      ],
      "metadata": {
        "id": "3KCoQ1tZbXiD"
      },
      "execution_count": null,
      "outputs": []
    },
    {
      "cell_type": "markdown",
      "source": [
        "##Realizamos los gráficos para comparar los resultados."
      ],
      "metadata": {
        "id": "jklixYqEeECs"
      }
    },
    {
      "cell_type": "code",
      "source": [
        "fig,(ax1, ax2) = plt.subplots(ncols = 2, figsize =(18, 6)) \n",
        "seaborn.kdeplot(data=melb_yb_final, x='YearBuilt', hue='Imputation', ax = ax1)\n",
        "seaborn.kdeplot(data=melb_ba_final, x='BuildingArea', hue='Imputation', ax = ax2) \n",
        "ax2.set_xlim([0, 600])\n",
        "plt.show()"
      ],
      "metadata": {
        "colab": {
          "base_uri": "https://localhost:8080/",
          "height": 410
        },
        "outputId": "bded0224-7c77-4128-fc21-e7c5c8d3a7bc",
        "id": "sYkyAFUTQmRC"
      },
      "execution_count": null,
      "outputs": [
        {
          "output_type": "display_data",
          "data": {
            "text/plain": [
              "<Figure size 1296x432 with 2 Axes>"
            ],
            "image/png": "[encoded data removed]"
          },
          "metadata": {
            "needs_background": "light"
          }
        }
      ]
    },
    {
      "cell_type": "markdown",
      "source": [
        "##Replicamos el procedimiento pero esta vez utilizamos el scalador \"MinMaxScaler\""
      ],
      "metadata": {
        "id": "wUct_qMHi29v"
      }
    },
    {
      "cell_type": "code",
      "source": [
        "scaler = preprocessing.MinMaxScaler()\n",
        "scaled_mm_df = scaler.fit_transform(melb_data_scaler)\n",
        "scaled_mm_df = pd.DataFrame(scaled_mm_df, columns=vec.get_feature_names())\n"
      ],
      "metadata": {
        "id": "ehQdcbe1Y6g6",
        "colab": {
          "base_uri": "https://localhost:8080/"
        },
        "outputId": "5c38739c-bcec-4b1e-8ab5-2e3d1ff8ac4b"
      },
      "execution_count": null,
      "outputs": [
        {
          "output_type": "stream",
          "name": "stderr",
          "text": [
            "/usr/local/lib/python3.7/dist-packages/sklearn/utils/deprecation.py:87: FutureWarning: Function get_feature_names is deprecated; get_feature_names is deprecated in 1.0 and will be removed in 1.2. Please use get_feature_names_out instead.\n",
            "  warnings.warn(msg, category=FutureWarning)\n"
          ]
        }
      ]
    },
    {
      "cell_type": "code",
      "source": [
        "imputer = IterativeImputer(random_state=0, estimator=KNeighborsRegressor(),n_nearest_features=5)\n",
        "values_mm = scaled_mm_df.values.copy()\n",
        "\n",
        "imputed_scaled_mm = imputer.fit_transform(values_mm)\n",
        "\n",
        "inv_imputer_mm = pd.DataFrame(scaler.inverse_transform(imputed_scaled_mm), columns=vec.get_feature_names())\n",
        "inv_imputer_mm['Imputation'] = 'KNN sobre MinMaxScaler'"
      ],
      "metadata": {
        "colab": {
          "base_uri": "https://localhost:8080/"
        },
        "outputId": "e9cbc4d5-1ba5-44fc-a034-cad693b15ba1",
        "id": "hWrU2HvnoQIA"
      },
      "execution_count": null,
      "outputs": [
        {
          "output_type": "stream",
          "name": "stderr",
          "text": [
            "/usr/local/lib/python3.7/dist-packages/sklearn/impute/_iterative.py:701: ConvergenceWarning: [IterativeImputer] Early stopping criterion not reached.\n",
            "  ConvergenceWarning,\n",
            "/usr/local/lib/python3.7/dist-packages/sklearn/utils/deprecation.py:87: FutureWarning: Function get_feature_names is deprecated; get_feature_names is deprecated in 1.0 and will be removed in 1.2. Please use get_feature_names_out instead.\n",
            "  warnings.warn(msg, category=FutureWarning)\n"
          ]
        }
      ]
    },
    {
      "cell_type": "code",
      "source": [
        "filtr_yb_mm = inv_imputer_mm.loc[:,['YearBuilt','Imputation']]\n",
        "filtr_ba_mm = inv_imputer_mm.loc[:,['BuildingArea', 'Imputation']]\n",
        "\n",
        "melb_yb_mm_final = pd.concat([data_yb,filtr_yb_mm])\n",
        "melb_yb_mm_final = melb_yb_mm_final.reset_index()\n",
        "melb_yb_mm_final.drop(['index'], axis=1, inplace=True)\n",
        "\n",
        "melb_ba_mm_final = pd.concat([data_ba,filtr_ba_mm])\n",
        "melb_ba_mm_final = melb_ba_mm_final.reset_index()\n",
        "melb_ba_mm_final.drop(['index'], axis=1, inplace=True)"
      ],
      "metadata": {
        "id": "2YnynLskpavM"
      },
      "execution_count": null,
      "outputs": []
    },
    {
      "cell_type": "code",
      "source": [
        "fig,(ax1, ax2) = plt.subplots(ncols = 2, figsize =(18, 6)) \n",
        "seaborn.kdeplot(data=melb_yb_mm_final, x='YearBuilt', hue='Imputation', ax = ax1)\n",
        "seaborn.kdeplot(data=melb_ba_mm_final, x='BuildingArea', hue='Imputation', ax = ax2) \n",
        "ax2.set_xlim([0, 600])\n",
        "plt.show()"
      ],
      "metadata": {
        "colab": {
          "base_uri": "https://localhost:8080/",
          "height": 410
        },
        "outputId": "57c4f22c-aa47-4289-c4e7-0faa19dab49f",
        "id": "yNo0pwNnqDfP"
      },
      "execution_count": null,
      "outputs": [
        {
          "output_type": "display_data",
          "data": {
            "text/plain": [
              "<Figure size 1296x432 with 2 Axes>"
            ],
            "image/png": "[encoded data removed]"
          },
          "metadata": {
            "needs_background": "light"
          }
        }
      ]
    },
    {
      "cell_type": "markdown",
      "source": [
        "##Al observar el grafico final concluimos que es necesario escalar el conjunto de datos antes de estimar valores faltantes. Tambien podemos concluir que no existen diferencias significativas al escalar utilizando los metodos StandardScaler y MinMaxScaler."
      ],
      "metadata": {
        "id": "xX9ke6hcq-B5"
      }
    },
    {
      "cell_type": "markdown",
      "metadata": {
        "id": "NBN7-5OIxjJW"
      },
      "source": [
        "## Ejercicio 3: Reducción de dimensionalidad.\n",
        "\n",
        "Utilizando la matriz obtenida en el ejercicio anterior:\n",
        "1. Aplique `PCA` para obtener $n$ componentes principales de la matriz, donde `n = min(20, X.shape[0])`. ¿Es necesario estandarizar o escalar los datos?\n",
        "2. Grafique la varianza capturada por los primeros $n$ componentes principales, para cada $n$.\n",
        "3. En base al gráfico, seleccione las primeras $m$ columnas de la matriz transformada para agregar como nuevas características al conjunto de datos."
      ]
    },
    {
      "cell_type": "markdown",
      "source": [
        "##1. Para aplicar PCA solo debemos tener en cuenta las variables numéricas continuas, es por ello que debemos filtrar nuestros conjunto de datos. También es necesario escalar nuestro conjunto de datos para evitar que unas variables tengan mayor peso que otras."
      ],
      "metadata": {
        "id": "nickN5pRsi4N"
      }
    },
    {
      "cell_type": "code",
      "source": [
        "# Eliminamos variables categoricas\n",
        "melb_df_filter=melb_df[melb_df.columns.difference(['Date','Suburb','Type', 'Postcode','CouncilArea', 'zipcode'])]\n",
        "melb_dict2 = list(melb_df_filter.T.to_dict().values())\n",
        "vec2 = DictVectorizer(sparse=False) \n",
        "melb_matrix2 = vec2.fit_transform(melb_dict2)\n",
        "\n",
        "# Encoding\n",
        "melb_df_encoded2 = pd.DataFrame(melb_matrix2, columns=vec2.get_feature_names())\n",
        "melb_df_encoded2.head(1)"
      ],
      "metadata": {
        "colab": {
          "base_uri": "https://localhost:8080/",
          "height": 135
        },
        "id": "-fuBz0IjtTRI",
        "outputId": "8d0d9659-9856-430f-b17c-7c5edfe2446b"
      },
      "execution_count": null,
      "outputs": [
        {
          "output_type": "stream",
          "name": "stderr",
          "text": [
            "/usr/local/lib/python3.7/dist-packages/sklearn/utils/deprecation.py:87: FutureWarning: Function get_feature_names is deprecated; get_feature_names is deprecated in 1.0 and will be removed in 1.2. Please use get_feature_names_out instead.\n",
            "  warnings.warn(msg, category=FutureWarning)\n"
          ]
        },
        {
          "output_type": "execute_result",
          "data": {
            "text/plain": [
              "   BuildingArea  Car  Landsize  Lattitude  Longtitude      Price  Rooms  \\\n",
              "0           NaN  1.0     202.0   -37.7996    144.9984  1480000.0    2.0   \n",
              "\n",
              "   YearBuilt  airbnb_price_max  airbnb_price_mean  airbnb_record_count  \n",
              "0        NaN             336.0         111.295547                247.0  "
            ],
            "text/html": [
              "\n",
              "  <div id=\"df-ff96118f-1e2b-4ce5-9c17-7bf1442dac74\">\n",
              "    <div class=\"colab-df-container\">\n",
              "      <div>\n",
              "<style scoped>\n",
              "    .dataframe tbody tr th:only-of-type {\n",
              "        vertical-align: middle;\n",
              "    }\n",
              "\n",
              "    .dataframe tbody tr th {\n",
              "        vertical-align: top;\n",
              "    }\n",
              "\n",
              "    .dataframe thead th {\n",
              "        text-align: right;\n",
              "    }\n",
              "</style>\n",
              "<table border=\"1\" class=\"dataframe\">\n",
              "  <thead>\n",
              "    <tr style=\"text-align: right;\">\n",
              "      <th></th>\n",
              "      <th>BuildingArea</th>\n",
              "      <th>Car</th>\n",
              "      <th>Landsize</th>\n",
              "      <th>Lattitude</th>\n",
              "      <th>Longtitude</th>\n",
              "      <th>Price</th>\n",
              "      <th>Rooms</th>\n",
              "      <th>YearBuilt</th>\n",
              "      <th>airbnb_price_max</th>\n",
              "      <th>airbnb_price_mean</th>\n",
              "      <th>airbnb_record_count</th>\n",
              "    </tr>\n",
              "  </thead>\n",
              "  <tbody>\n",
              "    <tr>\n",
              "      <th>0</th>\n",
              "      <td>NaN</td>\n",
              "      <td>1.0</td>\n",
              "      <td>202.0</td>\n",
              "      <td>-37.7996</td>\n",
              "      <td>144.9984</td>\n",
              "      <td>1480000.0</td>\n",
              "      <td>2.0</td>\n",
              "      <td>NaN</td>\n",
              "      <td>336.0</td>\n",
              "      <td>111.295547</td>\n",
              "      <td>247.0</td>\n",
              "    </tr>\n",
              "  </tbody>\n",
              "</table>\n",
              "</div>\n",
              "      <button class=\"colab-df-convert\" onclick=\"convertToInteractive('df-ff96118f-1e2b-4ce5-9c17-7bf1442dac74')\"\n",
              "              title=\"Convert this dataframe to an interactive table.\"\n",
              "              style=\"display:none;\">\n",
              "        \n",
              "  <svg xmlns=\"http://www.w3.org/2000/svg\" height=\"24px\"viewBox=\"0 0 24 24\"\n",
              "       width=\"24px\">\n",
              "    <path d=\"M0 0h24v24H0V0z\" fill=\"none\"/>\n",
              "    <path d=\"M18.56 5.44l.94 2.06.94-2.06 2.06-.94-2.06-.94-.94-2.06-.94 2.06-2.06.94zm-11 1L8.5 8.5l.94-2.06 2.06-.94-2.06-.94L8.5 2.5l-.94 2.06-2.06.94zm10 10l.94 2.06.94-2.06 2.06-.94-2.06-.94-.94-2.06-.94 2.06-2.06.94z\"/><path d=\"M17.41 7.96l-1.37-1.37c-.4-.4-.92-.59-1.43-.59-.52 0-1.04.2-1.43.59L10.3 9.45l-7.72 7.72c-.78.78-.78 2.05 0 2.83L4 21.41c.39.39.9.59 1.41.59.51 0 1.02-.2 1.41-.59l7.78-7.78 2.81-2.81c.8-.78.8-2.07 0-2.86zM5.41 20L4 18.59l7.72-7.72 1.47 1.35L5.41 20z\"/>\n",
              "  </svg>\n",
              "      </button>\n",
              "      \n",
              "  <style>\n",
              "    .colab-df-container {\n",
              "      display:flex;\n",
              "      flex-wrap:wrap;\n",
              "      gap: 12px;\n",
              "    }\n",
              "\n",
              "    .colab-df-convert {\n",
              "      background-color: #E8F0FE;\n",
              "      border: none;\n",
              "      border-radius: 50%;\n",
              "      cursor: pointer;\n",
              "      display: none;\n",
              "      fill: #1967D2;\n",
              "      height: 32px;\n",
              "      padding: 0 0 0 0;\n",
              "      width: 32px;\n",
              "    }\n",
              "\n",
              "    .colab-df-convert:hover {\n",
              "      background-color: #E2EBFA;\n",
              "      box-shadow: 0px 1px 2px rgba(60, 64, 67, 0.3), 0px 1px 3px 1px rgba(60, 64, 67, 0.15);\n",
              "      fill: #174EA6;\n",
              "    }\n",
              "\n",
              "    [theme=dark] .colab-df-convert {\n",
              "      background-color: #3B4455;\n",
              "      fill: #D2E3FC;\n",
              "    }\n",
              "\n",
              "    [theme=dark] .colab-df-convert:hover {\n",
              "      background-color: #434B5C;\n",
              "      box-shadow: 0px 1px 3px 1px rgba(0, 0, 0, 0.15);\n",
              "      filter: drop-shadow(0px 1px 2px rgba(0, 0, 0, 0.3));\n",
              "      fill: #FFFFFF;\n",
              "    }\n",
              "  </style>\n",
              "\n",
              "      <script>\n",
              "        const buttonEl =\n",
              "          document.querySelector('#df-ff96118f-1e2b-4ce5-9c17-7bf1442dac74 button.colab-df-convert');\n",
              "        buttonEl.style.display =\n",
              "          google.colab.kernel.accessAllowed ? 'block' : 'none';\n",
              "\n",
              "        async function convertToInteractive(key) {\n",
              "          const element = document.querySelector('#df-ff96118f-1e2b-4ce5-9c17-7bf1442dac74');\n",
              "          const dataTable =\n",
              "            await google.colab.kernel.invokeFunction('convertToInteractive',\n",
              "                                                     [key], {});\n",
              "          if (!dataTable) return;\n",
              "\n",
              "          const docLinkHtml = 'Like what you see? Visit the ' +\n",
              "            '<a target=\"_blank\" href=https://colab.research.google.com/notebooks/data_table.ipynb>data table notebook</a>'\n",
              "            + ' to learn more about interactive tables.';\n",
              "          element.innerHTML = '';\n",
              "          dataTable['output_type'] = 'display_data';\n",
              "          await google.colab.output.renderOutput(dataTable, element);\n",
              "          const docLink = document.createElement('div');\n",
              "          docLink.innerHTML = docLinkHtml;\n",
              "          element.appendChild(docLink);\n",
              "        }\n",
              "      </script>\n",
              "    </div>\n",
              "  </div>\n",
              "  "
            ]
          },
          "metadata": {},
          "execution_count": 20
        }
      ]
    },
    {
      "cell_type": "code",
      "source": [
        "# Escalamos\n",
        "scaler = preprocessing.RobustScaler()\n",
        "scaled_df2 = scaler.fit_transform(melb_df_encoded2)\n",
        "scaled_df2 = pd.DataFrame(scaled_df2, columns=vec2.get_feature_names())\n",
        "\n",
        "imputer = IterativeImputer(random_state=0, estimator=KNeighborsRegressor(),n_nearest_features=5)\n",
        "values = scaled_df2.values.copy()\n",
        "\n",
        "imputed_scaled2 = imputer.fit_transform(values)\n",
        "imputed_scaled_df2 = pd.DataFrame(imputed_scaled2, columns=vec2.get_feature_names())"
      ],
      "metadata": {
        "colab": {
          "base_uri": "https://localhost:8080/"
        },
        "id": "CXA4-fuax7fJ",
        "outputId": "eb23ca0a-c092-41ae-e7bd-7f40ec956c38"
      },
      "execution_count": null,
      "outputs": [
        {
          "output_type": "stream",
          "name": "stderr",
          "text": [
            "/usr/local/lib/python3.7/dist-packages/sklearn/utils/deprecation.py:87: FutureWarning: Function get_feature_names is deprecated; get_feature_names is deprecated in 1.0 and will be removed in 1.2. Please use get_feature_names_out instead.\n",
            "  warnings.warn(msg, category=FutureWarning)\n",
            "/usr/local/lib/python3.7/dist-packages/sklearn/impute/_iterative.py:701: ConvergenceWarning: [IterativeImputer] Early stopping criterion not reached.\n",
            "  ConvergenceWarning,\n",
            "/usr/local/lib/python3.7/dist-packages/sklearn/utils/deprecation.py:87: FutureWarning: Function get_feature_names is deprecated; get_feature_names is deprecated in 1.0 and will be removed in 1.2. Please use get_feature_names_out instead.\n",
            "  warnings.warn(msg, category=FutureWarning)\n"
          ]
        }
      ]
    },
    {
      "cell_type": "markdown",
      "source": [
        "##3.2 Aplicamos PCA y obtenemos la varianza capturada por los primeros $n$ componentes principales, para cada $n$"
      ],
      "metadata": {
        "id": "pG2EPagB3ze-"
      }
    },
    {
      "cell_type": "markdown",
      "source": [
        "###Decidimos estandarizar antes de aplicar PCA para evitar que alguna de las varaibles sea predominante."
      ],
      "metadata": {
        "id": "_GLbUohbCGqw"
      }
    },
    {
      "cell_type": "code",
      "source": [
        "from sklearn.decomposition import PCA\n",
        "from sklearn.pipeline import make_pipeline\n",
        "\n",
        "\n",
        "n = min(20, imputed_scaled_df2.shape[1])\n",
        "\n",
        "pipeline = make_pipeline(preprocessing.StandardScaler(),PCA(n_components=n)) # Aplicamos estandarizado\n",
        "pipeline.fit(imputed_scaled_df2)\n",
        "\n",
        "\n",
        "modelo = pipeline.named_steps['pca']"
      ],
      "metadata": {
        "id": "o4xVpcYoCCES"
      },
      "execution_count": null,
      "outputs": []
    },
    {
      "cell_type": "markdown",
      "source": [
        "### Construimos el data frame de la transformación por componentes principales PCA"
      ],
      "metadata": {
        "id": "w9S9XfHzGF3R"
      }
    },
    {
      "cell_type": "code",
      "source": [
        "pca = pd.DataFrame(\n",
        "    data    = modelo.components_,\n",
        "    columns = vec2.get_feature_names(),\n",
        "    index   = ['PC1', 'PC2', 'PC3', 'PC4','PC5', 'PC6', 'PC7', 'PC8','PC9', 'PC10', 'PC11']\n",
        ")\n",
        "pca"
      ],
      "metadata": {
        "colab": {
          "base_uri": "https://localhost:8080/",
          "height": 493
        },
        "id": "wWF0q53BGFB8",
        "outputId": "56e0a9c7-673e-4ad1-b22d-c6b815da65a2"
      },
      "execution_count": null,
      "outputs": [
        {
          "output_type": "stream",
          "name": "stderr",
          "text": [
            "/usr/local/lib/python3.7/dist-packages/sklearn/utils/deprecation.py:87: FutureWarning: Function get_feature_names is deprecated; get_feature_names is deprecated in 1.0 and will be removed in 1.2. Please use get_feature_names_out instead.\n",
            "  warnings.warn(msg, category=FutureWarning)\n"
          ]
        },
        {
          "output_type": "execute_result",
          "data": {
            "text/plain": [
              "      BuildingArea       Car  Landsize  Lattitude  Longtitude     Price  \\\n",
              "PC1       0.197365  0.313543  0.050625   0.293588   -0.029961 -0.034734   \n",
              "PC2       0.360094  0.255650  0.053707  -0.301021    0.277871  0.578034   \n",
              "PC3      -0.071726  0.310450  0.134361  -0.438621    0.459051 -0.253923   \n",
              "PC4       0.249194  0.311433  0.411930   0.216135   -0.532565 -0.048678   \n",
              "PC5      -0.156656 -0.181056  0.889063   0.031904    0.225762  0.048187   \n",
              "PC6       0.683798 -0.376054 -0.037884   0.091759    0.298831 -0.104989   \n",
              "PC7       0.426272 -0.355915  0.111606  -0.178342   -0.217823 -0.182539   \n",
              "PC8       0.124447  0.305293 -0.049034   0.643386    0.406694  0.008123   \n",
              "PC9       0.271713  0.481136  0.004512  -0.349544   -0.219980 -0.112711   \n",
              "PC10     -0.025974 -0.005534 -0.007461   0.079240   -0.077030  0.350736   \n",
              "PC11     -0.017840 -0.131776  0.003043  -0.020994   -0.141765  0.644495   \n",
              "\n",
              "         Rooms  YearBuilt  airbnb_price_max  airbnb_price_mean  \\\n",
              "PC1   0.337847   0.182473         -0.498532          -0.487595   \n",
              "PC2   0.421179  -0.222107          0.152003           0.202716   \n",
              "PC3  -0.128328   0.624655          0.011905           0.069452   \n",
              "PC4   0.145710   0.322868          0.255589           0.244884   \n",
              "PC5  -0.095059  -0.247493         -0.112739          -0.121878   \n",
              "PC6  -0.056546   0.107689         -0.153955          -0.128351   \n",
              "PC7  -0.156841   0.067897          0.127484           0.191290   \n",
              "PC8  -0.380689  -0.083661          0.300177           0.158367   \n",
              "PC9  -0.515409  -0.411976         -0.135614          -0.218120   \n",
              "PC10 -0.290183   0.148416         -0.673530           0.551455   \n",
              "PC11 -0.373039   0.383046          0.219293          -0.460093   \n",
              "\n",
              "      airbnb_record_count  \n",
              "PC1             -0.371695  \n",
              "PC2             -0.096017  \n",
              "PC3             -0.034690  \n",
              "PC4              0.296221  \n",
              "PC5             -0.009132  \n",
              "PC6              0.475242  \n",
              "PC7             -0.696085  \n",
              "PC8             -0.205874  \n",
              "PC9              0.100225  \n",
              "PC10             0.005606  \n",
              "PC11            -0.027189  "
            ],
            "text/html": [
              "\n",
              "  <div id=\"df-62958b5c-da84-4ce9-88bd-fb49a59eaf98\">\n",
              "    <div class=\"colab-df-container\">\n",
              "      <div>\n",
              "<style scoped>\n",
              "    .dataframe tbody tr th:only-of-type {\n",
              "        vertical-align: middle;\n",
              "    }\n",
              "\n",
              "    .dataframe tbody tr th {\n",
              "        vertical-align: top;\n",
              "    }\n",
              "\n",
              "    .dataframe thead th {\n",
              "        text-align: right;\n",
              "    }\n",
              "</style>\n",
              "<table border=\"1\" class=\"dataframe\">\n",
              "  <thead>\n",
              "    <tr style=\"text-align: right;\">\n",
              "      <th></th>\n",
              "      <th>BuildingArea</th>\n",
              "      <th>Car</th>\n",
              "      <th>Landsize</th>\n",
              "      <th>Lattitude</th>\n",
              "      <th>Longtitude</th>\n",
              "      <th>Price</th>\n",
              "      <th>Rooms</th>\n",
              "      <th>YearBuilt</th>\n",
              "      <th>airbnb_price_max</th>\n",
              "      <th>airbnb_price_mean</th>\n",
              "      <th>airbnb_record_count</th>\n",
              "    </tr>\n",
              "  </thead>\n",
              "  <tbody>\n",
              "    <tr>\n",
              "      <th>PC1</th>\n",
              "      <td>0.197365</td>\n",
              "      <td>0.313543</td>\n",
              "      <td>0.050625</td>\n",
              "      <td>0.293588</td>\n",
              "      <td>-0.029961</td>\n",
              "      <td>-0.034734</td>\n",
              "      <td>0.337847</td>\n",
              "      <td>0.182473</td>\n",
              "      <td>-0.498532</td>\n",
              "      <td>-0.487595</td>\n",
              "      <td>-0.371695</td>\n",
              "    </tr>\n",
              "    <tr>\n",
              "      <th>PC2</th>\n",
              "      <td>0.360094</td>\n",
              "      <td>0.255650</td>\n",
              "      <td>0.053707</td>\n",
              "      <td>-0.301021</td>\n",
              "      <td>0.277871</td>\n",
              "      <td>0.578034</td>\n",
              "      <td>0.421179</td>\n",
              "      <td>-0.222107</td>\n",
              "      <td>0.152003</td>\n",
              "      <td>0.202716</td>\n",
              "      <td>-0.096017</td>\n",
              "    </tr>\n",
              "    <tr>\n",
              "      <th>PC3</th>\n",
              "      <td>-0.071726</td>\n",
              "      <td>0.310450</td>\n",
              "      <td>0.134361</td>\n",
              "      <td>-0.438621</td>\n",
              "      <td>0.459051</td>\n",
              "      <td>-0.253923</td>\n",
              "      <td>-0.128328</td>\n",
              "      <td>0.624655</td>\n",
              "      <td>0.011905</td>\n",
              "      <td>0.069452</td>\n",
              "      <td>-0.034690</td>\n",
              "    </tr>\n",
              "    <tr>\n",
              "      <th>PC4</th>\n",
              "      <td>0.249194</td>\n",
              "      <td>0.311433</td>\n",
              "      <td>0.411930</td>\n",
              "      <td>0.216135</td>\n",
              "      <td>-0.532565</td>\n",
              "      <td>-0.048678</td>\n",
              "      <td>0.145710</td>\n",
              "      <td>0.322868</td>\n",
              "      <td>0.255589</td>\n",
              "      <td>0.244884</td>\n",
              "      <td>0.296221</td>\n",
              "    </tr>\n",
              "    <tr>\n",
              "      <th>PC5</th>\n",
              "      <td>-0.156656</td>\n",
              "      <td>-0.181056</td>\n",
              "      <td>0.889063</td>\n",
              "      <td>0.031904</td>\n",
              "      <td>0.225762</td>\n",
              "      <td>0.048187</td>\n",
              "      <td>-0.095059</td>\n",
              "      <td>-0.247493</td>\n",
              "      <td>-0.112739</td>\n",
              "      <td>-0.121878</td>\n",
              "      <td>-0.009132</td>\n",
              "    </tr>\n",
              "    <tr>\n",
              "      <th>PC6</th>\n",
              "      <td>0.683798</td>\n",
              "      <td>-0.376054</td>\n",
              "      <td>-0.037884</td>\n",
              "      <td>0.091759</td>\n",
              "      <td>0.298831</td>\n",
              "      <td>-0.104989</td>\n",
              "      <td>-0.056546</td>\n",
              "      <td>0.107689</td>\n",
              "      <td>-0.153955</td>\n",
              "      <td>-0.128351</td>\n",
              "      <td>0.475242</td>\n",
              "    </tr>\n",
              "    <tr>\n",
              "      <th>PC7</th>\n",
              "      <td>0.426272</td>\n",
              "      <td>-0.355915</td>\n",
              "      <td>0.111606</td>\n",
              "      <td>-0.178342</td>\n",
              "      <td>-0.217823</td>\n",
              "      <td>-0.182539</td>\n",
              "      <td>-0.156841</td>\n",
              "      <td>0.067897</td>\n",
              "      <td>0.127484</td>\n",
              "      <td>0.191290</td>\n",
              "      <td>-0.696085</td>\n",
              "    </tr>\n",
              "    <tr>\n",
              "      <th>PC8</th>\n",
              "      <td>0.124447</td>\n",
              "      <td>0.305293</td>\n",
              "      <td>-0.049034</td>\n",
              "      <td>0.643386</td>\n",
              "      <td>0.406694</td>\n",
              "      <td>0.008123</td>\n",
              "      <td>-0.380689</td>\n",
              "      <td>-0.083661</td>\n",
              "      <td>0.300177</td>\n",
              "      <td>0.158367</td>\n",
              "      <td>-0.205874</td>\n",
              "    </tr>\n",
              "    <tr>\n",
              "      <th>PC9</th>\n",
              "      <td>0.271713</td>\n",
              "      <td>0.481136</td>\n",
              "      <td>0.004512</td>\n",
              "      <td>-0.349544</td>\n",
              "      <td>-0.219980</td>\n",
              "      <td>-0.112711</td>\n",
              "      <td>-0.515409</td>\n",
              "      <td>-0.411976</td>\n",
              "      <td>-0.135614</td>\n",
              "      <td>-0.218120</td>\n",
              "      <td>0.100225</td>\n",
              "    </tr>\n",
              "    <tr>\n",
              "      <th>PC10</th>\n",
              "      <td>-0.025974</td>\n",
              "      <td>-0.005534</td>\n",
              "      <td>-0.007461</td>\n",
              "      <td>0.079240</td>\n",
              "      <td>-0.077030</td>\n",
              "      <td>0.350736</td>\n",
              "      <td>-0.290183</td>\n",
              "      <td>0.148416</td>\n",
              "      <td>-0.673530</td>\n",
              "      <td>0.551455</td>\n",
              "      <td>0.005606</td>\n",
              "    </tr>\n",
              "    <tr>\n",
              "      <th>PC11</th>\n",
              "      <td>-0.017840</td>\n",
              "      <td>-0.131776</td>\n",
              "      <td>0.003043</td>\n",
              "      <td>-0.020994</td>\n",
              "      <td>-0.141765</td>\n",
              "      <td>0.644495</td>\n",
              "      <td>-0.373039</td>\n",
              "      <td>0.383046</td>\n",
              "      <td>0.219293</td>\n",
              "      <td>-0.460093</td>\n",
              "      <td>-0.027189</td>\n",
              "    </tr>\n",
              "  </tbody>\n",
              "</table>\n",
              "</div>\n",
              "      <button class=\"colab-df-convert\" onclick=\"convertToInteractive('df-62958b5c-da84-4ce9-88bd-fb49a59eaf98')\"\n",
              "              title=\"Convert this dataframe to an interactive table.\"\n",
              "              style=\"display:none;\">\n",
              "        \n",
              "  <svg xmlns=\"http://www.w3.org/2000/svg\" height=\"24px\"viewBox=\"0 0 24 24\"\n",
              "       width=\"24px\">\n",
              "    <path d=\"M0 0h24v24H0V0z\" fill=\"none\"/>\n",
              "    <path d=\"M18.56 5.44l.94 2.06.94-2.06 2.06-.94-2.06-.94-.94-2.06-.94 2.06-2.06.94zm-11 1L8.5 8.5l.94-2.06 2.06-.94-2.06-.94L8.5 2.5l-.94 2.06-2.06.94zm10 10l.94 2.06.94-2.06 2.06-.94-2.06-.94-.94-2.06-.94 2.06-2.06.94z\"/><path d=\"M17.41 7.96l-1.37-1.37c-.4-.4-.92-.59-1.43-.59-.52 0-1.04.2-1.43.59L10.3 9.45l-7.72 7.72c-.78.78-.78 2.05 0 2.83L4 21.41c.39.39.9.59 1.41.59.51 0 1.02-.2 1.41-.59l7.78-7.78 2.81-2.81c.8-.78.8-2.07 0-2.86zM5.41 20L4 18.59l7.72-7.72 1.47 1.35L5.41 20z\"/>\n",
              "  </svg>\n",
              "      </button>\n",
              "      \n",
              "  <style>\n",
              "    .colab-df-container {\n",
              "      display:flex;\n",
              "      flex-wrap:wrap;\n",
              "      gap: 12px;\n",
              "    }\n",
              "\n",
              "    .colab-df-convert {\n",
              "      background-color: #E8F0FE;\n",
              "      border: none;\n",
              "      border-radius: 50%;\n",
              "      cursor: pointer;\n",
              "      display: none;\n",
              "      fill: #1967D2;\n",
              "      height: 32px;\n",
              "      padding: 0 0 0 0;\n",
              "      width: 32px;\n",
              "    }\n",
              "\n",
              "    .colab-df-convert:hover {\n",
              "      background-color: #E2EBFA;\n",
              "      box-shadow: 0px 1px 2px rgba(60, 64, 67, 0.3), 0px 1px 3px 1px rgba(60, 64, 67, 0.15);\n",
              "      fill: #174EA6;\n",
              "    }\n",
              "\n",
              "    [theme=dark] .colab-df-convert {\n",
              "      background-color: #3B4455;\n",
              "      fill: #D2E3FC;\n",
              "    }\n",
              "\n",
              "    [theme=dark] .colab-df-convert:hover {\n",
              "      background-color: #434B5C;\n",
              "      box-shadow: 0px 1px 3px 1px rgba(0, 0, 0, 0.15);\n",
              "      filter: drop-shadow(0px 1px 2px rgba(0, 0, 0, 0.3));\n",
              "      fill: #FFFFFF;\n",
              "    }\n",
              "  </style>\n",
              "\n",
              "      <script>\n",
              "        const buttonEl =\n",
              "          document.querySelector('#df-62958b5c-da84-4ce9-88bd-fb49a59eaf98 button.colab-df-convert');\n",
              "        buttonEl.style.display =\n",
              "          google.colab.kernel.accessAllowed ? 'block' : 'none';\n",
              "\n",
              "        async function convertToInteractive(key) {\n",
              "          const element = document.querySelector('#df-62958b5c-da84-4ce9-88bd-fb49a59eaf98');\n",
              "          const dataTable =\n",
              "            await google.colab.kernel.invokeFunction('convertToInteractive',\n",
              "                                                     [key], {});\n",
              "          if (!dataTable) return;\n",
              "\n",
              "          const docLinkHtml = 'Like what you see? Visit the ' +\n",
              "            '<a target=\"_blank\" href=https://colab.research.google.com/notebooks/data_table.ipynb>data table notebook</a>'\n",
              "            + ' to learn more about interactive tables.';\n",
              "          element.innerHTML = '';\n",
              "          dataTable['output_type'] = 'display_data';\n",
              "          await google.colab.output.renderOutput(dataTable, element);\n",
              "          const docLink = document.createElement('div');\n",
              "          docLink.innerHTML = docLinkHtml;\n",
              "          element.appendChild(docLink);\n",
              "        }\n",
              "      </script>\n",
              "    </div>\n",
              "  </div>\n",
              "  "
            ]
          },
          "metadata": {},
          "execution_count": 23
        }
      ]
    },
    {
      "cell_type": "markdown",
      "source": [
        "##Luego de entrenar el modelo, reducimos la dimensionalidad de las nuevas observaciones."
      ],
      "metadata": {
        "id": "o3SuQjDWjQVA"
      }
    },
    {
      "cell_type": "code",
      "source": [
        "proyecciones = pipeline.transform(X=imputed_scaled_df2)\n",
        "proyecciones = pd.DataFrame(\n",
        "    proyecciones,\n",
        "    columns = ['PC1', 'PC2', 'PC3', 'PC4','PC5', 'PC6', 'PC7', 'PC8','PC9', 'PC10', 'PC11'],\n",
        "    index   = imputed_scaled_df2.index\n",
        ")\n",
        "print('Shape')\n",
        "print(proyecciones.shape)\n",
        "print('Muestra')\n",
        "proyecciones.head()"
      ],
      "metadata": {
        "colab": {
          "base_uri": "https://localhost:8080/",
          "height": 258
        },
        "id": "5LH0vaR5IkBs",
        "outputId": "b5a4fe1e-dff7-4e58-e487-5bd4b5335373"
      },
      "execution_count": null,
      "outputs": [
        {
          "output_type": "stream",
          "name": "stdout",
          "text": [
            "Shape\n",
            "(11708, 11)\n",
            "Muestra\n"
          ]
        },
        {
          "output_type": "execute_result",
          "data": {
            "text/plain": [
              "        PC1       PC2       PC3       PC4       PC5       PC6       PC7  \\\n",
              "0 -1.540370  0.517192 -1.292155 -0.615745  0.358159 -0.109445 -0.131798   \n",
              "1 -2.131544 -0.421643 -1.743978 -1.258501  0.699559  0.216735  0.401183   \n",
              "2 -1.614599  0.935044 -2.196977 -0.971044  0.511318  0.502927  0.308008   \n",
              "3 -0.635051 -0.508869  0.554571  0.401898 -0.503732  0.056123 -0.020062   \n",
              "4  0.302467  1.541959  0.603908  1.177966 -0.959368 -0.318955 -0.735291   \n",
              "\n",
              "        PC8       PC9      PC10      PC11  \n",
              "0  0.620328  0.426278  0.222398  0.630413  \n",
              "1  0.104496  0.046991 -0.205678 -0.037692  \n",
              "2 -0.289253 -0.526994 -0.240013  0.123550  \n",
              "3 -0.108215 -1.232698 -0.252460  0.234452  \n",
              "4 -0.203250 -1.345886  0.013750  0.832977  "
            ],
            "text/html": [
              "\n",
              "  <div id=\"df-3d8f9221-1459-4c75-9871-007f30078015\">\n",
              "    <div class=\"colab-df-container\">\n",
              "      <div>\n",
              "<style scoped>\n",
              "    .dataframe tbody tr th:only-of-type {\n",
              "        vertical-align: middle;\n",
              "    }\n",
              "\n",
              "    .dataframe tbody tr th {\n",
              "        vertical-align: top;\n",
              "    }\n",
              "\n",
              "    .dataframe thead th {\n",
              "        text-align: right;\n",
              "    }\n",
              "</style>\n",
              "<table border=\"1\" class=\"dataframe\">\n",
              "  <thead>\n",
              "    <tr style=\"text-align: right;\">\n",
              "      <th></th>\n",
              "      <th>PC1</th>\n",
              "      <th>PC2</th>\n",
              "      <th>PC3</th>\n",
              "      <th>PC4</th>\n",
              "      <th>PC5</th>\n",
              "      <th>PC6</th>\n",
              "      <th>PC7</th>\n",
              "      <th>PC8</th>\n",
              "      <th>PC9</th>\n",
              "      <th>PC10</th>\n",
              "      <th>PC11</th>\n",
              "    </tr>\n",
              "  </thead>\n",
              "  <tbody>\n",
              "    <tr>\n",
              "      <th>0</th>\n",
              "      <td>-1.540370</td>\n",
              "      <td>0.517192</td>\n",
              "      <td>-1.292155</td>\n",
              "      <td>-0.615745</td>\n",
              "      <td>0.358159</td>\n",
              "      <td>-0.109445</td>\n",
              "      <td>-0.131798</td>\n",
              "      <td>0.620328</td>\n",
              "      <td>0.426278</td>\n",
              "      <td>0.222398</td>\n",
              "      <td>0.630413</td>\n",
              "    </tr>\n",
              "    <tr>\n",
              "      <th>1</th>\n",
              "      <td>-2.131544</td>\n",
              "      <td>-0.421643</td>\n",
              "      <td>-1.743978</td>\n",
              "      <td>-1.258501</td>\n",
              "      <td>0.699559</td>\n",
              "      <td>0.216735</td>\n",
              "      <td>0.401183</td>\n",
              "      <td>0.104496</td>\n",
              "      <td>0.046991</td>\n",
              "      <td>-0.205678</td>\n",
              "      <td>-0.037692</td>\n",
              "    </tr>\n",
              "    <tr>\n",
              "      <th>2</th>\n",
              "      <td>-1.614599</td>\n",
              "      <td>0.935044</td>\n",
              "      <td>-2.196977</td>\n",
              "      <td>-0.971044</td>\n",
              "      <td>0.511318</td>\n",
              "      <td>0.502927</td>\n",
              "      <td>0.308008</td>\n",
              "      <td>-0.289253</td>\n",
              "      <td>-0.526994</td>\n",
              "      <td>-0.240013</td>\n",
              "      <td>0.123550</td>\n",
              "    </tr>\n",
              "    <tr>\n",
              "      <th>3</th>\n",
              "      <td>-0.635051</td>\n",
              "      <td>-0.508869</td>\n",
              "      <td>0.554571</td>\n",
              "      <td>0.401898</td>\n",
              "      <td>-0.503732</td>\n",
              "      <td>0.056123</td>\n",
              "      <td>-0.020062</td>\n",
              "      <td>-0.108215</td>\n",
              "      <td>-1.232698</td>\n",
              "      <td>-0.252460</td>\n",
              "      <td>0.234452</td>\n",
              "    </tr>\n",
              "    <tr>\n",
              "      <th>4</th>\n",
              "      <td>0.302467</td>\n",
              "      <td>1.541959</td>\n",
              "      <td>0.603908</td>\n",
              "      <td>1.177966</td>\n",
              "      <td>-0.959368</td>\n",
              "      <td>-0.318955</td>\n",
              "      <td>-0.735291</td>\n",
              "      <td>-0.203250</td>\n",
              "      <td>-1.345886</td>\n",
              "      <td>0.013750</td>\n",
              "      <td>0.832977</td>\n",
              "    </tr>\n",
              "  </tbody>\n",
              "</table>\n",
              "</div>\n",
              "      <button class=\"colab-df-convert\" onclick=\"convertToInteractive('df-3d8f9221-1459-4c75-9871-007f30078015')\"\n",
              "              title=\"Convert this dataframe to an interactive table.\"\n",
              "              style=\"display:none;\">\n",
              "        \n",
              "  <svg xmlns=\"http://www.w3.org/2000/svg\" height=\"24px\"viewBox=\"0 0 24 24\"\n",
              "       width=\"24px\">\n",
              "    <path d=\"M0 0h24v24H0V0z\" fill=\"none\"/>\n",
              "    <path d=\"M18.56 5.44l.94 2.06.94-2.06 2.06-.94-2.06-.94-.94-2.06-.94 2.06-2.06.94zm-11 1L8.5 8.5l.94-2.06 2.06-.94-2.06-.94L8.5 2.5l-.94 2.06-2.06.94zm10 10l.94 2.06.94-2.06 2.06-.94-2.06-.94-.94-2.06-.94 2.06-2.06.94z\"/><path d=\"M17.41 7.96l-1.37-1.37c-.4-.4-.92-.59-1.43-.59-.52 0-1.04.2-1.43.59L10.3 9.45l-7.72 7.72c-.78.78-.78 2.05 0 2.83L4 21.41c.39.39.9.59 1.41.59.51 0 1.02-.2 1.41-.59l7.78-7.78 2.81-2.81c.8-.78.8-2.07 0-2.86zM5.41 20L4 18.59l7.72-7.72 1.47 1.35L5.41 20z\"/>\n",
              "  </svg>\n",
              "      </button>\n",
              "      \n",
              "  <style>\n",
              "    .colab-df-container {\n",
              "      display:flex;\n",
              "      flex-wrap:wrap;\n",
              "      gap: 12px;\n",
              "    }\n",
              "\n",
              "    .colab-df-convert {\n",
              "      background-color: #E8F0FE;\n",
              "      border: none;\n",
              "      border-radius: 50%;\n",
              "      cursor: pointer;\n",
              "      display: none;\n",
              "      fill: #1967D2;\n",
              "      height: 32px;\n",
              "      padding: 0 0 0 0;\n",
              "      width: 32px;\n",
              "    }\n",
              "\n",
              "    .colab-df-convert:hover {\n",
              "      background-color: #E2EBFA;\n",
              "      box-shadow: 0px 1px 2px rgba(60, 64, 67, 0.3), 0px 1px 3px 1px rgba(60, 64, 67, 0.15);\n",
              "      fill: #174EA6;\n",
              "    }\n",
              "\n",
              "    [theme=dark] .colab-df-convert {\n",
              "      background-color: #3B4455;\n",
              "      fill: #D2E3FC;\n",
              "    }\n",
              "\n",
              "    [theme=dark] .colab-df-convert:hover {\n",
              "      background-color: #434B5C;\n",
              "      box-shadow: 0px 1px 3px 1px rgba(0, 0, 0, 0.15);\n",
              "      filter: drop-shadow(0px 1px 2px rgba(0, 0, 0, 0.3));\n",
              "      fill: #FFFFFF;\n",
              "    }\n",
              "  </style>\n",
              "\n",
              "      <script>\n",
              "        const buttonEl =\n",
              "          document.querySelector('#df-3d8f9221-1459-4c75-9871-007f30078015 button.colab-df-convert');\n",
              "        buttonEl.style.display =\n",
              "          google.colab.kernel.accessAllowed ? 'block' : 'none';\n",
              "\n",
              "        async function convertToInteractive(key) {\n",
              "          const element = document.querySelector('#df-3d8f9221-1459-4c75-9871-007f30078015');\n",
              "          const dataTable =\n",
              "            await google.colab.kernel.invokeFunction('convertToInteractive',\n",
              "                                                     [key], {});\n",
              "          if (!dataTable) return;\n",
              "\n",
              "          const docLinkHtml = 'Like what you see? Visit the ' +\n",
              "            '<a target=\"_blank\" href=https://colab.research.google.com/notebooks/data_table.ipynb>data table notebook</a>'\n",
              "            + ' to learn more about interactive tables.';\n",
              "          element.innerHTML = '';\n",
              "          dataTable['output_type'] = 'display_data';\n",
              "          await google.colab.output.renderOutput(dataTable, element);\n",
              "          const docLink = document.createElement('div');\n",
              "          docLink.innerHTML = docLinkHtml;\n",
              "          element.appendChild(docLink);\n",
              "        }\n",
              "      </script>\n",
              "    </div>\n",
              "  </div>\n",
              "  "
            ]
          },
          "metadata": {},
          "execution_count": 24
        }
      ]
    },
    {
      "cell_type": "markdown",
      "source": [
        "## Analizamos a la primera componente PC1, y observamos que los pesos asignados a las variables: BuildingArea, Car y Rooms son muy similares y superiores al asignado al resto."
      ],
      "metadata": {
        "id": "Hq-JJNdknARk"
      }
    },
    {
      "cell_type": "markdown",
      "source": [
        "##3.3 Porcentaje de varianza por componente"
      ],
      "metadata": {
        "id": "S-ctTgs8oflD"
      }
    },
    {
      "cell_type": "code",
      "source": [
        "print(modelo.explained_variance_ratio_)"
      ],
      "metadata": {
        "colab": {
          "base_uri": "https://localhost:8080/"
        },
        "id": "glZPPbFKokZN",
        "outputId": "e7992911-1a0f-41bf-f6dd-4f63fb492218"
      },
      "execution_count": null,
      "outputs": [
        {
          "output_type": "stream",
          "name": "stdout",
          "text": [
            "[0.22508023 0.19268795 0.11565023 0.09572767 0.08909963 0.07011453\n",
            " 0.06447983 0.04618111 0.04313712 0.0312382  0.0266035 ]\n"
          ]
        }
      ]
    },
    {
      "cell_type": "markdown",
      "source": [
        "##Luego calculamos la varianza de cada componente respecto de la total y comparamos.\n"
      ],
      "metadata": {
        "id": "G0I6vg2ApTcj"
      }
    },
    {
      "cell_type": "code",
      "source": [
        "fig, ax = plt.subplots(nrows=1, ncols=1, figsize=(9, 6))\n",
        "ax.bar(\n",
        "    x      = numpy.arange(modelo.n_components_) + 1,\n",
        "    height = modelo.explained_variance_ratio_\n",
        ")\n",
        "\n",
        "for x, y in zip(numpy.arange(len(scaled_df2.columns)) + 1, modelo.explained_variance_ratio_):\n",
        "    label = round(y, 2)\n",
        "    ax.annotate(\n",
        "        label,\n",
        "        (x,y),\n",
        "        textcoords=\"offset points\",\n",
        "        xytext=(0,10),\n",
        "        ha='center'\n",
        "    )\n",
        "\n",
        "ax.set_xticks(numpy.arange(modelo.n_components_) + 1)\n",
        "ax.set_ylim(0, .25)\n",
        "ax.set_title('Porcentaje de varianza explicada por cada componente')\n",
        "ax.set_xlabel('Componente Principal')\n",
        "ax.set_ylabel('Porcentaje varianza');"
      ],
      "metadata": {
        "colab": {
          "base_uri": "https://localhost:8080/",
          "height": 430
        },
        "id": "KvIhnaZJpT4h",
        "outputId": "4ca82cf0-12ea-4363-f7df-7f624248c7ec"
      },
      "execution_count": null,
      "outputs": [
        {
          "output_type": "display_data",
          "data": {
            "text/plain": [
              "<Figure size 648x432 with 1 Axes>"
            ],
            "image/png": "[encoded data removed]"
          },
          "metadata": {
            "needs_background": "light"
          }
        }
      ]
    },
    {
      "cell_type": "markdown",
      "source": [
        "## Podemos observar que la primera componente explica el 23% de la varianza observada, la segunda el 19% y la tercera el 12%.\n"
      ],
      "metadata": {
        "id": "jylwdgBuzEZp"
      }
    },
    {
      "cell_type": "markdown",
      "metadata": {
        "id": "WrZTYmG_ZyDy"
      },
      "source": [
        "## Ejercicio 4: Composición del resultado\n",
        "\n",
        "Transformar nuevamente el conjunto de datos procesado en un `pandas.DataFrame` y guardarlo en un archivo.\n",
        "\n",
        "Para eso, será necesario recordar el nombre original de cada columna de la matriz, en el orden correcto. Tener en cuenta:\n",
        "1. El método `OneHotEncoder.get_feature_names` o el atributo `OneHotEncoder.categories_` permiten obtener una lista con los valores de la categoría que le corresponde a cada índice de la matriz.\n",
        "2. Ninguno de los métodos aplicados intercambia de lugar las columnas o las filas de la matriz."
      ]
    },
    {
      "cell_type": "code",
      "execution_count": null,
      "metadata": {
        "id": "DfchYPgTxvQ4"
      },
      "outputs": [],
      "source": [
        "from sklearn.decomposition import PCA\n",
        "from sklearn.preprocessing import OneHotEncoder\n",
        "\n",
        "melb_df = pd.read_csv(\n",
        "    'https://github.com/chino1504/diplodatos/blob/main/EyCD/melb_df_final.csv?raw=true')\n",
        "categorical_cols = ['Type', 'Suburb']\n",
        "numerical_cols = melb_df.select_dtypes(include=['float64','int64']).columns\n",
        "new_columns = []\n"
      ]
    },
    {
      "cell_type": "markdown",
      "source": [
        "### Aplicamos el encoding a las columnas categoricas\n",
        "\n",
        "\n",
        "\n",
        "\n",
        "\n"
      ],
      "metadata": {
        "id": "z8nZGYNc4Ief"
      }
    },
    {
      "cell_type": "code",
      "source": [
        "encoder = OneHotEncoder(handle_unknown='ignore', sparse=False)\n",
        "X_cat = encoder.fit_transform(melb_df[categorical_cols])\n",
        "for col, col_values in zip(categorical_cols, encoder.categories_):\n",
        "  for col_value in col_values:\n",
        "    new_columns.append('{}={}'.format(col, col_value))\n",
        "print(\"Matrix has shape {}, with columns: {}\".format(X_cat.shape, new_columns))\n"
      ],
      "metadata": {
        "colab": {
          "base_uri": "https://localhost:8080/"
        },
        "id": "Susk_YQ-4IA_",
        "outputId": "347a13ea-1b75-45bc-e0df-dcb2e8e89bcf"
      },
      "execution_count": null,
      "outputs": [
        {
          "output_type": "stream",
          "name": "stdout",
          "text": [
            "Matrix has shape (11708, 312), with columns: ['Type=h', 'Type=t', 'Type=u', 'Suburb=Abbotsford', 'Suburb=Aberfeldie', 'Suburb=Airport West', 'Suburb=Albanvale', 'Suburb=Albert Park', 'Suburb=Albion', 'Suburb=Alphington', 'Suburb=Altona', 'Suburb=Altona Meadows', 'Suburb=Altona North', 'Suburb=Ardeer', 'Suburb=Armadale', 'Suburb=Ascot Vale', 'Suburb=Ashburton', 'Suburb=Ashwood', 'Suburb=Aspendale', 'Suburb=Aspendale Gardens', 'Suburb=Attwood', 'Suburb=Avondale Heights', 'Suburb=Balaclava', 'Suburb=Balwyn', 'Suburb=Balwyn North', 'Suburb=Bayswater', 'Suburb=Bayswater North', 'Suburb=Beaconsfield', 'Suburb=Beaconsfield Upper', 'Suburb=Beaumaris', 'Suburb=Bellfield', 'Suburb=Bentleigh', 'Suburb=Bentleigh East', 'Suburb=Berwick', 'Suburb=Black Rock', 'Suburb=Blackburn', 'Suburb=Blackburn North', 'Suburb=Blackburn South', 'Suburb=Bonbeach', 'Suburb=Boronia', 'Suburb=Box Hill', 'Suburb=Braybrook', 'Suburb=Briar Hill', 'Suburb=Brighton', 'Suburb=Brighton East', 'Suburb=Broadmeadows', 'Suburb=Brookfield', 'Suburb=Brooklyn', 'Suburb=Brunswick', 'Suburb=Brunswick East', 'Suburb=Brunswick West', 'Suburb=Bulleen', 'Suburb=Bullengarook', 'Suburb=Bundoora', 'Suburb=Burnley', 'Suburb=Burnside', 'Suburb=Burnside Heights', 'Suburb=Burwood', 'Suburb=Burwood East', 'Suburb=Cairnlea', 'Suburb=Camberwell', 'Suburb=Campbellfield', 'Suburb=Canterbury', 'Suburb=Carlton', 'Suburb=Carlton North', 'Suburb=Carnegie', 'Suburb=Caroline Springs', 'Suburb=Carrum', 'Suburb=Carrum Downs', 'Suburb=Caulfield', 'Suburb=Caulfield East', 'Suburb=Caulfield North', 'Suburb=Caulfield South', 'Suburb=Chadstone', 'Suburb=Chelsea', 'Suburb=Chelsea Heights', 'Suburb=Cheltenham', 'Suburb=Chirnside Park', 'Suburb=Clarinda', 'Suburb=Clayton', 'Suburb=Clayton South', 'Suburb=Clifton Hill', 'Suburb=Coburg', 'Suburb=Coburg North', 'Suburb=Collingwood', 'Suburb=Coolaroo', 'Suburb=Craigieburn', 'Suburb=Cranbourne', 'Suburb=Cranbourne North', 'Suburb=Cremorne', 'Suburb=Croydon', 'Suburb=Croydon Hills', 'Suburb=Croydon North', 'Suburb=Croydon South', 'Suburb=Dallas', 'Suburb=Dandenong', 'Suburb=Dandenong North', 'Suburb=Deepdene', 'Suburb=Deer Park', 'Suburb=Delahey', 'Suburb=Derrimut', 'Suburb=Diamond Creek', 'Suburb=Diggers Rest', 'Suburb=Dingley Village', 'Suburb=Docklands', 'Suburb=Doncaster', 'Suburb=Doncaster East', 'Suburb=Donvale', 'Suburb=Doreen', 'Suburb=Doveton', 'Suburb=Eaglemont', 'Suburb=East Melbourne', 'Suburb=Edithvale', 'Suburb=Elsternwick', 'Suburb=Eltham', 'Suburb=Eltham North', 'Suburb=Elwood', 'Suburb=Emerald', 'Suburb=Endeavour Hills', 'Suburb=Epping', 'Suburb=Essendon', 'Suburb=Essendon North', 'Suburb=Essendon West', 'Suburb=Fairfield', 'Suburb=Fawkner', 'Suburb=Ferntree Gully', 'Suburb=Fitzroy', 'Suburb=Fitzroy North', 'Suburb=Flemington', 'Suburb=Footscray', 'Suburb=Forest Hill', 'Suburb=Frankston', 'Suburb=Frankston North', 'Suburb=Frankston South', 'Suburb=Gardenvale', 'Suburb=Gisborne', 'Suburb=Gladstone Park', 'Suburb=Glen Huntly', 'Suburb=Glen Iris', 'Suburb=Glen Waverley', 'Suburb=Glenroy', 'Suburb=Gowanbrae', 'Suburb=Greensborough', 'Suburb=Greenvale', 'Suburb=Hadfield', 'Suburb=Hallam', 'Suburb=Hampton', 'Suburb=Hampton East', 'Suburb=Hampton Park', 'Suburb=Hawthorn', 'Suburb=Hawthorn East', 'Suburb=Heathmont', 'Suburb=Heidelberg', 'Suburb=Heidelberg Heights', 'Suburb=Heidelberg West', 'Suburb=Highett', 'Suburb=Hillside', 'Suburb=Hoppers Crossing', 'Suburb=Hughesdale', 'Suburb=Huntingdale', 'Suburb=Ivanhoe', 'Suburb=Ivanhoe East', 'Suburb=Jacana', 'Suburb=Kealba', 'Suburb=Keilor', 'Suburb=Keilor Downs', 'Suburb=Keilor East', 'Suburb=Keilor Lodge', 'Suburb=Keilor Park', 'Suburb=Kensington', 'Suburb=Kew', 'Suburb=Kew East', 'Suburb=Keysborough', 'Suburb=Kilsyth', 'Suburb=Kings Park', 'Suburb=Kingsbury', 'Suburb=Kingsville', 'Suburb=Knoxfield', 'Suburb=Kooyong', 'Suburb=Kurunjang', 'Suburb=Lalor', 'Suburb=Langwarrin', 'Suburb=Lower Plenty', 'Suburb=Maidstone', 'Suburb=Malvern', 'Suburb=Malvern East', 'Suburb=Maribyrnong', 'Suburb=McKinnon', 'Suburb=Meadow Heights', 'Suburb=Melbourne', 'Suburb=Melton', 'Suburb=Melton South', 'Suburb=Melton West', 'Suburb=Mentone', 'Suburb=Mernda', 'Suburb=Middle Park', 'Suburb=Mill Park', 'Suburb=Mitcham', 'Suburb=Monbulk', 'Suburb=Mont Albert', 'Suburb=Montmorency', 'Suburb=Montrose', 'Suburb=Moonee Ponds', 'Suburb=Moorabbin', 'Suburb=Mooroolbark', 'Suburb=Mordialloc', 'Suburb=Mount Evelyn', 'Suburb=Mount Waverley', 'Suburb=Mulgrave', 'Suburb=Murrumbeena', 'Suburb=Narre Warren', 'Suburb=Newport', 'Suburb=Niddrie', 'Suburb=Noble Park', 'Suburb=North Melbourne', 'Suburb=North Warrandyte', 'Suburb=Northcote', 'Suburb=Notting Hill', 'Suburb=Nunawading', 'Suburb=Oak Park', 'Suburb=Oakleigh', 'Suburb=Oakleigh East', 'Suburb=Oakleigh South', 'Suburb=Officer', 'Suburb=Ormond', 'Suburb=Pakenham', 'Suburb=Parkdale', 'Suburb=Parkville', 'Suburb=Pascoe Vale', 'Suburb=Plumpton', 'Suburb=Point Cook', 'Suburb=Port Melbourne', 'Suburb=Prahran', 'Suburb=Preston', 'Suburb=Princes Hill', 'Suburb=Reservoir', 'Suburb=Richmond', 'Suburb=Ringwood', 'Suburb=Ringwood East', 'Suburb=Ringwood North', 'Suburb=Ripponlea', 'Suburb=Rockbank', 'Suburb=Rosanna', 'Suburb=Rowville', 'Suburb=Roxburgh Park', 'Suburb=Sandhurst', 'Suburb=Sandringham', 'Suburb=Scoresby', 'Suburb=Seabrook', 'Suburb=Seaford', 'Suburb=Seaholme', 'Suburb=Seddon', 'Suburb=Silvan', 'Suburb=Skye', 'Suburb=South Kingsville', 'Suburb=South Melbourne', 'Suburb=South Morang', 'Suburb=South Yarra', 'Suburb=Southbank', 'Suburb=Spotswood', 'Suburb=Springvale', 'Suburb=Springvale South', 'Suburb=St Albans', 'Suburb=St Helena', 'Suburb=St Kilda', 'Suburb=Strathmore', 'Suburb=Strathmore Heights', 'Suburb=Sunbury', 'Suburb=Sunshine', 'Suburb=Sunshine North', 'Suburb=Sunshine West', 'Suburb=Surrey Hills', 'Suburb=Sydenham', 'Suburb=Tarneit', 'Suburb=Taylors Hill', 'Suburb=Taylors Lakes', 'Suburb=Templestowe', 'Suburb=Templestowe Lower', 'Suburb=The Basin', 'Suburb=Thomastown', 'Suburb=Thornbury', 'Suburb=Toorak', 'Suburb=Travancore', 'Suburb=Truganina', 'Suburb=Tullamarine', 'Suburb=Upwey', 'Suburb=Vermont', 'Suburb=Vermont South', 'Suburb=Viewbank', 'Suburb=Wallan', 'Suburb=Wantirna', 'Suburb=Wantirna South', 'Suburb=Warrandyte', 'Suburb=Waterways', 'Suburb=Watsonia', 'Suburb=Watsonia North', 'Suburb=Werribee', 'Suburb=West Footscray', 'Suburb=West Melbourne', 'Suburb=Westmeadows', 'Suburb=Wheelers Hill', 'Suburb=Whittlesea', 'Suburb=Williams Landing', 'Suburb=Williamstown', 'Suburb=Williamstown North', 'Suburb=Windsor', 'Suburb=Wollert', 'Suburb=Wonga Park', 'Suburb=Wyndham Vale', 'Suburb=Yallambie', 'Suburb=Yarra Glen', 'Suburb=Yarraville']\n"
          ]
        }
      ]
    },
    {
      "cell_type": "markdown",
      "source": [
        "### Aplicamos el encoding a las columnas numericas"
      ],
      "metadata": {
        "id": "nIz-UDv449N7"
      }
    },
    {
      "cell_type": "code",
      "source": [
        "X = numpy.hstack([X_cat, melb_df[numerical_cols].values])\n",
        "new_columns.extend(numerical_cols)\n",
        "print(\"Matrix has shape {}, with columns: {}\".format(X_cat.shape, new_columns))"
      ],
      "metadata": {
        "colab": {
          "base_uri": "https://localhost:8080/"
        },
        "id": "LTgz59C35G2T",
        "outputId": "584315e7-0618-469a-a026-9121c3469d47"
      },
      "execution_count": null,
      "outputs": [
        {
          "output_type": "stream",
          "name": "stdout",
          "text": [
            "Matrix has shape (11708, 312), with columns: ['Type=h', 'Type=t', 'Type=u', 'Suburb=Abbotsford', 'Suburb=Aberfeldie', 'Suburb=Airport West', 'Suburb=Albanvale', 'Suburb=Albert Park', 'Suburb=Albion', 'Suburb=Alphington', 'Suburb=Altona', 'Suburb=Altona Meadows', 'Suburb=Altona North', 'Suburb=Ardeer', 'Suburb=Armadale', 'Suburb=Ascot Vale', 'Suburb=Ashburton', 'Suburb=Ashwood', 'Suburb=Aspendale', 'Suburb=Aspendale Gardens', 'Suburb=Attwood', 'Suburb=Avondale Heights', 'Suburb=Balaclava', 'Suburb=Balwyn', 'Suburb=Balwyn North', 'Suburb=Bayswater', 'Suburb=Bayswater North', 'Suburb=Beaconsfield', 'Suburb=Beaconsfield Upper', 'Suburb=Beaumaris', 'Suburb=Bellfield', 'Suburb=Bentleigh', 'Suburb=Bentleigh East', 'Suburb=Berwick', 'Suburb=Black Rock', 'Suburb=Blackburn', 'Suburb=Blackburn North', 'Suburb=Blackburn South', 'Suburb=Bonbeach', 'Suburb=Boronia', 'Suburb=Box Hill', 'Suburb=Braybrook', 'Suburb=Briar Hill', 'Suburb=Brighton', 'Suburb=Brighton East', 'Suburb=Broadmeadows', 'Suburb=Brookfield', 'Suburb=Brooklyn', 'Suburb=Brunswick', 'Suburb=Brunswick East', 'Suburb=Brunswick West', 'Suburb=Bulleen', 'Suburb=Bullengarook', 'Suburb=Bundoora', 'Suburb=Burnley', 'Suburb=Burnside', 'Suburb=Burnside Heights', 'Suburb=Burwood', 'Suburb=Burwood East', 'Suburb=Cairnlea', 'Suburb=Camberwell', 'Suburb=Campbellfield', 'Suburb=Canterbury', 'Suburb=Carlton', 'Suburb=Carlton North', 'Suburb=Carnegie', 'Suburb=Caroline Springs', 'Suburb=Carrum', 'Suburb=Carrum Downs', 'Suburb=Caulfield', 'Suburb=Caulfield East', 'Suburb=Caulfield North', 'Suburb=Caulfield South', 'Suburb=Chadstone', 'Suburb=Chelsea', 'Suburb=Chelsea Heights', 'Suburb=Cheltenham', 'Suburb=Chirnside Park', 'Suburb=Clarinda', 'Suburb=Clayton', 'Suburb=Clayton South', 'Suburb=Clifton Hill', 'Suburb=Coburg', 'Suburb=Coburg North', 'Suburb=Collingwood', 'Suburb=Coolaroo', 'Suburb=Craigieburn', 'Suburb=Cranbourne', 'Suburb=Cranbourne North', 'Suburb=Cremorne', 'Suburb=Croydon', 'Suburb=Croydon Hills', 'Suburb=Croydon North', 'Suburb=Croydon South', 'Suburb=Dallas', 'Suburb=Dandenong', 'Suburb=Dandenong North', 'Suburb=Deepdene', 'Suburb=Deer Park', 'Suburb=Delahey', 'Suburb=Derrimut', 'Suburb=Diamond Creek', 'Suburb=Diggers Rest', 'Suburb=Dingley Village', 'Suburb=Docklands', 'Suburb=Doncaster', 'Suburb=Doncaster East', 'Suburb=Donvale', 'Suburb=Doreen', 'Suburb=Doveton', 'Suburb=Eaglemont', 'Suburb=East Melbourne', 'Suburb=Edithvale', 'Suburb=Elsternwick', 'Suburb=Eltham', 'Suburb=Eltham North', 'Suburb=Elwood', 'Suburb=Emerald', 'Suburb=Endeavour Hills', 'Suburb=Epping', 'Suburb=Essendon', 'Suburb=Essendon North', 'Suburb=Essendon West', 'Suburb=Fairfield', 'Suburb=Fawkner', 'Suburb=Ferntree Gully', 'Suburb=Fitzroy', 'Suburb=Fitzroy North', 'Suburb=Flemington', 'Suburb=Footscray', 'Suburb=Forest Hill', 'Suburb=Frankston', 'Suburb=Frankston North', 'Suburb=Frankston South', 'Suburb=Gardenvale', 'Suburb=Gisborne', 'Suburb=Gladstone Park', 'Suburb=Glen Huntly', 'Suburb=Glen Iris', 'Suburb=Glen Waverley', 'Suburb=Glenroy', 'Suburb=Gowanbrae', 'Suburb=Greensborough', 'Suburb=Greenvale', 'Suburb=Hadfield', 'Suburb=Hallam', 'Suburb=Hampton', 'Suburb=Hampton East', 'Suburb=Hampton Park', 'Suburb=Hawthorn', 'Suburb=Hawthorn East', 'Suburb=Heathmont', 'Suburb=Heidelberg', 'Suburb=Heidelberg Heights', 'Suburb=Heidelberg West', 'Suburb=Highett', 'Suburb=Hillside', 'Suburb=Hoppers Crossing', 'Suburb=Hughesdale', 'Suburb=Huntingdale', 'Suburb=Ivanhoe', 'Suburb=Ivanhoe East', 'Suburb=Jacana', 'Suburb=Kealba', 'Suburb=Keilor', 'Suburb=Keilor Downs', 'Suburb=Keilor East', 'Suburb=Keilor Lodge', 'Suburb=Keilor Park', 'Suburb=Kensington', 'Suburb=Kew', 'Suburb=Kew East', 'Suburb=Keysborough', 'Suburb=Kilsyth', 'Suburb=Kings Park', 'Suburb=Kingsbury', 'Suburb=Kingsville', 'Suburb=Knoxfield', 'Suburb=Kooyong', 'Suburb=Kurunjang', 'Suburb=Lalor', 'Suburb=Langwarrin', 'Suburb=Lower Plenty', 'Suburb=Maidstone', 'Suburb=Malvern', 'Suburb=Malvern East', 'Suburb=Maribyrnong', 'Suburb=McKinnon', 'Suburb=Meadow Heights', 'Suburb=Melbourne', 'Suburb=Melton', 'Suburb=Melton South', 'Suburb=Melton West', 'Suburb=Mentone', 'Suburb=Mernda', 'Suburb=Middle Park', 'Suburb=Mill Park', 'Suburb=Mitcham', 'Suburb=Monbulk', 'Suburb=Mont Albert', 'Suburb=Montmorency', 'Suburb=Montrose', 'Suburb=Moonee Ponds', 'Suburb=Moorabbin', 'Suburb=Mooroolbark', 'Suburb=Mordialloc', 'Suburb=Mount Evelyn', 'Suburb=Mount Waverley', 'Suburb=Mulgrave', 'Suburb=Murrumbeena', 'Suburb=Narre Warren', 'Suburb=Newport', 'Suburb=Niddrie', 'Suburb=Noble Park', 'Suburb=North Melbourne', 'Suburb=North Warrandyte', 'Suburb=Northcote', 'Suburb=Notting Hill', 'Suburb=Nunawading', 'Suburb=Oak Park', 'Suburb=Oakleigh', 'Suburb=Oakleigh East', 'Suburb=Oakleigh South', 'Suburb=Officer', 'Suburb=Ormond', 'Suburb=Pakenham', 'Suburb=Parkdale', 'Suburb=Parkville', 'Suburb=Pascoe Vale', 'Suburb=Plumpton', 'Suburb=Point Cook', 'Suburb=Port Melbourne', 'Suburb=Prahran', 'Suburb=Preston', 'Suburb=Princes Hill', 'Suburb=Reservoir', 'Suburb=Richmond', 'Suburb=Ringwood', 'Suburb=Ringwood East', 'Suburb=Ringwood North', 'Suburb=Ripponlea', 'Suburb=Rockbank', 'Suburb=Rosanna', 'Suburb=Rowville', 'Suburb=Roxburgh Park', 'Suburb=Sandhurst', 'Suburb=Sandringham', 'Suburb=Scoresby', 'Suburb=Seabrook', 'Suburb=Seaford', 'Suburb=Seaholme', 'Suburb=Seddon', 'Suburb=Silvan', 'Suburb=Skye', 'Suburb=South Kingsville', 'Suburb=South Melbourne', 'Suburb=South Morang', 'Suburb=South Yarra', 'Suburb=Southbank', 'Suburb=Spotswood', 'Suburb=Springvale', 'Suburb=Springvale South', 'Suburb=St Albans', 'Suburb=St Helena', 'Suburb=St Kilda', 'Suburb=Strathmore', 'Suburb=Strathmore Heights', 'Suburb=Sunbury', 'Suburb=Sunshine', 'Suburb=Sunshine North', 'Suburb=Sunshine West', 'Suburb=Surrey Hills', 'Suburb=Sydenham', 'Suburb=Tarneit', 'Suburb=Taylors Hill', 'Suburb=Taylors Lakes', 'Suburb=Templestowe', 'Suburb=Templestowe Lower', 'Suburb=The Basin', 'Suburb=Thomastown', 'Suburb=Thornbury', 'Suburb=Toorak', 'Suburb=Travancore', 'Suburb=Truganina', 'Suburb=Tullamarine', 'Suburb=Upwey', 'Suburb=Vermont', 'Suburb=Vermont South', 'Suburb=Viewbank', 'Suburb=Wallan', 'Suburb=Wantirna', 'Suburb=Wantirna South', 'Suburb=Warrandyte', 'Suburb=Waterways', 'Suburb=Watsonia', 'Suburb=Watsonia North', 'Suburb=Werribee', 'Suburb=West Footscray', 'Suburb=West Melbourne', 'Suburb=Westmeadows', 'Suburb=Wheelers Hill', 'Suburb=Whittlesea', 'Suburb=Williams Landing', 'Suburb=Williamstown', 'Suburb=Williamstown North', 'Suburb=Windsor', 'Suburb=Wollert', 'Suburb=Wonga Park', 'Suburb=Wyndham Vale', 'Suburb=Yallambie', 'Suburb=Yarra Glen', 'Suburb=Yarraville', 'Rooms', 'Price', 'Postcode', 'Car', 'Landsize', 'BuildingArea', 'YearBuilt', 'Lattitude', 'Longtitude', 'zipcode', 'airbnb_record_count', 'airbnb_price_mean', 'airbnb_price_max']\n"
          ]
        }
      ]
    },
    {
      "cell_type": "markdown",
      "source": [
        "### Agregamos las 3 primeras columnas del PCA"
      ],
      "metadata": {
        "id": "yMqSOU1h52_s"
      }
    },
    {
      "cell_type": "code",
      "source": [
        "X_pca = numpy.hstack([X, proyecciones.PC1.values.reshape(X.shape[0],1),\\\n",
        "                   proyecciones.PC2.values.reshape(X.shape[0],1),\\\n",
        "                   proyecciones.PC3.values.reshape(X.shape[0],1)])\n",
        "new_columns.extend(['pca1', 'pca2', 'pca3'])"
      ],
      "metadata": {
        "id": "BdNiBhaG536z"
      },
      "execution_count": null,
      "outputs": []
    },
    {
      "cell_type": "markdown",
      "source": [
        "### Por ultimo reconstruimos el Dataframe"
      ],
      "metadata": {
        "id": "8Bk9wdmh7xe_"
      }
    },
    {
      "cell_type": "code",
      "source": [
        "processed_melb_df = pd.DataFrame(data=X_pca, columns=new_columns)\n",
        "processed_melb_df.head()"
      ],
      "metadata": {
        "colab": {
          "base_uri": "https://localhost:8080/",
          "height": 317
        },
        "id": "grlrkfNk725-",
        "outputId": "6b4bb9a1-8d8b-4e42-ab78-0f0c91821e9a"
      },
      "execution_count": null,
      "outputs": [
        {
          "output_type": "execute_result",
          "data": {
            "text/plain": [
              "   Type=h  Type=t  Type=u  Suburb=Abbotsford  Suburb=Aberfeldie  \\\n",
              "0     1.0     0.0     0.0                1.0                0.0   \n",
              "1     1.0     0.0     0.0                1.0                0.0   \n",
              "2     1.0     0.0     0.0                1.0                0.0   \n",
              "3     1.0     0.0     0.0                1.0                0.0   \n",
              "4     1.0     0.0     0.0                1.0                0.0   \n",
              "\n",
              "   Suburb=Airport West  Suburb=Albanvale  Suburb=Albert Park  Suburb=Albion  \\\n",
              "0                  0.0               0.0                 0.0            0.0   \n",
              "1                  0.0               0.0                 0.0            0.0   \n",
              "2                  0.0               0.0                 0.0            0.0   \n",
              "3                  0.0               0.0                 0.0            0.0   \n",
              "4                  0.0               0.0                 0.0            0.0   \n",
              "\n",
              "   Suburb=Alphington  ...  YearBuilt  Lattitude  Longtitude  zipcode  \\\n",
              "0                0.0  ...        NaN   -37.7996    144.9984   3067.0   \n",
              "1                0.0  ...     1900.0   -37.8079    144.9934   3067.0   \n",
              "2                0.0  ...     1900.0   -37.8093    144.9944   3067.0   \n",
              "3                0.0  ...        NaN   -37.7969    144.9969   3067.0   \n",
              "4                0.0  ...     2014.0   -37.8072    144.9941   3067.0   \n",
              "\n",
              "   airbnb_record_count  airbnb_price_mean  airbnb_price_max      pca1  \\\n",
              "0                247.0         111.295547             336.0 -1.540370   \n",
              "1                247.0         111.295547             336.0 -2.131544   \n",
              "2                247.0         111.295547             336.0 -1.614599   \n",
              "3                247.0         111.295547             336.0 -0.635051   \n",
              "4                247.0         111.295547             336.0  0.302467   \n",
              "\n",
              "       pca2      pca3  \n",
              "0  0.517192 -1.292155  \n",
              "1 -0.421643 -1.743978  \n",
              "2  0.935044 -2.196977  \n",
              "3 -0.508869  0.554571  \n",
              "4  1.541959  0.603908  \n",
              "\n",
              "[5 rows x 328 columns]"
            ],
            "text/html": [
              "\n",
              "  <div id=\"df-3799e32e-63c0-4d76-b1c1-9e1e761ed681\">\n",
              "    <div class=\"colab-df-container\">\n",
              "      <div>\n",
              "<style scoped>\n",
              "    .dataframe tbody tr th:only-of-type {\n",
              "        vertical-align: middle;\n",
              "    }\n",
              "\n",
              "    .dataframe tbody tr th {\n",
              "        vertical-align: top;\n",
              "    }\n",
              "\n",
              "    .dataframe thead th {\n",
              "        text-align: right;\n",
              "    }\n",
              "</style>\n",
              "<table border=\"1\" class=\"dataframe\">\n",
              "  <thead>\n",
              "    <tr style=\"text-align: right;\">\n",
              "      <th></th>\n",
              "      <th>Type=h</th>\n",
              "      <th>Type=t</th>\n",
              "      <th>Type=u</th>\n",
              "      <th>Suburb=Abbotsford</th>\n",
              "      <th>Suburb=Aberfeldie</th>\n",
              "      <th>Suburb=Airport West</th>\n",
              "      <th>Suburb=Albanvale</th>\n",
              "      <th>Suburb=Albert Park</th>\n",
              "      <th>Suburb=Albion</th>\n",
              "      <th>Suburb=Alphington</th>\n",
              "      <th>...</th>\n",
              "      <th>YearBuilt</th>\n",
              "      <th>Lattitude</th>\n",
              "      <th>Longtitude</th>\n",
              "      <th>zipcode</th>\n",
              "      <th>airbnb_record_count</th>\n",
              "      <th>airbnb_price_mean</th>\n",
              "      <th>airbnb_price_max</th>\n",
              "      <th>pca1</th>\n",
              "      <th>pca2</th>\n",
              "      <th>pca3</th>\n",
              "    </tr>\n",
              "  </thead>\n",
              "  <tbody>\n",
              "    <tr>\n",
              "      <th>0</th>\n",
              "      <td>1.0</td>\n",
              "      <td>0.0</td>\n",
              "      <td>0.0</td>\n",
              "      <td>1.0</td>\n",
              "      <td>0.0</td>\n",
              "      <td>0.0</td>\n",
              "      <td>0.0</td>\n",
              "      <td>0.0</td>\n",
              "      <td>0.0</td>\n",
              "      <td>0.0</td>\n",
              "      <td>...</td>\n",
              "      <td>NaN</td>\n",
              "      <td>-37.7996</td>\n",
              "      <td>144.9984</td>\n",
              "      <td>3067.0</td>\n",
              "      <td>247.0</td>\n",
              "      <td>111.295547</td>\n",
              "      <td>336.0</td>\n",
              "      <td>-1.540370</td>\n",
              "      <td>0.517192</td>\n",
              "      <td>-1.292155</td>\n",
              "    </tr>\n",
              "    <tr>\n",
              "      <th>1</th>\n",
              "      <td>1.0</td>\n",
              "      <td>0.0</td>\n",
              "      <td>0.0</td>\n",
              "      <td>1.0</td>\n",
              "      <td>0.0</td>\n",
              "      <td>0.0</td>\n",
              "      <td>0.0</td>\n",
              "      <td>0.0</td>\n",
              "      <td>0.0</td>\n",
              "      <td>0.0</td>\n",
              "      <td>...</td>\n",
              "      <td>1900.0</td>\n",
              "      <td>-37.8079</td>\n",
              "      <td>144.9934</td>\n",
              "      <td>3067.0</td>\n",
              "      <td>247.0</td>\n",
              "      <td>111.295547</td>\n",
              "      <td>336.0</td>\n",
              "      <td>-2.131544</td>\n",
              "      <td>-0.421643</td>\n",
              "      <td>-1.743978</td>\n",
              "    </tr>\n",
              "    <tr>\n",
              "      <th>2</th>\n",
              "      <td>1.0</td>\n",
              "      <td>0.0</td>\n",
              "      <td>0.0</td>\n",
              "      <td>1.0</td>\n",
              "      <td>0.0</td>\n",
              "      <td>0.0</td>\n",
              "      <td>0.0</td>\n",
              "      <td>0.0</td>\n",
              "      <td>0.0</td>\n",
              "      <td>0.0</td>\n",
              "      <td>...</td>\n",
              "      <td>1900.0</td>\n",
              "      <td>-37.8093</td>\n",
              "      <td>144.9944</td>\n",
              "      <td>3067.0</td>\n",
              "      <td>247.0</td>\n",
              "      <td>111.295547</td>\n",
              "      <td>336.0</td>\n",
              "      <td>-1.614599</td>\n",
              "      <td>0.935044</td>\n",
              "      <td>-2.196977</td>\n",
              "    </tr>\n",
              "    <tr>\n",
              "      <th>3</th>\n",
              "      <td>1.0</td>\n",
              "      <td>0.0</td>\n",
              "      <td>0.0</td>\n",
              "      <td>1.0</td>\n",
              "      <td>0.0</td>\n",
              "      <td>0.0</td>\n",
              "      <td>0.0</td>\n",
              "      <td>0.0</td>\n",
              "      <td>0.0</td>\n",
              "      <td>0.0</td>\n",
              "      <td>...</td>\n",
              "      <td>NaN</td>\n",
              "      <td>-37.7969</td>\n",
              "      <td>144.9969</td>\n",
              "      <td>3067.0</td>\n",
              "      <td>247.0</td>\n",
              "      <td>111.295547</td>\n",
              "      <td>336.0</td>\n",
              "      <td>-0.635051</td>\n",
              "      <td>-0.508869</td>\n",
              "      <td>0.554571</td>\n",
              "    </tr>\n",
              "    <tr>\n",
              "      <th>4</th>\n",
              "      <td>1.0</td>\n",
              "      <td>0.0</td>\n",
              "      <td>0.0</td>\n",
              "      <td>1.0</td>\n",
              "      <td>0.0</td>\n",
              "      <td>0.0</td>\n",
              "      <td>0.0</td>\n",
              "      <td>0.0</td>\n",
              "      <td>0.0</td>\n",
              "      <td>0.0</td>\n",
              "      <td>...</td>\n",
              "      <td>2014.0</td>\n",
              "      <td>-37.8072</td>\n",
              "      <td>144.9941</td>\n",
              "      <td>3067.0</td>\n",
              "      <td>247.0</td>\n",
              "      <td>111.295547</td>\n",
              "      <td>336.0</td>\n",
              "      <td>0.302467</td>\n",
              "      <td>1.541959</td>\n",
              "      <td>0.603908</td>\n",
              "    </tr>\n",
              "  </tbody>\n",
              "</table>\n",
              "<p>5 rows × 328 columns</p>\n",
              "</div>\n",
              "      <button class=\"colab-df-convert\" onclick=\"convertToInteractive('df-3799e32e-63c0-4d76-b1c1-9e1e761ed681')\"\n",
              "              title=\"Convert this dataframe to an interactive table.\"\n",
              "              style=\"display:none;\">\n",
              "        \n",
              "  <svg xmlns=\"http://www.w3.org/2000/svg\" height=\"24px\"viewBox=\"0 0 24 24\"\n",
              "       width=\"24px\">\n",
              "    <path d=\"M0 0h24v24H0V0z\" fill=\"none\"/>\n",
              "    <path d=\"M18.56 5.44l.94 2.06.94-2.06 2.06-.94-2.06-.94-.94-2.06-.94 2.06-2.06.94zm-11 1L8.5 8.5l.94-2.06 2.06-.94-2.06-.94L8.5 2.5l-.94 2.06-2.06.94zm10 10l.94 2.06.94-2.06 2.06-.94-2.06-.94-.94-2.06-.94 2.06-2.06.94z\"/><path d=\"M17.41 7.96l-1.37-1.37c-.4-.4-.92-.59-1.43-.59-.52 0-1.04.2-1.43.59L10.3 9.45l-7.72 7.72c-.78.78-.78 2.05 0 2.83L4 21.41c.39.39.9.59 1.41.59.51 0 1.02-.2 1.41-.59l7.78-7.78 2.81-2.81c.8-.78.8-2.07 0-2.86zM5.41 20L4 18.59l7.72-7.72 1.47 1.35L5.41 20z\"/>\n",
              "  </svg>\n",
              "      </button>\n",
              "      \n",
              "  <style>\n",
              "    .colab-df-container {\n",
              "      display:flex;\n",
              "      flex-wrap:wrap;\n",
              "      gap: 12px;\n",
              "    }\n",
              "\n",
              "    .colab-df-convert {\n",
              "      background-color: #E8F0FE;\n",
              "      border: none;\n",
              "      border-radius: 50%;\n",
              "      cursor: pointer;\n",
              "      display: none;\n",
              "      fill: #1967D2;\n",
              "      height: 32px;\n",
              "      padding: 0 0 0 0;\n",
              "      width: 32px;\n",
              "    }\n",
              "\n",
              "    .colab-df-convert:hover {\n",
              "      background-color: #E2EBFA;\n",
              "      box-shadow: 0px 1px 2px rgba(60, 64, 67, 0.3), 0px 1px 3px 1px rgba(60, 64, 67, 0.15);\n",
              "      fill: #174EA6;\n",
              "    }\n",
              "\n",
              "    [theme=dark] .colab-df-convert {\n",
              "      background-color: #3B4455;\n",
              "      fill: #D2E3FC;\n",
              "    }\n",
              "\n",
              "    [theme=dark] .colab-df-convert:hover {\n",
              "      background-color: #434B5C;\n",
              "      box-shadow: 0px 1px 3px 1px rgba(0, 0, 0, 0.15);\n",
              "      filter: drop-shadow(0px 1px 2px rgba(0, 0, 0, 0.3));\n",
              "      fill: #FFFFFF;\n",
              "    }\n",
              "  </style>\n",
              "\n",
              "      <script>\n",
              "        const buttonEl =\n",
              "          document.querySelector('#df-3799e32e-63c0-4d76-b1c1-9e1e761ed681 button.colab-df-convert');\n",
              "        buttonEl.style.display =\n",
              "          google.colab.kernel.accessAllowed ? 'block' : 'none';\n",
              "\n",
              "        async function convertToInteractive(key) {\n",
              "          const element = document.querySelector('#df-3799e32e-63c0-4d76-b1c1-9e1e761ed681');\n",
              "          const dataTable =\n",
              "            await google.colab.kernel.invokeFunction('convertToInteractive',\n",
              "                                                     [key], {});\n",
              "          if (!dataTable) return;\n",
              "\n",
              "          const docLinkHtml = 'Like what you see? Visit the ' +\n",
              "            '<a target=\"_blank\" href=https://colab.research.google.com/notebooks/data_table.ipynb>data table notebook</a>'\n",
              "            + ' to learn more about interactive tables.';\n",
              "          element.innerHTML = '';\n",
              "          dataTable['output_type'] = 'display_data';\n",
              "          await google.colab.output.renderOutput(dataTable, element);\n",
              "          const docLink = document.createElement('div');\n",
              "          docLink.innerHTML = docLinkHtml;\n",
              "          element.appendChild(docLink);\n",
              "        }\n",
              "      </script>\n",
              "    </div>\n",
              "  </div>\n",
              "  "
            ]
          },
          "metadata": {},
          "execution_count": 37
        }
      ]
    },
    {
      "cell_type": "markdown",
      "metadata": {
        "id": "mVBLFc8PhRtW"
      },
      "source": [
        "## Ejercicio 5: Documentación\n",
        "\n",
        "En un documento `.pdf` o `.md` realizar un reporte de las operaciones que realizaron para obtener el conjunto de datos final. Se debe incluir:\n",
        "  1. Criterios de exclusión (o inclusión) de filas\n",
        "  2. Interpretación de las columnas presentes\n",
        "  2. Todas las transofrmaciones realizadas\n",
        "\n",
        "Este documento es de uso técnico exclusivamente, y su objetivo es permitir que otres desarrolladores puedan reproducir los mismos pasos y obtener el mismo resultado. Debe ser detallado pero consiso. Por ejemplo:\n"
      ]
    }
  ],
  "metadata": {
    "colab": {
      "collapsed_sections": [],
      "provenance": []
    },
    "kernelspec": {
      "display_name": "Python 3",
      "name": "python3"
    },
    "language_info": {
      "name": "python"
    }
  },
  "nbformat": 4,
  "nbformat_minor": 0
}